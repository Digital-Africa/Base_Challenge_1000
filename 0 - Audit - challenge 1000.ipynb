{
 "cells": [
  {
   "cell_type": "code",
   "execution_count": 28,
   "metadata": {},
   "outputs": [],
   "source": [
    "import challenge1000\n",
    "import pandas"
   ]
  },
  {
   "cell_type": "code",
   "execution_count": 29,
   "metadata": {},
   "outputs": [],
   "source": [
    "raw = pandas.read_csv(challenge1000.RefEnv().transformed.format('df1_clean.csv')).set_index('key_main')\n",
    "raw = raw.drop('Unnamed: 0', axis = 1)"
   ]
  },
  {
   "cell_type": "code",
   "execution_count": 30,
   "metadata": {},
   "outputs": [
    {
     "name": "stdout",
     "output_type": "stream",
     "text": [
      "/Volumes/GoogleDrive/My Drive/Open Data Platform/DATA/SCHEMA/star_schema.json\n"
     ]
    }
   ],
   "source": [
    "sch = challenge1000.RefEnv().get_schema()"
   ]
  },
  {
   "cell_type": "code",
   "execution_count": 31,
   "metadata": {},
   "outputs": [
    {
     "data": {
      "text/plain": [
       "dict_keys(['labels', 'template', 'team', 'url_descriptions_formal', 'descriptions_raw', 'descriptions_traduction', 'finance', 'structure', 'people', 'digital_ponctual'])"
      ]
     },
     "execution_count": 31,
     "metadata": {},
     "output_type": "execute_result"
    }
   ],
   "source": [
    "sch.keys()"
   ]
  },
  {
   "cell_type": "code",
   "execution_count": 32,
   "metadata": {},
   "outputs": [
    {
     "data": {
      "text/html": [
       "<div>\n",
       "<style scoped>\n",
       "    .dataframe tbody tr th:only-of-type {\n",
       "        vertical-align: middle;\n",
       "    }\n",
       "\n",
       "    .dataframe tbody tr th {\n",
       "        vertical-align: top;\n",
       "    }\n",
       "\n",
       "    .dataframe thead th {\n",
       "        text-align: right;\n",
       "    }\n",
       "</style>\n",
       "<table border=\"1\" class=\"dataframe\">\n",
       "  <thead>\n",
       "    <tr style=\"text-align: right;\">\n",
       "      <th></th>\n",
       "      <th>label</th>\n",
       "      <th>variable</th>\n",
       "    </tr>\n",
       "    <tr>\n",
       "      <th>index</th>\n",
       "      <th></th>\n",
       "      <th></th>\n",
       "    </tr>\n",
       "  </thead>\n",
       "  <tbody>\n",
       "    <tr>\n",
       "      <th>labels_categories</th>\n",
       "      <td>labels</td>\n",
       "      <td>categories</td>\n",
       "    </tr>\n",
       "    <tr>\n",
       "      <th>template_temp</th>\n",
       "      <td>template</td>\n",
       "      <td>temp</td>\n",
       "    </tr>\n",
       "    <tr>\n",
       "      <th>team_empl_h_struc</th>\n",
       "      <td>team</td>\n",
       "      <td>empl_h_struc</td>\n",
       "    </tr>\n",
       "    <tr>\n",
       "      <th>team_empl_f_struc</th>\n",
       "      <td>team</td>\n",
       "      <td>empl_f_struc</td>\n",
       "    </tr>\n",
       "    <tr>\n",
       "      <th>url_descriptions_formal_prez_doc_struc</th>\n",
       "      <td>url_descriptions_formal</td>\n",
       "      <td>prez_doc_struc</td>\n",
       "    </tr>\n",
       "    <tr>\n",
       "      <th>...</th>\n",
       "      <td>...</td>\n",
       "      <td>...</td>\n",
       "    </tr>\n",
       "    <tr>\n",
       "      <th>digital_ponctual_updated_by_digitafr</th>\n",
       "      <td>digital_ponctual</td>\n",
       "      <td>updated_by_digitafr</td>\n",
       "    </tr>\n",
       "    <tr>\n",
       "      <th>digital_ponctual_draft_digitafr</th>\n",
       "      <td>digital_ponctual</td>\n",
       "      <td>draft_digitafr</td>\n",
       "    </tr>\n",
       "    <tr>\n",
       "      <th>digital_ponctual_ip_digitafr</th>\n",
       "      <td>digital_ponctual</td>\n",
       "      <td>ip_digitafr</td>\n",
       "    </tr>\n",
       "    <tr>\n",
       "      <th>digital_ponctual_id_digitafr</th>\n",
       "      <td>digital_ponctual</td>\n",
       "      <td>id_digitafr</td>\n",
       "    </tr>\n",
       "    <tr>\n",
       "      <th>digital_ponctual_key_digitafr</th>\n",
       "      <td>digital_ponctual</td>\n",
       "      <td>key_digitafr</td>\n",
       "    </tr>\n",
       "  </tbody>\n",
       "</table>\n",
       "<p>97 rows × 2 columns</p>\n",
       "</div>"
      ],
      "text/plain": [
       "                                                          label  \\\n",
       "index                                                             \n",
       "labels_categories                                        labels   \n",
       "template_temp                                          template   \n",
       "team_empl_h_struc                                          team   \n",
       "team_empl_f_struc                                          team   \n",
       "url_descriptions_formal_prez_doc_struc  url_descriptions_formal   \n",
       "...                                                         ...   \n",
       "digital_ponctual_updated_by_digitafr           digital_ponctual   \n",
       "digital_ponctual_draft_digitafr                digital_ponctual   \n",
       "digital_ponctual_ip_digitafr                   digital_ponctual   \n",
       "digital_ponctual_id_digitafr                   digital_ponctual   \n",
       "digital_ponctual_key_digitafr                  digital_ponctual   \n",
       "\n",
       "                                                   variable  \n",
       "index                                                        \n",
       "labels_categories                                categories  \n",
       "template_temp                                          temp  \n",
       "team_empl_h_struc                              empl_h_struc  \n",
       "team_empl_f_struc                              empl_f_struc  \n",
       "url_descriptions_formal_prez_doc_struc       prez_doc_struc  \n",
       "...                                                     ...  \n",
       "digital_ponctual_updated_by_digitafr    updated_by_digitafr  \n",
       "digital_ponctual_draft_digitafr              draft_digitafr  \n",
       "digital_ponctual_ip_digitafr                    ip_digitafr  \n",
       "digital_ponctual_id_digitafr                    id_digitafr  \n",
       "digital_ponctual_key_digitafr                  key_digitafr  \n",
       "\n",
       "[97 rows x 2 columns]"
      ]
     },
     "execution_count": 32,
     "metadata": {},
     "output_type": "execute_result"
    }
   ],
   "source": [
    "var = []\n",
    "for element in sch:\n",
    "    var = var + [[element, e] for e in sch[element]]\n",
    "\n",
    "var_map = pandas.DataFrame(var, columns =['label', 'variable'])\n",
    "var_map['index'] = var_map['label']+'_'+var_map['variable']\n",
    "var_map = var_map.set_index('index')\n",
    "\n",
    "var_map"
   ]
  },
  {
   "cell_type": "code",
   "execution_count": 33,
   "metadata": {},
   "outputs": [
    {
     "data": {
      "text/plain": [
       "reco_digitafr            100.000000\n",
       "cgu_digitafr             100.000000\n",
       "nwsl_digitafr            100.000000\n",
       "compte_label_digitafr     97.999420\n",
       "compte_digitafr           97.999420\n",
       "mdp_digitafr               0.000000\n",
       "iduser_digitafr           16.439548\n",
       "time_digitafr            100.000000\n",
       "last_update_digitafr     100.000000\n",
       "created_by_digitafr       16.439548\n",
       "updated_by_digitafr       16.439548\n",
       "draft_digitafr           100.000000\n",
       "ip_digitafr              100.000000\n",
       "id_digitafr              100.000000\n",
       "key_digitafr             100.000000\n",
       "dtype: float64"
      ]
     },
     "execution_count": 33,
     "metadata": {},
     "output_type": "execute_result"
    }
   ],
   "source": [
    "header = [e for e in sch['digital_ponctual'] if e in raw.keys()]\n",
    "100 - raw[header].isna().sum()*100/len(raw)"
   ]
  },
  {
   "cell_type": "code",
   "execution_count": 34,
   "metadata": {},
   "outputs": [],
   "source": [
    "def completion_rate(type_file):\n",
    "    h = [e for e in sch[type_file] if e in raw.keys()]\n",
    "    target = raw[h]\n",
    "    rate = 100-target.isna().sum()*100/len(target)\n",
    "    rate = pandas.DataFrame(rate, columns =['completion rate'])\n",
    "    rate['file'] = type_file\n",
    "    rate = rate.reset_index()\n",
    "    rate['variable'] = rate['index']\n",
    "    rate['index'] = rate['file']+'_'+rate['variable']\n",
    "    rate = rate[['completion rate', 'file', 'index']].set_index('index')\n",
    "    return rate\n",
    "\n",
    "def type_variable(type_file):\n",
    "    h = [e for e in sch[type_file] if e in raw.keys()]\n",
    "    target = raw[h]\n",
    "    header = [['index', 'file', 'variable', 'type', 'nombre de type var']]\n",
    "    for e in target:\n",
    "        t_var = list({str(type(a)) for a in set(target[e])})\n",
    "        nbr_t = len(t_var)\n",
    "        t_var = '/'.join(t_var)\n",
    "        header = header +[[type_file +'_'+e, type_file, e,t_var,nbr_t]]\n",
    "    target = pandas.DataFrame(header[1:], columns = header[0]).set_index('index')\n",
    "    target = target.drop(['variable','file'], axis =1 )\n",
    "    return target\n",
    "\n",
    "def describe_data(type_file):\n",
    "    h = [e for e in sch[type_file] if e in raw.keys()]\n",
    "    try:\n",
    "        target = raw[h].describe().transpose().reset_index()\n",
    "        target['variable'] = target['index']\n",
    "        target['index'] = type_file + '_' + target['index']\n",
    "        target = target.set_index('index')\n",
    "        target = target.drop('variable', axis =1 )\n",
    "        return target\n",
    "    except:\n",
    "        pass\n"
   ]
  },
  {
   "cell_type": "code",
   "execution_count": 46,
   "metadata": {},
   "outputs": [],
   "source": [
    "df_target = var_map.join(pandas.concat([completion_rate(e) for e in sch], axis = 0))\n",
    "df_target = df_target.join(pandas.concat([describe_data(e) for e in sch], axis = 0))\n",
    "df_target = df_target.join(pandas.concat([type_variable(type_file)for type_file in set(sch)], axis = 0))\n",
    "df_target['platform'] = 'Challenge 1000'\n",
    "for element in ['completion rate', 'count', 'mean', 'std','min', '25%', '50%', '75%', 'max', 'unique', 'freq','nombre de type var']:\n",
    "    df_target[element] = df_target[element].map(float)\n",
    "df_target.fillna('', inplace = True)"
   ]
  },
  {
   "cell_type": "code",
   "execution_count": 47,
   "metadata": {},
   "outputs": [
    {
     "name": "stdout",
     "output_type": "stream",
     "text": [
      "https://docs.google.com/spreadsheets/d/1f4nrE397_sFVEPAuUYnUAdwmBs_HTMh56dnthT3w84A/edit#gid=0\n"
     ]
    }
   ],
   "source": [
    "from DA_IO import Gspreadsheet\n",
    "worksheet_name = 'audit data'\n",
    "gsp = Gspreadsheet(worksheet_name)\n",
    "#gsp.create()\n",
    "sheet_name = 'challenge 1000'\n",
    "#gsp.add_sheet(sheet_name)\n",
    "gsp.df_to_sheet(df = df_target, sheet_name = sheet_name)"
   ]
  }
 ],
 "metadata": {
  "kernelspec": {
   "display_name": "Python 3",
   "language": "python",
   "name": "python3"
  },
  "language_info": {
   "codemirror_mode": {
    "name": "ipython",
    "version": 3
   },
   "file_extension": ".py",
   "mimetype": "text/x-python",
   "name": "python",
   "nbconvert_exporter": "python",
   "pygments_lexer": "ipython3",
   "version": "3.7.3"
  }
 },
 "nbformat": 4,
 "nbformat_minor": 2
}

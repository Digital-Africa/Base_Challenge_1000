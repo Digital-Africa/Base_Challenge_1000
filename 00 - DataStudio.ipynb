{
 "cells": [
  {
   "cell_type": "code",
   "execution_count": 15,
   "metadata": {},
   "outputs": [
    {
     "name": "stdout",
     "output_type": "stream",
     "text": [
      "Project ID:  web-services-d4-digital-africa\n",
      "Service Account Email:  main-d4da@web-services-d4-digital-africa.iam.gserviceaccount.com\n"
     ]
    }
   ],
   "source": [
    "from DA_IO import Gspreadsheet\n",
    "data = Gspreadsheet('BIG_Challenge1000').sheet_to_df()\n"
   ]
  },
  {
   "cell_type": "code",
   "execution_count": 16,
   "metadata": {},
   "outputs": [
    {
     "data": {
      "text/plain": [
       "Index(['key_main', 'Nationalité', 'Prénom', 'Nom', 'email_pers', 'mobile_pers',\n",
       "       'fixe_pers', 'linkedin_pers', 'twitter_pers', 'nom_struc', 'date_struc',\n",
       "       'cat_sub1_struc', 'cat_sub2_struc', 'cat_sub3_struc', 'cat_struc',\n",
       "       'cat_autre_struc', 'site_struc', 'prez_struc', 'prez_produit_struc',\n",
       "       'catégorie', 'champions', 'rank', 'RESILIENT',\n",
       "       'Solution numérique - Moy', 'Tech4Good - Moy', 'MOYENNE NOTE'],\n",
       "      dtype='object')"
      ]
     },
     "execution_count": 16,
     "metadata": {},
     "output_type": "execute_result"
    }
   ],
   "source": [
    "data.keys()"
   ]
  },
  {
   "cell_type": "code",
   "execution_count": 26,
   "metadata": {},
   "outputs": [
    {
     "name": "stdout",
     "output_type": "stream",
     "text": [
      "cat_sub2_struc\n"
     ]
    },
    {
     "data": {
      "text/plain": [
       "{'Accéder aux services essentiels',\n",
       " 'Aménager et embellir la ville',\n",
       " 'Autres',\n",
       " 'Connecter la ville',\n",
       " 'Financer et structurer les projets',\n",
       " 'Nourrir les villes',\n",
       " 'Vivre dans la ville'}"
      ]
     },
     "execution_count": 26,
     "metadata": {},
     "output_type": "execute_result"
    }
   ],
   "source": [
    "col = ['Prénom', 'Nom', 'nom_struc', 'Nationalité','cat_sub1_struc', 'cat_sub2_struc', 'cat_sub3_struc', 'cat_struc','cat_autre_struc','catégorie','prez_struc', 'prez_produit_struc']\n",
    "header = col\n",
    "i=5\n",
    "print(col[i])\n",
    "set(data[col[i]])"
   ]
  },
  {
   "cell_type": "code",
   "execution_count": 18,
   "metadata": {},
   "outputs": [
    {
     "name": "stdout",
     "output_type": "stream",
     "text": [
      "{'', 'Accéder aux services essentiels\\n', 'Living in the city', 'Financing and structuring projects', 'Vivre dans la ville\\n', 'Connecting the city', 'Connecter la ville\\n', 'Nourrir les villes', 'Nourrir les villes\\n', 'Financer et structurer les projets', 'Moving around the city', 'Building and enhancing the city', 'Feeding the city', 'Financer et structurer les projets\\n', 'Access to essential services', 'Connecter la ville', 'Se déplacer dans la ville / visiter la ville', 'Accéder aux services essentiels', 'Vivre dans la ville', 'Aménager et embellir la ville', 'Aménager et embellir la ville\\n'}\n"
     ]
    }
   ],
   "source": [
    "print(set(data[col[4]]).union(set(data[col[5]])))\n",
    "unifier_dict = {'Autres': ['', 'Autre (précisez)', '\\n\\n', 'Other - please specify', 'Autre (précisez)\\n', 'autre (précisez)'],\n",
    " 'Agriculture':[ 'Agriculture, territoires ruraux et ressources naturelles\\n', 'Agriculture, territoires ruraux et ressources naturelles', 'Agriculture, rural areas and natural resources'],\n",
    " 'Energie': ['Energie','Energy'],\n",
    " 'Santé': ['Health, well-being and social protection', 'Santé, bien être, et protection sociale\\n', 'Santé, bien être, et protection sociale'],\n",
    " 'Fintech':['Fintech'],\n",
    " 'Technologie': [ 'Technologies émergentes','Emerging technologies'],\n",
    " 'Mobilité - Gestion du territoire':[ 'Territoires intelligents et mobilité','Territoires intelligents et mobilité\\n' ,'Bâtiment'],\n",
    " 'GovTech':[ 'Gouvernement ouvert et transformation sociale'],\n",
    " 'Education': [ 'Education, vocational training and employment', 'Education, formation professionnelle et emploi'],\n",
    " 'Environnement': [ 'Energie accessible à moindre cout, Assainissement de la ville, lutte contre la deforestation et le rechauffement climatique, economie circulaire','Environnement (gestion des déchets et recyclage) et nouvelles technologies (interface mobile de gestion des déchets)'],\n",
    " 'E-commerce': [ 'E-commerce, marketing and distribution', 'E-commerce, marketing et distribution', 'E-commerce, marketing et distribution\\n'],\n",
    " 'Accéder aux services essentiels':['Access to essential services', 'Accéder aux services essentiels','Accéder aux services essentiels\\n'],\n",
    " 'Aménager et embellir la ville':['Aménager et embellir la ville','Aménager et embellir la ville\\n', 'Building and enhancing the city'],\n",
    " 'Connecter la ville':['Connecter la ville', 'Connecting the city'],\n",
    " 'Financer et structurer les projets':['Financer et structurer les projets', 'Financer et structurer les projets\\n', 'Financing and structuring projects'],\n",
    " 'Vivre dans la ville':['Living in the city','Vivre dans la ville', 'Vivre dans la ville\\n'],\n",
    " 'Nourrir les villes':['Feeding the city','Nourrir les villes'],\n",
    "}"
   ]
  },
  {
   "cell_type": "code",
   "execution_count": 19,
   "metadata": {},
   "outputs": [],
   "source": [
    "def unify(element):\n",
    "    for theme in unifier_dict:\n",
    "        if element in unifier_dict[theme]:\n",
    "            return theme\n",
    "        "
   ]
  },
  {
   "cell_type": "code",
   "execution_count": 20,
   "metadata": {},
   "outputs": [
    {
     "name": "stdout",
     "output_type": "stream",
     "text": [
      "Feeding the city\n"
     ]
    },
    {
     "data": {
      "text/plain": [
       "'Nourrir les villes'"
      ]
     },
     "execution_count": 20,
     "metadata": {},
     "output_type": "execute_result"
    }
   ],
   "source": [
    "test = data['cat_sub1_struc'].values.tolist()[0]\n",
    "print(test)\n",
    "unify(test)"
   ]
  },
  {
   "cell_type": "code",
   "execution_count": 21,
   "metadata": {},
   "outputs": [],
   "source": [
    "for cl in ['cat_sub1_struc', 'cat_sub2_struc', 'cat_sub3_struc', 'cat_struc','cat_autre_struc']:\n",
    "    data[cl] = data[cl].map(unify)\n",
    "data['prez'] = data[['prez_struc', 'prez_produit_struc']].agg(' '.join, axis = 1)"
   ]
  },
  {
   "cell_type": "code",
   "execution_count": 22,
   "metadata": {},
   "outputs": [
    {
     "data": {
      "text/html": [
       "<div>\n",
       "<style scoped>\n",
       "    .dataframe tbody tr th:only-of-type {\n",
       "        vertical-align: middle;\n",
       "    }\n",
       "\n",
       "    .dataframe tbody tr th {\n",
       "        vertical-align: top;\n",
       "    }\n",
       "\n",
       "    .dataframe thead th {\n",
       "        text-align: right;\n",
       "    }\n",
       "</style>\n",
       "<table border=\"1\" class=\"dataframe\">\n",
       "  <thead>\n",
       "    <tr style=\"text-align: right;\">\n",
       "      <th></th>\n",
       "      <th>Prénom</th>\n",
       "      <th>Nom</th>\n",
       "      <th>nom_struc</th>\n",
       "      <th>Nationalité</th>\n",
       "      <th>cat_sub1_struc</th>\n",
       "      <th>cat_sub2_struc</th>\n",
       "      <th>cat_sub3_struc</th>\n",
       "      <th>cat_struc</th>\n",
       "      <th>cat_autre_struc</th>\n",
       "      <th>catégorie</th>\n",
       "      <th>prez_struc</th>\n",
       "      <th>prez_produit_struc</th>\n",
       "    </tr>\n",
       "  </thead>\n",
       "  <tbody>\n",
       "    <tr>\n",
       "      <th>0</th>\n",
       "      <td>jacqueline</td>\n",
       "      <td>MWAKYAMBIKI</td>\n",
       "      <td>Mbeya Highlands Fm Radio</td>\n",
       "      <td>Tanzania</td>\n",
       "      <td>Nourrir les villes</td>\n",
       "      <td>Connecter la ville</td>\n",
       "      <td>Accéder aux services essentiels</td>\n",
       "      <td>Agriculture</td>\n",
       "      <td>Autres</td>\n",
       "      <td>agriculture</td>\n",
       "      <td>Mbeya Highlands FM Radio is a radio station th...</td>\n",
       "      <td>Mbeya Highlands FM carried out different proje...</td>\n",
       "    </tr>\n",
       "    <tr>\n",
       "      <th>1</th>\n",
       "      <td>norbert ange frédérick</td>\n",
       "      <td>BALMA</td>\n",
       "      <td>SARL-----LIFILED</td>\n",
       "      <td>Côte d'Ivoire</td>\n",
       "      <td>Accéder aux services essentiels</td>\n",
       "      <td>Connecter la ville</td>\n",
       "      <td>Vivre dans la ville</td>\n",
       "      <td>Technologie</td>\n",
       "      <td>Autres</td>\n",
       "      <td>technologie</td>\n",
       "      <td>LIFI-LED est la première entreprise africaine ...</td>\n",
       "      <td>Notre solution vient résoudre 3 problématiques...</td>\n",
       "    </tr>\n",
       "    <tr>\n",
       "      <th>2</th>\n",
       "      <td>laura nneka</td>\n",
       "      <td>MOBISSON</td>\n",
       "      <td>mDoc Healthcare</td>\n",
       "      <td>Nigeria</td>\n",
       "      <td>Vivre dans la ville</td>\n",
       "      <td>Accéder aux services essentiels</td>\n",
       "      <td>Connecter la ville</td>\n",
       "      <td>Santé</td>\n",
       "      <td>Autres</td>\n",
       "      <td>sante</td>\n",
       "      <td>mDoc is a digital health social enterprise whi...</td>\n",
       "      <td>We harness behavioural science, quality improv...</td>\n",
       "    </tr>\n",
       "    <tr>\n",
       "      <th>3</th>\n",
       "      <td>lamia julie</td>\n",
       "      <td>REPETTI</td>\n",
       "      <td>SetTIC SARL</td>\n",
       "      <td>Maroc</td>\n",
       "      <td>Accéder aux services essentiels</td>\n",
       "      <td>Aménager et embellir la ville</td>\n",
       "      <td>Connecter la ville</td>\n",
       "      <td>Autres</td>\n",
       "      <td>Environnement</td>\n",
       "      <td>autres</td>\n",
       "      <td>Pionnier et acteur reconnu de la gestion des d...</td>\n",
       "      <td>Actuellement, les entreprises font face à une ...</td>\n",
       "    </tr>\n",
       "    <tr>\n",
       "      <th>4</th>\n",
       "      <td>bolatito</td>\n",
       "      <td>OVIA</td>\n",
       "      <td>Helium Health</td>\n",
       "      <td>Nigeria</td>\n",
       "      <td>Accéder aux services essentiels</td>\n",
       "      <td>Vivre dans la ville</td>\n",
       "      <td>Financer et structurer les projets</td>\n",
       "      <td>Santé</td>\n",
       "      <td>Autres</td>\n",
       "      <td>sante</td>\n",
       "      <td>Helium Health provides a suite of technology s...</td>\n",
       "      <td>Every year, millions of Africans die because o...</td>\n",
       "    </tr>\n",
       "    <tr>\n",
       "      <th>...</th>\n",
       "      <td>...</td>\n",
       "      <td>...</td>\n",
       "      <td>...</td>\n",
       "      <td>...</td>\n",
       "      <td>...</td>\n",
       "      <td>...</td>\n",
       "      <td>...</td>\n",
       "      <td>...</td>\n",
       "      <td>...</td>\n",
       "      <td>...</td>\n",
       "      <td>...</td>\n",
       "      <td>...</td>\n",
       "    </tr>\n",
       "    <tr>\n",
       "      <th>57</th>\n",
       "      <td>kafui koffi</td>\n",
       "      <td>AKOLLY</td>\n",
       "      <td>eCentre Convivial</td>\n",
       "      <td>Togo</td>\n",
       "      <td>Accéder aux services essentiels</td>\n",
       "      <td>Vivre dans la ville</td>\n",
       "      <td>Autres</td>\n",
       "      <td>Santé</td>\n",
       "      <td>Autres</td>\n",
       "      <td>sante</td>\n",
       "      <td>eCentre Convivial est créée en janvier 2018. E...</td>\n",
       "      <td>Accessible sur https://www.econvivial.org et d...</td>\n",
       "    </tr>\n",
       "    <tr>\n",
       "      <th>58</th>\n",
       "      <td>célia</td>\n",
       "      <td>CHABI</td>\n",
       "      <td>KIEL BIEN-ÊTRE</td>\n",
       "      <td>Bénin</td>\n",
       "      <td>Nourrir les villes</td>\n",
       "      <td>Autres</td>\n",
       "      <td>Autres</td>\n",
       "      <td>Autres</td>\n",
       "      <td>Autres</td>\n",
       "      <td>non renseigné</td>\n",
       "      <td>KIEL BIEN-ÊTRE est une entreprise agroalimenta...</td>\n",
       "      <td>Nous vous proposons notre chocolat de baobab e...</td>\n",
       "    </tr>\n",
       "    <tr>\n",
       "      <th>59</th>\n",
       "      <td>Sylvia Wambui</td>\n",
       "      <td>MWITUMI</td>\n",
       "      <td>FUNDIS LLC</td>\n",
       "      <td>Kenya</td>\n",
       "      <td>Accéder aux services essentiels</td>\n",
       "      <td>Connecter la ville</td>\n",
       "      <td>Aménager et embellir la ville</td>\n",
       "      <td>Fintech</td>\n",
       "      <td>Autres</td>\n",
       "      <td>finance</td>\n",
       "      <td>FUNDIS LLC is an online platform that connects...</td>\n",
       "      <td>The fix it product as a service vertical compr...</td>\n",
       "    </tr>\n",
       "    <tr>\n",
       "      <th>60</th>\n",
       "      <td>uwizeye</td>\n",
       "      <td>TADHIM</td>\n",
       "      <td>OLADO BUSINESS GROUP LTD</td>\n",
       "      <td>Rwanda</td>\n",
       "      <td>Nourrir les villes</td>\n",
       "      <td>Connecter la ville</td>\n",
       "      <td>Autres</td>\n",
       "      <td>E-commerce</td>\n",
       "      <td>Autres</td>\n",
       "      <td>ecommerce</td>\n",
       "      <td>Olado is an e-commerce company that operates i...</td>\n",
       "      <td>Our solution (Products) is an online marketpla...</td>\n",
       "    </tr>\n",
       "    <tr>\n",
       "      <th>61</th>\n",
       "      <td>Kennedy Odhiambo</td>\n",
       "      <td>MUGA</td>\n",
       "      <td>OROBO TECHNOLOGIES EAST AFRICA LTD</td>\n",
       "      <td>Kenya</td>\n",
       "      <td>Accéder aux services essentiels</td>\n",
       "      <td>Connecter la ville</td>\n",
       "      <td>Vivre dans la ville</td>\n",
       "      <td>Autres</td>\n",
       "      <td>Autres</td>\n",
       "      <td>non renseigné</td>\n",
       "      <td>Orobo™ is pioneering a new service class in th...</td>\n",
       "      <td>The OROBO cross-border bill-payment platform g...</td>\n",
       "    </tr>\n",
       "  </tbody>\n",
       "</table>\n",
       "<p>62 rows × 12 columns</p>\n",
       "</div>"
      ],
      "text/plain": [
       "                    Prénom          Nom                           nom_struc  \\\n",
       "0               jacqueline  MWAKYAMBIKI            Mbeya Highlands Fm Radio   \n",
       "1   norbert ange frédérick        BALMA                    SARL-----LIFILED   \n",
       "2              laura nneka     MOBISSON                     mDoc Healthcare   \n",
       "3              lamia julie      REPETTI                         SetTIC SARL   \n",
       "4                 bolatito         OVIA                       Helium Health   \n",
       "..                     ...          ...                                 ...   \n",
       "57             kafui koffi       AKOLLY                   eCentre Convivial   \n",
       "58                   célia        CHABI                      KIEL BIEN-ÊTRE   \n",
       "59           Sylvia Wambui      MWITUMI                          FUNDIS LLC   \n",
       "60                 uwizeye       TADHIM            OLADO BUSINESS GROUP LTD   \n",
       "61        Kennedy Odhiambo         MUGA  OROBO TECHNOLOGIES EAST AFRICA LTD   \n",
       "\n",
       "      Nationalité                   cat_sub1_struc  \\\n",
       "0        Tanzania               Nourrir les villes   \n",
       "1   Côte d'Ivoire  Accéder aux services essentiels   \n",
       "2         Nigeria              Vivre dans la ville   \n",
       "3           Maroc  Accéder aux services essentiels   \n",
       "4         Nigeria  Accéder aux services essentiels   \n",
       "..            ...                              ...   \n",
       "57           Togo  Accéder aux services essentiels   \n",
       "58          Bénin               Nourrir les villes   \n",
       "59          Kenya  Accéder aux services essentiels   \n",
       "60         Rwanda               Nourrir les villes   \n",
       "61          Kenya  Accéder aux services essentiels   \n",
       "\n",
       "                     cat_sub2_struc                      cat_sub3_struc  \\\n",
       "0                Connecter la ville     Accéder aux services essentiels   \n",
       "1                Connecter la ville                 Vivre dans la ville   \n",
       "2   Accéder aux services essentiels                  Connecter la ville   \n",
       "3     Aménager et embellir la ville                  Connecter la ville   \n",
       "4               Vivre dans la ville  Financer et structurer les projets   \n",
       "..                              ...                                 ...   \n",
       "57              Vivre dans la ville                              Autres   \n",
       "58                           Autres                              Autres   \n",
       "59               Connecter la ville       Aménager et embellir la ville   \n",
       "60               Connecter la ville                              Autres   \n",
       "61               Connecter la ville                 Vivre dans la ville   \n",
       "\n",
       "      cat_struc cat_autre_struc      catégorie  \\\n",
       "0   Agriculture          Autres    agriculture   \n",
       "1   Technologie          Autres    technologie   \n",
       "2         Santé          Autres          sante   \n",
       "3        Autres   Environnement         autres   \n",
       "4         Santé          Autres          sante   \n",
       "..          ...             ...            ...   \n",
       "57        Santé          Autres          sante   \n",
       "58       Autres          Autres  non renseigné   \n",
       "59      Fintech          Autres        finance   \n",
       "60   E-commerce          Autres      ecommerce   \n",
       "61       Autres          Autres  non renseigné   \n",
       "\n",
       "                                           prez_struc  \\\n",
       "0   Mbeya Highlands FM Radio is a radio station th...   \n",
       "1   LIFI-LED est la première entreprise africaine ...   \n",
       "2   mDoc is a digital health social enterprise whi...   \n",
       "3   Pionnier et acteur reconnu de la gestion des d...   \n",
       "4   Helium Health provides a suite of technology s...   \n",
       "..                                                ...   \n",
       "57  eCentre Convivial est créée en janvier 2018. E...   \n",
       "58  KIEL BIEN-ÊTRE est une entreprise agroalimenta...   \n",
       "59  FUNDIS LLC is an online platform that connects...   \n",
       "60  Olado is an e-commerce company that operates i...   \n",
       "61  Orobo™ is pioneering a new service class in th...   \n",
       "\n",
       "                                   prez_produit_struc  \n",
       "0   Mbeya Highlands FM carried out different proje...  \n",
       "1   Notre solution vient résoudre 3 problématiques...  \n",
       "2   We harness behavioural science, quality improv...  \n",
       "3   Actuellement, les entreprises font face à une ...  \n",
       "4   Every year, millions of Africans die because o...  \n",
       "..                                                ...  \n",
       "57  Accessible sur https://www.econvivial.org et d...  \n",
       "58  Nous vous proposons notre chocolat de baobab e...  \n",
       "59  The fix it product as a service vertical compr...  \n",
       "60  Our solution (Products) is an online marketpla...  \n",
       "61  The OROBO cross-border bill-payment platform g...  \n",
       "\n",
       "[62 rows x 12 columns]"
      ]
     },
     "execution_count": 22,
     "metadata": {},
     "output_type": "execute_result"
    }
   ],
   "source": [
    "data[col]"
   ]
  },
  {
   "cell_type": "code",
   "execution_count": 24,
   "metadata": {},
   "outputs": [
    {
     "name": "stdout",
     "output_type": "stream",
     "text": [
      "Project ID:  web-services-d4-digital-africa\n",
      "Service Account Email:  main-d4da@web-services-d4-digital-africa.iam.gserviceaccount.com\n",
      "https://docs.google.com/spreadsheets/d/1t3arZrmpcOZAzPN2pVObWmW5PxH437t6rHFs_PHGjgY/edit#gid=0\n"
     ]
    }
   ],
   "source": [
    "#Gspreadsheet('DataStudio - BIG_Challenge1000').df_to_sheet(data[col + ['prez']])"
   ]
  },
  {
   "cell_type": "code",
   "execution_count": 10,
   "metadata": {},
   "outputs": [
    {
     "data": {
      "text/plain": [
       "'Mbeya Highlands FM Radio is a radio station that is focused on seeking development solutions for the communities it serves.  The radio station is based in Southern Tanzania and has development a vast profile of programs to challenge access to public services, poverty and food availability.'"
      ]
     },
     "execution_count": 10,
     "metadata": {},
     "output_type": "execute_result"
    }
   ],
   "source": [
    "data[['prez_struc', 'prez_produit_struc']].values.tolist()[0][0]"
   ]
  },
  {
   "cell_type": "code",
   "execution_count": 23,
   "metadata": {},
   "outputs": [],
   "source": [
    "def traductor(element):\n",
    "    key = '9b87800e-c11c-5e98-649b-21d40847e9af'\n",
    "    text= urllib.parse.quote(element)\n",
    "    url = 'https://api.deepl.com/v2/translate?auth_key={}&text={}&target_lang=EN'.format(key, text)\n",
    "    return url\n",
    "\n",
    "def get_translate(element):\n",
    "    resp = requests.get(element)\n",
    "    traduction = resp.json()['translations'][0]['text']\n",
    "    return traduction"
   ]
  },
  {
   "cell_type": "code",
   "execution_count": 2,
   "metadata": {},
   "outputs": [
    {
     "name": "stdout",
     "output_type": "stream",
     "text": [
      "Vegetables Tanzania Sell Quantity Quality One Need Markets Grains Fruits Enables Crops \n",
      "\n",
      "Étendue Émis Électricité Téléphones Transmission Transmettre Toute Solutions Réseau Produit Problématiques Place Photons Permet Ouvre Mettre Lumière Lumiere Lorsqu Internet Informations Forment Flux Facilitant Ensemble Contribuons Connectivité Communiquer Communication Citoyens Appliqué Ampoule Ainsi Agit Accéder Accès Accessibilité \n",
      "\n",
      "Use Track Time Technology Teach Receive Providing Providers Provide People Partnerships Nutrition Nudge Likely Leverage Go Exercise Drive Diabetes Depression Data Critical Created Care Bmi Accessible 4 \n",
      "\n",
      "Villes Valorisation Type Tri Traçabilité Tous Système Suivi Structures Structurante Settic Sensibilisation Sanitaires Réseau Retrouvent Redistribution Recycleurs Recyclage Rapports Quartiers Proposition Prestataires Poubelles Plupart Place Peser Payer Partenaires Outre Optimisation Niveau Modèle Mise Matière Marché Lorsque Gérer Gère Grâce Gestion Garantissant Fourniture Entreprise Ensemble Encadrement Déplacent Déchets Donner Dessous Compliqué Collecteur Collecte Client Circuit Certifications Cause Campagnes Box Bout Bordereaux Bordereau Audits Apporte Améliorer Ainsi Actuellement Acteurs A 2008 \n",
      "\n",
      "Yet Years View Ultimately Subjected Software Significantly Run Risk Riddled Region Records Reasons Quick Projects Prioritizes Policy Penetration Patients Month Monitor Millions Low Lost Loss Less Led Last Lack Insights Improvement Impact Hospital Grown Governments Fraud Fragmented Follow Features Facilities Execution Errors End Efficiently Easy Diseases Discover Difficult Data Damage Continent Consideration Conception Cluttered App Affordable Activities Across Access Able # \n",
      "\n",
      "Satisfaisants Aide \n",
      "\n",
      "Épidémies Éducation Voyageurs Vie Utérus Utilisateurs Utilisateur Urbain Toute Tous Touchées Tenir Spécialistes Signifie Signes Servir Sensibiliser Seins Sein Répertoire Régler Risques Renseigne Recevoir Rapport Rappel Prévention Prévenir Proximité Protection Professionnels Problèmes Prendre Pratiques Poumons Poumon Population Photo Pharmaciens Pharmacie Permettre Permet Pays Patient Panel Page Ordonnance Officines Obtenir Observations Notifications Notes Médicaments Moment Modules Met Mammographie Logiciel Kariya Ios Intégralité Interagir Informe Informations Hygiène Haoussa Garde Femmes Faire Effet Effectuer Dépistage Démonstration Disposition Disponibilité Digital Cours Contenue Consulter Conseils Concerne Comportements Communiquer Colon Chez Centre Cancer Campagne Assurer Assurant Application Amont Aider Accomplir Accessible A \n",
      "\n",
      "Used University Tackle Suitable Stored Storage Research Reaches Quality Protect Problem Order Invention Harvests Grain Even Determining Decline \n",
      "\n",
      "Website Trade Services Service Quantity Provide Procurement Platform People Order Need Market Make Interested Information Helping Goods Good Easy Customers Cost Construction Connected Connect Company Attract Anyone Also Access Able \n",
      "\n",
      "Water Use Us Tanzania Stored Require Raise Protein Process Potential Nutrients Micronutrients Maggots Made Inefficient Indigenous Inaccessible Great Future Fish Feed Fat Duckweed Azzolla Aquaculture Additionally Accout \n",
      "\n",
      "Usagers Transports Transport Tous Solution Plateforme Planifier Partir Modes Mobilité Hui Frais Carte Aide \n",
      "\n",
      "Éducation Écoles Type Source Solutions Services Sensibilisation Récupération Revenus Revente Recyclage Rachat Programme Production Place Offre Mise Intégrer Industriels Gestion Fournisseur Fait Entreprises Enjeux Enfant Administrations - \n",
      "\n",
      " \n",
      "\n",
      "Utilisons Transformés Sols Résistant Revêtement Rentabilité Présentons Produits Poudrettes Pneus Parmi Ordinaire Offrent Notons Maintenance Innovation Hui Granulats Gamme Fabriqués Fabrication Environnement Ensuite Engage Domaine Construction Casse Aussi Application \n",
      "\n",
      "Work Web Satisfy Provides Predict Possible Neighbors Much Mfarm Markets Making Harvest Group Benefit \n",
      "\n",
      " \n",
      "\n",
      " \n",
      "\n",
      "Vapeur Toutes Qualité Permettre Effet Disponibilité Cuit Couscous Consommateurs Afin Accessibilité \n",
      "\n",
      "Product Process Panty Pads Order Match Market Made Layers Colors Available Attach Allow \n",
      "\n",
      "Transport Services Offrons Latérites \n",
      "\n",
      "Units Time Sell Safety Resistant Products Powerstove Powers Payc Overcoming Option Offer Households Finance Easy Dividing Distributors Designed Customers Credit Continue Comes Clients Check Built Affordable - \n",
      "\n",
      "Énorme » Villes Ville Utilisé Utilisation Tiers Termes Technologie Superficie Sonnette Sonitech Région Réduire Rythme Ressources Périphérie Promotion Population Plantations Phénomène Perdu Particulier Partant Ordre Notamment Niger Niamey Ménages Habitant Forêts Feu Faut Fabrication Exploité Ensemble Effet Développer Déforestation Disposons Disons Depuis Continuons Constat Consommation Collaboration Charmard Charbon Bois Besoins Base Approvisionner Années Alarme Action Aca \n",
      "\n",
      "Énorme » Villes Ville Utilisé Utilisation Tiers Termes Technologie Superficie Sonnette Sonitech Région Réduire Rythme Ressources Périphérie Promotion Population Plantations Phénomène Perdu Particulier Partant Ordre Notamment Niger Niamey Ménages Habitant Forêts Feu Faut Fabrication Exploité Ensemble Effet Développer Déforestation Disposons Disons Depuis Continuons Constat Consommation Collaboration Charmard Charbon Bois Besoins Base Approvisionner Années Alarme Action Aca \n",
      "\n",
      "Use Store Since Power Period Need Inverters Homes Eliminates Dc Cost Consumed Businesses Buildings Batteries - \n",
      "\n",
      "École Vegan Valorisent Travers Travail Tissu Solidaires Site Secondaire Réalisée Ressourc Plastique Pensionnat Partout Partenariat Paire Packaging Montagnes Main Journée Jeunes Financée Faveur Fabriquées Enfin Elles Collaboration Chutes Base Aujourd Artisanales Amaz Achète \n",
      "\n",
      "Éclairage Type Répondent Recharge Radio Qualité Produit Permet Pay Offrons Ménages Moulins Four Fonction Besoins Artisans Adressant Acquisition Accompagner \n",
      "\n",
      "Well Want Vitamins Vegetarians Use University Triglycerides Team Suitable Rich Result Protein Product Probiotics Peanuts Opportunity Much Minerals Many Low Karangayogo Karanga Infection Helps Give Fruits Fat Family Enjoy Drink Digestion Dieters Contains Consumption Consume Combination Cholesterol Boosts Body Blend Biotechnologists Aid Addition \n",
      "\n",
      "Venir Salinité Qualité Proposons Produits Problème Plastique Permettre Matériaux Humidité Fabriquer Entreprises Constructions Construction Consiste Bout Base Alternative \n",
      "\n",
      "Via Transmettre Surveiller Réseau Recevoir Quartier Nuit Informations Envoyées Données Distance Chargés Aussi Alimentation \n",
      "\n",
      "Écologique Stockage Solutionner Sachets Récupération Produit Problémtique Pneus Plastique Matériaux Intelligent Hangars Hangar Gestion Créons Bouteilles \n",
      "\n",
      "Run Ke Ejenzi Conveniently Co Buy \n",
      "\n",
      "Volume Utilise Unité Trouve Site Rayon Proximité Producteurs Plus Plein Personnes Permet Parpaing Latérite Jour Fournir Formé Formations Eau Dizaine Dernier Dakar Commercialisation Ciment Chantier Centaine Capacité Bâtiment Btc Brique Besoin Aide 2019 \n",
      "\n",
      "Utilisant Transformer Systèmes Soleil Rendements Puissance Pompe Personnes Générer Eau Cultures Communautés Bétail Améliorer Amener Agriculteurs \n",
      "\n",
      "Services \n",
      "\n",
      "Violence Victims Survivors Support Stop Reported Report Prevalence Platform Ordeals Map Harassment Far Developed Adaptation ! \n",
      "\n",
      "Utilise Tube Répondre Recueillie Racines Plantes Perte Percolation Nanotechnologie Libère Irrigation Innovant Gestion Eau Domaine Destination Continu Africain \n",
      "\n",
      "View Train Tanzania Sat Run Permaculture Methods Improve Harm First Field Environment Core Competence Centre Build Agroforestry \n",
      "\n",
      "Veulent Touche Souvent Sacs Rendez Preserver Pouce Montages Metier Marre Maroc Marche Innovation Hommes Gamme Fiere Donnent Clients Artisanat Aiment \n",
      "\n",
      "Insights \n",
      "\n",
      "Énergie Stockage Salon Salle Prix Pierre Notamment Murs Locaux Eau Construit Chambres Caractéristiques Bois Bambou Bains 15 \n",
      "\n",
      "Équipements Rechange Méthanisation Homebiogas Formations Divers Consultance \n",
      "\n",
      "Used Transitioning Transition Therefore Socially Fishing Economically Cooking Community \n",
      "\n",
      "Water Use Times Time Tear Strong Shown Sand Replacement Replace Recycling Plastic Pavers Particles Mix Instead Creating Compared Cement Bond \n",
      "\n",
      "Time Team Symptoms Service Secondly Safe Primary Power Order Need Mother Matter Harnessing Get Finally Ensure Doctors Disadvantaged Developed Delivered Deliver Clean Childbirth Bridge Basic Baby App Also Access \n",
      "\n",
      "Équipements Logiciel Digitalisation Archivage - \n",
      "\n",
      "Équipements Logiciel Digitalisation Archivage - \n",
      "\n",
      "• Website Update Understand Start Simplify Serves Selected Search Remove Purchasing Products Product Point Platform Ordered Offer Number Location Level Learn Interested Filtered Features Facilitates Events Discount Degree Deals Deal Customers Create Connection Choice Bought Able \n",
      "\n",
      "Téléphone Tous Tiers Sécurisé Stockant Skyc Sein Respectant Protection Pièces Permet Identités Grâce Documents Data Corporate Citoyen \n",
      "\n",
      "Systèmes Système Place Mise \n",
      "\n",
      "Œuvre Évalue Établissements Élèves Vue Ville Valorisation Tri Transformation Souligner Sensibilisation Scolaires Saison Revêt Recyclage Protection Projet Profit Procéder Priorisation Population Plastique Pertinente Parce Outre Ouagadougou Originalité Objets Ménages Médias Multiplicité Multiples Mise Matière Mairie Implication Habitants Gestion France Fondant Financiers Etc Environnement Entreprises Entreprise Ensemble Emploi Effet Développer Déchets Diversité Divers Ctvd Créer Création Coordination Consultants Comportement Complémentaires Communication Commercialisation Collecte Cibles Changements Centre But Approche Ambassade Ainsi Agit Adoption Actions - ), \n",
      "\n",
      "Économies Tous Tailles Sénégal Spécialisé Santé Réduire Préserver Produits Production Ngaparou Femmes Faire Fabriqués Déchets Design Couches Conçus Base Atelier Apiafrique Adapter \n",
      "\n",
      "Health App 2021 \n",
      "\n",
      "Water Ussd Remotely Power Opportunity Located Leverages Leakage Instantly Households Email Details Designed Computer Capable Built \n",
      "\n",
      "Technology Rugged Programs Partner Lifeboxes Lifebox Install Implement Designed \n",
      "\n",
      "Supply Store Reduce Mapping Making Love Location Jobs Homes Goods Goal Get Gap Facilitates Exist Delivery Customers Cost Comfort Bridge \n",
      "\n",
      "Urgences Problème Prendre Potentiellement Personnes Patient Médecin Meurt Jours Exposé Décès Dont Difficulté Contient Charge Carnet Bijou Arrive Agit 2014 \n",
      "\n",
      "Underwrite Sells Sales Premium Partnership Partnering Nigeria Monthly Millions Glass Finance Converted Commissions $ \n",
      "\n",
      "V Utilisateur Travers Tout Système Suivi Sociologues Services Santé Référence Robotcall Période Psychologues Préférence Prise Population Particulier Org Médecins Mère Mobile Ligne Langue Jeunes Iv Iii Ii I Géolocalisation Français Femmes Enfant Econvivial Disponibilité Consultations Conseils Compris Assistance Aide Adolescents Accessible \n",
      "\n",
      "Être Vitamine Vie Source Réduire Richesse Revenus Rachetant Pulpe Proposons Problématiques Point Plus Petits Permettons Pauvre Nutrition Nutriments Mange Malnutrition Jetées Jettent Grands Graines Condition Cholestérol Chocolat Baobab Avoir An Améliore Aimant Accompagner \n",
      "\n",
      "Walls Toasters Tiling Repairs Renovations Product Ovens Maintenance Laptops Installation Fix Dispensers Designs Decors Blenders \n",
      "\n",
      "Website Solution Rw Reach Products Order Online Olado Door Customers Clients Access \n",
      "\n",
      "Vendor Us Transaction Stocks Send Request Recommended Receive Range Peace Operate Oh Money Mind Mention Listed Life Going Giving Eu Bonds Asia Anyone Africa Add Access ? 1000s \n",
      "\n"
     ]
    }
   ],
   "source": [
    "for element in output['keywords_product'].values.tolist():\n",
    "    print(element, '\\n')"
   ]
  },
  {
   "cell_type": "code",
   "execution_count": 19,
   "metadata": {},
   "outputs": [],
   "source": [
    "stopwords_list = ['stopwords.txt', 'stopwords_agri.txt', 'stopwords_mobi.txt']\n",
    "from nltk.corpus import stopwords\n",
    "\n",
    "\n",
    "class RefEnv(object):\n",
    "\t\"\"\"edit docs\"\"\"\n",
    "\tdef __init__(self, path_PROJECT_DATA= '/Volumes/GoogleDrive/My Drive'):\n",
    "\t\tself.dst = 'Source'\n",
    "\t\tself.Export_folder = 'Export'\n",
    "\t\tself.path_PROJECT_DATA = path_PROJECT_DATA\n",
    "\t\tself.transformed = '{}/Open Data Platform/DATA/Transformed/{}'.format(self.path_PROJECT_DATA, '{}')\n",
    "\n",
    "\n",
    "\n",
    "\n",
    "class Lemm(object): # returns a dataframe with new columns that are lemmatized with a suffix lemm but the data frame must contain the headers that are defined in header_tr \n",
    "    \n",
    "    def __init__(self, file ='stopwords.txt'):\n",
    "        self.stopwords_file = RefEnv().transformed.format(file) \n",
    "        self.stop_words = self.get_set_stopwords()\n",
    "        \n",
    "    def get_set_stopwords(self):\n",
    "        fileName = self.stopwords_file\n",
    "        stopword_file = open(fileName, 'r')\n",
    "        list_stop_word = [line.split(',') for line in stopword_file.readlines()][0] # if I understand correctly this enables to get a list of all the stopwords that are in the stopword file spliting with , => why do we use readlines() and what the [0] stands for ? \n",
    "        return set(stopwords.words('french')).union(set(stopwords.words('english'))).union(set(list_stop_word)) #here we have 2 sets => at the end can we use the set as a list ? I don't really get how we can use set. Is it only to make sure that we have a unique example for each word ? \n",
    "\n",
    "\n",
    "to_remove = [Lemm(file = swrdlist).stop_words for swrdlist in stopwords_list]\n",
    "all_stop = set()\n",
    "for element in to_remove:\n",
    "    all_stop = all_stop.union(element)\n",
    "    \n",
    "all_stop = list(all_stop)"
   ]
  },
  {
   "cell_type": "code",
   "execution_count": null,
   "metadata": {},
   "outputs": [],
   "source": []
  },
  {
   "cell_type": "code",
   "execution_count": 2,
   "metadata": {},
   "outputs": [
    {
     "name": "stdout",
     "output_type": "stream",
     "text": [
      "Project ID:  web-services-d4-digital-africa\n",
      "Service Account Email:  main-d4da@web-services-d4-digital-africa.iam.gserviceaccount.com\n",
      "Index(['Prénom', 'Nom', 'nom_struc', 'Nationalité', 'cat_sub1_struc',\n",
      "       'cat_sub2_struc', 'cat_sub3_struc', 'cat_struc', 'cat_autre_struc',\n",
      "       'catégorie', 'prez_struc', 'prez_produit_struc', 'prez', 'Langue',\n",
      "       'keywords_struct', 'keywords_product'],\n",
      "      dtype='object')\n"
     ]
    }
   ],
   "source": [
    "from rake_nltk import Metric, Rake\n",
    "from DA_IO import Gspreadsheet\n",
    "import nltk\n",
    "data = Gspreadsheet('DataStudio - BIG_Challenge1000').sheet_to_df()\n",
    "print(data.keys())\n",
    "\n",
    "\n",
    "def rake_description(element, lang):\n",
    "    dict_lang = {'EN':'english', 'FR': 'french'}\n",
    "    if lang in ['EN', 'FR']:\n",
    "        r = Rake(ranking_metric=Metric.DEGREE_TO_FREQUENCY_RATIO,\n",
    "                 min_length=1, \n",
    "                 max_length=1, \n",
    "                 language = dict_lang[lang], \n",
    "                 punctuations = [';',\"’\",'&', \"'\",',', '.', '3', '2', '1', '(', ')'],\n",
    "                 stopwords = ['also', 'trés']\n",
    "                )\n",
    "        r.extract_keywords_from_text(element)\n",
    "        return ' '.join([e.capitalize() for e in r.get_ranked_phrases()])\n",
    "    else:\n",
    "        return ''\n",
    "def run_rake():    \n",
    "    data['keywords_struct'] = data.apply(lambda x: rake_description(x['prez_struc'], x['Langue']), axis = 1)\n",
    "    data['keywords_product'] = data.apply(lambda x: rake_description(x['prez_produit_struc'], x['Langue']), axis = 1)\n",
    "    return data\n",
    "\n",
    "\n",
    "\n",
    "output = run_rake()\n",
    "col = ['Prénom', 'Nom', 'nom_struc', 'Nationalité','cat_sub1_struc', 'cat_sub2_struc', 'cat_sub3_struc', 'cat_struc','cat_autre_struc','catégorie','prez_struc', 'prez_produit_struc']\n",
    "#Gspreadsheet('DataStudio - BIG_Challenge1000').df_to_sheet(output[col + ['prez','Langue','keywords_struct','keywords_product']])"
   ]
  },
  {
   "cell_type": "code",
   "execution_count": 12,
   "metadata": {},
   "outputs": [
    {
     "data": {
      "text/plain": [
       "3329"
      ]
     },
     "execution_count": 12,
     "metadata": {},
     "output_type": "execute_result"
    }
   ],
   "source": [
    "sum([len(a.split(' ')) for a in output[output['Langue']=='FR']['prez_struc'].values.tolist() ])"
   ]
  },
  {
   "cell_type": "code",
   "execution_count": null,
   "metadata": {},
   "outputs": [],
   "source": []
  }
 ],
 "metadata": {
  "kernelspec": {
   "display_name": "Python 3",
   "language": "python",
   "name": "python3"
  },
  "language_info": {
   "codemirror_mode": {
    "name": "ipython",
    "version": 3
   },
   "file_extension": ".py",
   "mimetype": "text/x-python",
   "name": "python",
   "nbconvert_exporter": "python",
   "pygments_lexer": "ipython3",
   "version": "3.7.3"
  }
 },
 "nbformat": 4,
 "nbformat_minor": 4
}

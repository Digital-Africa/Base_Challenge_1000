{
 "cells": [
  {
   "cell_type": "code",
   "execution_count": 1,
   "metadata": {},
   "outputs": [],
   "source": [
    "from DA_IO import Gspreadsheet\n",
    "import challenge1000\n",
    "import pandas\n",
    "from IPython.display import display, HTML\n",
    "import json"
   ]
  },
  {
   "cell_type": "code",
   "execution_count": 2,
   "metadata": {},
   "outputs": [],
   "source": [
    "class RefEnv(object):\n",
    "\t\"\"\"edit docs\"\"\"\n",
    "\tdef __init__(self, path_PROJECT_DATA= '/Volumes/GoogleDrive/My Drive/Open Data Platform/', uri = 'star_schema.json'):\n",
    "\t\tself.dst = 'Source'\n",
    "\t\tself.Export_folder = 'Export'\n",
    "\t\tself.path_PROJECT_DATA = path_PROJECT_DATA\n",
    "\t\tself.raw = '{}DATA/Raw/{}'.format(self.path_PROJECT_DATA,'{}')### how exactly is working .format(, '{}') ?\n",
    "\t\tself.transformed = '{}DATA/Transformed/{}'.format(self.path_PROJECT_DATA, '{}') ### how exactly is working .format(, '{}') ?        \n",
    "\t\tself.uri = '{}DATA/SCHEMA/{}'.format(self.path_PROJECT_DATA,uri)\n",
    "\t\tself.schema = self.get_schema()\n",
    "\n",
    "\tdef get_schema(self):\n",
    "\t\tprint(self.uri)\n",
    "\t\twith open(self.uri, 'r') as s:\n",
    "\t\t\tschema = json.load(s)\n",
    "\t\treturn schema\n",
    "\n",
    "\n",
    "class Native(object): ###allows to get df1_clean with 6 columns : 'categorie','age_pers','nbr_salarie','ca_2017','ca_2018','ca_2019' and key_main as index => this is X dataframe. The dataframe text gets only the presentation from df1_clean and the index\n",
    "\t\"\"\"docstring for RefEnv\"\"\"\n",
    "\tdef __init__(self):\n",
    "\t\tself.X = pandas.concat([pandas.read_excel(RefEnv().raw.format('Challenge_des_1_000_.xlsx'), sheet_name = element) for element in range(0,7) ])\n",
    "\t\t#self.ALL = self.operation().set_index('key_main') \n",
    "\t\t#self.X = self.operation().set_index('key_main')#[['nom_struc','categorie','age_pers','nbr_salarie','ca_2017','ca_2018','ca_2019','pays_struc1','date_struc','prix_struc','linkedin_struc','email_pers']] \n",
    "\t\t#self.descriptions = self.operation()[['nom_struc','prez_struc', 'prez_produit_struc','prez_marche_struc','prez_zone_struc','prez_objectif_struc', 'prez_innovante_struc','prez_duplicable_struc', 'prez_durable_struc','categorie']]\n",
    "\t\t#self.descriptions_trad = self.get_trans()\n",
    "\t\t#self.text = self.operation_text()\n",
    "\t\t#self.X = self.X[['nom_struc','categorie', 'cat_struc', 'cat_autre_struc','age_pers','nbr_salarie','ca_2017','ca_2018','ca_2019','pays_struc1','pays_struc2','date_struc','prix_struc','linkedin_struc','email_pers']]\n",
    "\n",
    "\tdef get_trans(self):\n",
    "\t\tframe = pandas.read_json(RefEnv().transformed.format('traduct.json')).set_index('key_main')\n",
    "\t\tframe.columns = ['prez_struc', 'prez_produit_struc','prez_marche_struc','prez_zone_struc','prez_objectif_struc', 'prez_innovante_struc','prez_duplicable_struc', 'prez_durable_struc']\n",
    "\t\treturn frame\n",
    "\tdef categorie_structure(self,cat_struc,cat_autre_struc):\n",
    "\t\tif cat_struc == \"Santé, bien être, et protection sociale\" or cat_struc == \"Health, well-being and social protection\":\n",
    "\t\t\treturn \"sante\" \n",
    "\t\tif cat_struc == \"Fintech\":\n",
    "\t\t\treturn \"finance\"\n",
    "\t\tif cat_struc == \"Technologies émergentes\" or cat_struc == \"Emerging technologies\":\n",
    "\t\t\treturn \"technologie\"\n",
    "\t\tif cat_struc == \"Médias, édition et communication\" or cat_struc ==\"Media, publishing and communication\":\n",
    "\t\t\treturn \"media\"\n",
    "\t\tif cat_struc == \"Agriculture, territoires ruraux et ressources naturelles\" or cat_struc == \"Agriculture, rural areas and natural resources\":\n",
    "\t\t\treturn  \"agriculture\"\n",
    "\t\tif cat_struc == \"Education, formation professionnelle et emploi\" or cat_struc ==\"Education, vocational training and employment\":\n",
    "\t\t\treturn  \"education\" \n",
    "\t\tif cat_struc == \"E-commerce, marketing et distribution\" or cat_struc == \"E-commerce, marketing and distribution\":\n",
    "\t\t\treturn  \"ecommerce\"\n",
    "\t\tif cat_struc == \"Gouvernement ouvert et transformation sociale\" or cat_struc == \"Open government and social transformation\":\n",
    "\t\t\treturn  \"gouvernement\"\n",
    "\t\tif cat_struc == \"Energie\" or cat_struc == \"Energy\":\n",
    "\t\t\treturn  \"energie\" \n",
    "\t\tif cat_struc == \"Territoires intelligents et mobilité\" or cat_struc == \"Intelligent territories and mobility\":\n",
    "\t\t\treturn  \"mobilite\"\n",
    "\t\tif cat_struc == \"Industries culturelles et créatives\" or cat_struc == \"Cultural and creative industries\":\n",
    "\t\t\treturn  \"culture\"\n",
    "\t\tif (cat_struc == \"Autre (précisez)\" or cat_struc == \"Other - please specify\" or cat_struc == \"autre (précisez)\"):\n",
    "\t\t\treturn  'autres'\n",
    "\t\tif cat_struc != cat_struc: #what is it for ? \n",
    "\t\t\treturn 'non renseigné'\n",
    "\t\telse:\n",
    "\t\t\treturn cat_struc\n",
    "\t\n",
    "\tdef template(self, nom, prenom, email, struc, origine, activite, site, linkedin, prez, produit, marche, zone, objectif, innovant, duplicable, durable):\n",
    "\t\tdescription = 'Nom du répondant : {nom} \\nPrénom du répondant : {prenom} \\nemail : {email} \\n \\nNom de la structure : {struc} \\nPays d\\'origine : {origine} \\nPays d\\'activité : {activite} \\nSite internet : {site} \\nLinkedin : {linkedin} \\n \\nPrésentation de la structure \\n{prez} \\n \\nPrésentation du produit, de la solution phare porté par la structure \\n{produit} \\n \\nSur quel marché et vers quelle cible \\n{marche} \\n \\nZone géographique de l’activité \\n{zone} \\n \\nObjectifs de croissance et vision à moyen et long terme du marché \\n{objectif} \\n \\nEn quoi votre solution est elle innovante \\n{innovant} \\n \\nEn quoi est elle duplicable à moindre coût \\n{duplicable} \\n \\nEn quoi votre solution rend les villes françaises et africaines plus durables du point de vue environnemental et social \\n{durable} \\n \\n'.format(nom = nom, prenom = prenom, email = email, struc = struc, origine = origine, activite = activite, site = site, linkedin = linkedin, prez = prez, produit = produit, marche = marche, zone = zone, objectif = objectif, innovant = innovant, duplicable = duplicable, durable = durable)\n",
    "\t\treturn description\n",
    "\n",
    "\tdef operation_text(self):\n",
    "\t\tself.X['temp'] = self.X.apply(lambda x: self.template(x['nom_pers'], x['prenom_pers'], x['email_pers'],x['nom_struc'], x['pays_struc1'], x['pays_struc2'], x['site_struc'],x['linkedin_struc'], x['prez_struc'],x['prez_produit_struc'], x['prez_marche_struc'], x['prez_zone_struc'],x['prez_objectif_struc'], x['prez_innovante_struc'], x['prez_duplicable_struc'],x['prez_durable_struc']), axis=1)\n",
    "\t\treturn self.X[['cat_struc','prez_struc', 'prez_produit_struc','prez_marche_struc', 'prez_zone_struc', 'prez_objectif_struc','prez_innovante_struc', 'prez_duplicable_struc', 'prez_durable_struc', 'temp']]\n",
    "\n",
    "\tdef operation(self):\n",
    "\t\tself.X['nbr_salarie'] = self.X[['empl_h_struc', 'empl_f_struc']].agg(sum, axis=1)\n",
    "\t\tself.X['ca_2019'] = self.X[['ca_2019_trim1', 'ca_2019_trim2', 'ca_2019_trim3']].agg(sum, axis=1)\n",
    "\t\tself.X['categorie'] = self.X.apply(lambda x: self.categorie_structure(x['cat_struc'], x['cat_autre_struc']), axis=1)\n",
    "\t\treturn self.X"
   ]
  },
  {
   "cell_type": "code",
   "execution_count": 5,
   "metadata": {},
   "outputs": [
    {
     "name": "stdout",
     "output_type": "stream",
     "text": [
      "/Volumes/GoogleDrive/My Drive/Open Data Platform/DATA/SCHEMA/star_schema.json\n",
      "/Volumes/GoogleDrive/My Drive/Open Data Platform/DATA/SCHEMA/star_schema.json\n",
      "/Volumes/GoogleDrive/My Drive/Open Data Platform/DATA/SCHEMA/star_schema.json\n",
      "/Volumes/GoogleDrive/My Drive/Open Data Platform/DATA/SCHEMA/star_schema.json\n",
      "/Volumes/GoogleDrive/My Drive/Open Data Platform/DATA/SCHEMA/star_schema.json\n",
      "/Volumes/GoogleDrive/My Drive/Open Data Platform/DATA/SCHEMA/star_schema.json\n",
      "/Volumes/GoogleDrive/My Drive/Open Data Platform/DATA/SCHEMA/star_schema.json\n"
     ]
    }
   ],
   "source": [
    "X = Native().X\n",
    "header = X[X.index == 0].values.tolist()[0]\n",
    "X.columns = header\n",
    "X = X[X.index > 0].copy()"
   ]
  },
  {
   "cell_type": "code",
   "execution_count": 61,
   "metadata": {},
   "outputs": [],
   "source": [
    "header = X[X.index == 0].values.tolist()[0]"
   ]
  },
  {
   "cell_type": "code",
   "execution_count": 62,
   "metadata": {},
   "outputs": [],
   "source": [
    "X.columns = header\n",
    "X = X[X.index > 0].copy()"
   ]
  },
  {
   "cell_type": "code",
   "execution_count": 63,
   "metadata": {},
   "outputs": [
    {
     "data": {
      "text/plain": [
       "3533"
      ]
     },
     "execution_count": 63,
     "metadata": {},
     "output_type": "execute_result"
    }
   ],
   "source": [
    "len(X)"
   ]
  },
  {
   "cell_type": "code",
   "execution_count": 65,
   "metadata": {},
   "outputs": [
    {
     "name": "stdout",
     "output_type": "stream",
     "text": [
      "Project ID:  web-services-d4-digital-africa\n",
      "Service Account Email:  main-d4da@web-services-d4-digital-africa.iam.gserviceaccount.com\n",
      "Project ID:  web-services-d4-digital-africa\n",
      "Service Account Email:  main-d4da@web-services-d4-digital-africa.iam.gserviceaccount.com\n"
     ]
    }
   ],
   "source": [
    "big = Gspreadsheet('Liste BIG 1409 LP COVID').sheet_to_df()\n",
    "big2 =  Gspreadsheet('BIG 24 sept').sheet_to_df()\n",
    "\n",
    "header = big2[big2.index == 1].values.tolist()[0]\n",
    "big2 = big2[big2.index > 1].reset_index().copy()\n",
    "big2.columns = ['index'] + header\n",
    "big2.drop('index', axis = 1)\n",
    "\n",
    "def elementwise_transform(element):\n",
    "    element =  element.lower()\n",
    "    element = element.replace('ë','e').replace(' ','').replace('é','e').replace('è','e').replace('ô','o').replace(\"'\", \"\").replace('-','')\n",
    "    return element\n",
    "    \n",
    "    \n",
    "\n",
    "big['nation_pers'] = big[\"Nationalité\"].map(elementwise_transform)\n",
    "big['prenom_pers'] = big[\"Prénom\"].map(elementwise_transform)\n",
    "big['nom_pers'] = big[\"Nom\"].map(elementwise_transform)\n",
    "\n",
    "big2['nation_pers'] = big2[\"Nationalité\"].map(elementwise_transform)\n",
    "big2['prenom_pers'] = big2[\"Prénom\"].map(elementwise_transform)\n",
    "big2['nom_pers'] = big2[\"Nom\"].map(elementwise_transform)\n",
    "\n",
    "big['key'] = big['nom_pers'] + big['prenom_pers'] + big['nation_pers']\n",
    "big2['key'] = big2['nom_pers'] + big2['prenom_pers'] + big2['nation_pers']\n",
    "\n",
    "big = big.drop_duplicates(subset = 'key').set_index('key')\n",
    "big2 = big2.drop_duplicates(subset = 'key').set_index('key')"
   ]
  },
  {
   "cell_type": "code",
   "execution_count": 72,
   "metadata": {},
   "outputs": [
    {
     "name": "stdout",
     "output_type": "stream",
     "text": [
      "/Volumes/GoogleDrive/My Drive/Open Data Platform/DATA/SCHEMA/star_schema.json\n",
      "/Volumes/GoogleDrive/My Drive/Open Data Platform/DATA/SCHEMA/star_schema.json\n",
      "1\n"
     ]
    }
   ],
   "source": [
    "challenge = X.copy()\n",
    "challenge = challenge.loc[:,~challenge.columns.duplicated()].copy()\n",
    "print(len(challenge1000.Native().ALL.reset_index().keys().values.tolist()) - len(challenge.keys().values.tolist()))\n",
    "challenge['Nom'] = challenge['Nom'].map(elementwise_transform)\n",
    "challenge['Prénom'] = challenge['Prénom'].map(elementwise_transform)\n",
    "challenge['Nationalité'] = challenge['Nationalité'].map(elementwise_transform)\n",
    "challenge['key_main'] = challenge['Site web de la structure']  + challenge['Nom'] + challenge['Prénom']\n",
    "challenge = challenge[['key_main', 'Nationalité','Prénom', 'Nom']]"
   ]
  },
  {
   "cell_type": "code",
   "execution_count": 73,
   "metadata": {},
   "outputs": [
    {
     "data": {
      "text/html": [
       "<div>\n",
       "<style scoped>\n",
       "    .dataframe tbody tr th:only-of-type {\n",
       "        vertical-align: middle;\n",
       "    }\n",
       "\n",
       "    .dataframe tbody tr th {\n",
       "        vertical-align: top;\n",
       "    }\n",
       "\n",
       "    .dataframe thead th {\n",
       "        text-align: right;\n",
       "    }\n",
       "</style>\n",
       "<table border=\"1\" class=\"dataframe\">\n",
       "  <thead>\n",
       "    <tr style=\"text-align: right;\">\n",
       "      <th></th>\n",
       "      <th>key_main</th>\n",
       "      <th>Nationalité</th>\n",
       "      <th>Prénom</th>\n",
       "      <th>Nom</th>\n",
       "    </tr>\n",
       "  </thead>\n",
       "  <tbody>\n",
       "    <tr>\n",
       "      <th>1</th>\n",
       "      <td>https://herwinstyle.blogspot.com/boudissaamira</td>\n",
       "      <td>algeria</td>\n",
       "      <td>amira</td>\n",
       "      <td>boudissa</td>\n",
       "    </tr>\n",
       "    <tr>\n",
       "      <th>2</th>\n",
       "      <td>https://www.sungy.co/fournierkacimimyriam</td>\n",
       "      <td>algerie</td>\n",
       "      <td>myriam</td>\n",
       "      <td>fournierkacimi</td>\n",
       "    </tr>\n",
       "    <tr>\n",
       "      <th>3</th>\n",
       "      <td>https://www.linkedin.com/groups/12246043/touab...</td>\n",
       "      <td>algerie</td>\n",
       "      <td>djamila</td>\n",
       "      <td>touabet</td>\n",
       "    </tr>\n",
       "    <tr>\n",
       "      <th>4</th>\n",
       "      <td>https://www.facebook.com/secretariado.sede.co....</td>\n",
       "      <td>angola</td>\n",
       "      <td>asas,s.a</td>\n",
       "      <td>empresagrupo</td>\n",
       "    </tr>\n",
       "    <tr>\n",
       "      <th>5</th>\n",
       "      <td>http://www.nduvasoftware.comvladmirvladmirferraz</td>\n",
       "      <td>angola</td>\n",
       "      <td>vladmirferraz</td>\n",
       "      <td>vladmir</td>\n",
       "    </tr>\n",
       "    <tr>\n",
       "      <th>...</th>\n",
       "      <td>...</td>\n",
       "      <td>...</td>\n",
       "      <td>...</td>\n",
       "      <td>...</td>\n",
       "    </tr>\n",
       "    <tr>\n",
       "      <th>375</th>\n",
       "      <td>http://www.aiconmedia.co.zwndlovunigel</td>\n",
       "      <td>zimbabwe</td>\n",
       "      <td>nigel</td>\n",
       "      <td>ndlovu</td>\n",
       "    </tr>\n",
       "    <tr>\n",
       "      <th>376</th>\n",
       "      <td>http://www.axissol.compasirayinyashamichael</td>\n",
       "      <td>zimbabwe</td>\n",
       "      <td>nyashamichael</td>\n",
       "      <td>pasirayi</td>\n",
       "    </tr>\n",
       "    <tr>\n",
       "      <th>377</th>\n",
       "      <td>http://www.afrigoteltech.co.zamosalononhlanhla...</td>\n",
       "      <td>afriquedusud</td>\n",
       "      <td>nonhlanhlajumaimamosalo</td>\n",
       "      <td>mosalo</td>\n",
       "    </tr>\n",
       "    <tr>\n",
       "      <th>378</th>\n",
       "      <td>https://kilimotv.com/kipungajoyce</td>\n",
       "      <td>congokinshasa</td>\n",
       "      <td>joyce</td>\n",
       "      <td>kipunga</td>\n",
       "    </tr>\n",
       "    <tr>\n",
       "      <th>379</th>\n",
       "      <td>http://threams.comokechukwusiboniso,samantha</td>\n",
       "      <td>afriquedusud</td>\n",
       "      <td>siboniso,samantha</td>\n",
       "      <td>okechukwu</td>\n",
       "    </tr>\n",
       "  </tbody>\n",
       "</table>\n",
       "<p>3533 rows × 4 columns</p>\n",
       "</div>"
      ],
      "text/plain": [
       "                                              key_main    Nationalité  \\\n",
       "1       https://herwinstyle.blogspot.com/boudissaamira        algeria   \n",
       "2            https://www.sungy.co/fournierkacimimyriam        algerie   \n",
       "3    https://www.linkedin.com/groups/12246043/touab...        algerie   \n",
       "4    https://www.facebook.com/secretariado.sede.co....         angola   \n",
       "5     http://www.nduvasoftware.comvladmirvladmirferraz         angola   \n",
       "..                                                 ...            ...   \n",
       "375             http://www.aiconmedia.co.zwndlovunigel       zimbabwe   \n",
       "376        http://www.axissol.compasirayinyashamichael       zimbabwe   \n",
       "377  http://www.afrigoteltech.co.zamosalononhlanhla...   afriquedusud   \n",
       "378                  https://kilimotv.com/kipungajoyce  congokinshasa   \n",
       "379       http://threams.comokechukwusiboniso,samantha   afriquedusud   \n",
       "\n",
       "                      Prénom             Nom  \n",
       "1                      amira        boudissa  \n",
       "2                     myriam  fournierkacimi  \n",
       "3                    djamila         touabet  \n",
       "4                   asas,s.a    empresagrupo  \n",
       "5              vladmirferraz         vladmir  \n",
       "..                       ...             ...  \n",
       "375                    nigel          ndlovu  \n",
       "376            nyashamichael        pasirayi  \n",
       "377  nonhlanhlajumaimamosalo          mosalo  \n",
       "378                    joyce         kipunga  \n",
       "379        siboniso,samantha       okechukwu  \n",
       "\n",
       "[3533 rows x 4 columns]"
      ]
     },
     "execution_count": 73,
     "metadata": {},
     "output_type": "execute_result"
    }
   ],
   "source": [
    "challenge"
   ]
  },
  {
   "cell_type": "code",
   "execution_count": 82,
   "metadata": {},
   "outputs": [
    {
     "data": {
      "text/plain": [
       "0.5147058823529411"
      ]
     },
     "execution_count": 82,
     "metadata": {},
     "output_type": "execute_result"
    }
   ],
   "source": [
    "def all_matches(nat, prenom, nom):\n",
    "    chl = challenge[(challenge['Nationalité'] == nat)&(challenge['Prénom'] == prenom)&(challenge['Nom'] == nom)].values.tolist()\n",
    "    if len(chl) == 0:\n",
    "        return 0\n",
    "    elif len(chl) == 1:\n",
    "        return 1\n",
    "    else:\n",
    "        return 2\n",
    "    \n",
    "def all_matches_key_main(nat, prenom, nom):\n",
    "    chl = challenge[(challenge['Nationalité'] == nat)&(challenge['Prénom'] == prenom)&(challenge['Nom'] == nom)]['key_main'].values.tolist()\n",
    "    if len(chl) == 0:\n",
    "        return 'None'\n",
    "    elif len(chl) == 1:\n",
    "        return chl[0]\n",
    "    else:\n",
    "        return 'multiple'\n",
    "    \n",
    "#BIG_ = BIG.head(1)\n",
    "\n",
    "BIG = big2\n",
    "\n",
    "BIG['total_match'] = BIG.apply(lambda x: all_matches(x['nation_pers'],x['prenom_pers'],x['nom_pers']), axis = 1)\n",
    "BIG['total_match_key_main'] = BIG.apply(lambda x: all_matches_key_main(x['nation_pers'],x['prenom_pers'],x['nom_pers']), axis = 1)\n",
    "\n",
    "BIG['total_match'].sum()/len(BIG['total_match'])\n",
    "\n"
   ]
  },
  {
   "cell_type": "markdown",
   "metadata": {},
   "source": []
  },
  {
   "cell_type": "code",
   "execution_count": 89,
   "metadata": {},
   "outputs": [
    {
     "data": {
      "text/html": [
       "<div>\n",
       "<style scoped>\n",
       "    .dataframe tbody tr th:only-of-type {\n",
       "        vertical-align: middle;\n",
       "    }\n",
       "\n",
       "    .dataframe tbody tr th {\n",
       "        vertical-align: top;\n",
       "    }\n",
       "\n",
       "    .dataframe thead th {\n",
       "        text-align: right;\n",
       "    }\n",
       "</style>\n",
       "<table border=\"1\" class=\"dataframe\">\n",
       "  <thead>\n",
       "    <tr style=\"text-align: right;\">\n",
       "      <th></th>\n",
       "      <th>key_main</th>\n",
       "      <th>Prénom</th>\n",
       "      <th>Nom</th>\n",
       "    </tr>\n",
       "    <tr>\n",
       "      <th>Nationalité</th>\n",
       "      <th></th>\n",
       "      <th></th>\n",
       "      <th></th>\n",
       "    </tr>\n",
       "  </thead>\n",
       "  <tbody>\n",
       "    <tr>\n",
       "      <th></th>\n",
       "      <td>2</td>\n",
       "      <td>2</td>\n",
       "      <td>2</td>\n",
       "    </tr>\n",
       "    <tr>\n",
       "      <th>afghanistan</th>\n",
       "      <td>1</td>\n",
       "      <td>1</td>\n",
       "      <td>1</td>\n",
       "    </tr>\n",
       "    <tr>\n",
       "      <th>afriquedusud</th>\n",
       "      <td>8</td>\n",
       "      <td>8</td>\n",
       "      <td>8</td>\n",
       "    </tr>\n",
       "    <tr>\n",
       "      <th>alandislands</th>\n",
       "      <td>1</td>\n",
       "      <td>1</td>\n",
       "      <td>1</td>\n",
       "    </tr>\n",
       "    <tr>\n",
       "      <th>algeria</th>\n",
       "      <td>1</td>\n",
       "      <td>1</td>\n",
       "      <td>1</td>\n",
       "    </tr>\n",
       "    <tr>\n",
       "      <th>...</th>\n",
       "      <td>...</td>\n",
       "      <td>...</td>\n",
       "      <td>...</td>\n",
       "    </tr>\n",
       "    <tr>\n",
       "      <th>unitedstates</th>\n",
       "      <td>8</td>\n",
       "      <td>8</td>\n",
       "      <td>8</td>\n",
       "    </tr>\n",
       "    <tr>\n",
       "      <th>zambia</th>\n",
       "      <td>55</td>\n",
       "      <td>55</td>\n",
       "      <td>55</td>\n",
       "    </tr>\n",
       "    <tr>\n",
       "      <th>zambie</th>\n",
       "      <td>2</td>\n",
       "      <td>2</td>\n",
       "      <td>2</td>\n",
       "    </tr>\n",
       "    <tr>\n",
       "      <th>zimbabwe</th>\n",
       "      <td>38</td>\n",
       "      <td>38</td>\n",
       "      <td>38</td>\n",
       "    </tr>\n",
       "    <tr>\n",
       "      <th>åland</th>\n",
       "      <td>1</td>\n",
       "      <td>1</td>\n",
       "      <td>1</td>\n",
       "    </tr>\n",
       "  </tbody>\n",
       "</table>\n",
       "<p>92 rows × 3 columns</p>\n",
       "</div>"
      ],
      "text/plain": [
       "              key_main  Prénom  Nom\n",
       "Nationalité                        \n",
       "                     2       2    2\n",
       "afghanistan          1       1    1\n",
       "afriquedusud         8       8    8\n",
       "alandislands         1       1    1\n",
       "algeria              1       1    1\n",
       "...                ...     ...  ...\n",
       "unitedstates         8       8    8\n",
       "zambia              55      55   55\n",
       "zambie               2       2    2\n",
       "zimbabwe            38      38   38\n",
       "åland                1       1    1\n",
       "\n",
       "[92 rows x 3 columns]"
      ]
     },
     "execution_count": 89,
     "metadata": {},
     "output_type": "execute_result"
    }
   ],
   "source": [
    "challenge.groupby('Nationalité').count()"
   ]
  },
  {
   "cell_type": "code",
   "execution_count": 94,
   "metadata": {},
   "outputs": [
    {
     "ename": "KeyError",
     "evalue": "'presentaion _produit'",
     "output_type": "error",
     "traceback": [
      "\u001b[0;31m---------------------------------------------------------------------------\u001b[0m",
      "\u001b[0;31mKeyError\u001b[0m                                  Traceback (most recent call last)",
      "\u001b[0;32m~/anaconda3/lib/python3.7/site-packages/pandas/core/indexes/base.py\u001b[0m in \u001b[0;36mget_loc\u001b[0;34m(self, key, method, tolerance)\u001b[0m\n\u001b[1;32m   2645\u001b[0m             \u001b[0;32mtry\u001b[0m\u001b[0;34m:\u001b[0m\u001b[0;34m\u001b[0m\u001b[0;34m\u001b[0m\u001b[0m\n\u001b[0;32m-> 2646\u001b[0;31m                 \u001b[0;32mreturn\u001b[0m \u001b[0mself\u001b[0m\u001b[0;34m.\u001b[0m\u001b[0m_engine\u001b[0m\u001b[0;34m.\u001b[0m\u001b[0mget_loc\u001b[0m\u001b[0;34m(\u001b[0m\u001b[0mkey\u001b[0m\u001b[0;34m)\u001b[0m\u001b[0;34m\u001b[0m\u001b[0;34m\u001b[0m\u001b[0m\n\u001b[0m\u001b[1;32m   2647\u001b[0m             \u001b[0;32mexcept\u001b[0m \u001b[0mKeyError\u001b[0m\u001b[0;34m:\u001b[0m\u001b[0;34m\u001b[0m\u001b[0;34m\u001b[0m\u001b[0m\n",
      "\u001b[0;32mpandas/_libs/index.pyx\u001b[0m in \u001b[0;36mpandas._libs.index.IndexEngine.get_loc\u001b[0;34m()\u001b[0m\n",
      "\u001b[0;32mpandas/_libs/index.pyx\u001b[0m in \u001b[0;36mpandas._libs.index.IndexEngine.get_loc\u001b[0;34m()\u001b[0m\n",
      "\u001b[0;32mpandas/_libs/hashtable_class_helper.pxi\u001b[0m in \u001b[0;36mpandas._libs.hashtable.PyObjectHashTable.get_item\u001b[0;34m()\u001b[0m\n",
      "\u001b[0;32mpandas/_libs/hashtable_class_helper.pxi\u001b[0m in \u001b[0;36mpandas._libs.hashtable.PyObjectHashTable.get_item\u001b[0;34m()\u001b[0m\n",
      "\u001b[0;31mKeyError\u001b[0m: 'presentaion _produit'",
      "\nDuring handling of the above exception, another exception occurred:\n",
      "\u001b[0;31mKeyError\u001b[0m                                  Traceback (most recent call last)",
      "\u001b[0;32m<ipython-input-94-ba1bf2f8d5d1>\u001b[0m in \u001b[0;36m<module>\u001b[0;34m\u001b[0m\n\u001b[0;32m----> 1\u001b[0;31m \u001b[0mchallenge\u001b[0m\u001b[0;34m[\u001b[0m\u001b[0mchallenge\u001b[0m\u001b[0;34m[\u001b[0m\u001b[0;34m'Nationalité'\u001b[0m\u001b[0;34m]\u001b[0m\u001b[0;34m.\u001b[0m\u001b[0mmap\u001b[0m\u001b[0;34m(\u001b[0m\u001b[0;32mlambda\u001b[0m \u001b[0mx\u001b[0m\u001b[0;34m:\u001b[0m \u001b[0;36m1\u001b[0m \u001b[0;32mif\u001b[0m \u001b[0;34m'land'\u001b[0m \u001b[0;32min\u001b[0m \u001b[0mx\u001b[0m \u001b[0;32melse\u001b[0m \u001b[0;36m0\u001b[0m\u001b[0;34m)\u001b[0m \u001b[0;34m==\u001b[0m \u001b[0;36m1\u001b[0m\u001b[0;34m]\u001b[0m\u001b[0;34m.\u001b[0m\u001b[0mjoin\u001b[0m\u001b[0;34m(\u001b[0m\u001b[0mchallenge\u001b[0m\u001b[0;34m[\u001b[0m\u001b[0;34m'presentaion _produit'\u001b[0m\u001b[0;34m]\u001b[0m\u001b[0;34m)\u001b[0m\u001b[0;34m\u001b[0m\u001b[0;34m\u001b[0m\u001b[0m\n\u001b[0m",
      "\u001b[0;32m~/anaconda3/lib/python3.7/site-packages/pandas/core/frame.py\u001b[0m in \u001b[0;36m__getitem__\u001b[0;34m(self, key)\u001b[0m\n\u001b[1;32m   2798\u001b[0m             \u001b[0;32mif\u001b[0m \u001b[0mself\u001b[0m\u001b[0;34m.\u001b[0m\u001b[0mcolumns\u001b[0m\u001b[0;34m.\u001b[0m\u001b[0mnlevels\u001b[0m \u001b[0;34m>\u001b[0m \u001b[0;36m1\u001b[0m\u001b[0;34m:\u001b[0m\u001b[0;34m\u001b[0m\u001b[0;34m\u001b[0m\u001b[0m\n\u001b[1;32m   2799\u001b[0m                 \u001b[0;32mreturn\u001b[0m \u001b[0mself\u001b[0m\u001b[0;34m.\u001b[0m\u001b[0m_getitem_multilevel\u001b[0m\u001b[0;34m(\u001b[0m\u001b[0mkey\u001b[0m\u001b[0;34m)\u001b[0m\u001b[0;34m\u001b[0m\u001b[0;34m\u001b[0m\u001b[0m\n\u001b[0;32m-> 2800\u001b[0;31m             \u001b[0mindexer\u001b[0m \u001b[0;34m=\u001b[0m \u001b[0mself\u001b[0m\u001b[0;34m.\u001b[0m\u001b[0mcolumns\u001b[0m\u001b[0;34m.\u001b[0m\u001b[0mget_loc\u001b[0m\u001b[0;34m(\u001b[0m\u001b[0mkey\u001b[0m\u001b[0;34m)\u001b[0m\u001b[0;34m\u001b[0m\u001b[0;34m\u001b[0m\u001b[0m\n\u001b[0m\u001b[1;32m   2801\u001b[0m             \u001b[0;32mif\u001b[0m \u001b[0mis_integer\u001b[0m\u001b[0;34m(\u001b[0m\u001b[0mindexer\u001b[0m\u001b[0;34m)\u001b[0m\u001b[0;34m:\u001b[0m\u001b[0;34m\u001b[0m\u001b[0;34m\u001b[0m\u001b[0m\n\u001b[1;32m   2802\u001b[0m                 \u001b[0mindexer\u001b[0m \u001b[0;34m=\u001b[0m \u001b[0;34m[\u001b[0m\u001b[0mindexer\u001b[0m\u001b[0;34m]\u001b[0m\u001b[0;34m\u001b[0m\u001b[0;34m\u001b[0m\u001b[0m\n",
      "\u001b[0;32m~/anaconda3/lib/python3.7/site-packages/pandas/core/indexes/base.py\u001b[0m in \u001b[0;36mget_loc\u001b[0;34m(self, key, method, tolerance)\u001b[0m\n\u001b[1;32m   2646\u001b[0m                 \u001b[0;32mreturn\u001b[0m \u001b[0mself\u001b[0m\u001b[0;34m.\u001b[0m\u001b[0m_engine\u001b[0m\u001b[0;34m.\u001b[0m\u001b[0mget_loc\u001b[0m\u001b[0;34m(\u001b[0m\u001b[0mkey\u001b[0m\u001b[0;34m)\u001b[0m\u001b[0;34m\u001b[0m\u001b[0;34m\u001b[0m\u001b[0m\n\u001b[1;32m   2647\u001b[0m             \u001b[0;32mexcept\u001b[0m \u001b[0mKeyError\u001b[0m\u001b[0;34m:\u001b[0m\u001b[0;34m\u001b[0m\u001b[0;34m\u001b[0m\u001b[0m\n\u001b[0;32m-> 2648\u001b[0;31m                 \u001b[0;32mreturn\u001b[0m \u001b[0mself\u001b[0m\u001b[0;34m.\u001b[0m\u001b[0m_engine\u001b[0m\u001b[0;34m.\u001b[0m\u001b[0mget_loc\u001b[0m\u001b[0;34m(\u001b[0m\u001b[0mself\u001b[0m\u001b[0;34m.\u001b[0m\u001b[0m_maybe_cast_indexer\u001b[0m\u001b[0;34m(\u001b[0m\u001b[0mkey\u001b[0m\u001b[0;34m)\u001b[0m\u001b[0;34m)\u001b[0m\u001b[0;34m\u001b[0m\u001b[0;34m\u001b[0m\u001b[0m\n\u001b[0m\u001b[1;32m   2649\u001b[0m         \u001b[0mindexer\u001b[0m \u001b[0;34m=\u001b[0m \u001b[0mself\u001b[0m\u001b[0;34m.\u001b[0m\u001b[0mget_indexer\u001b[0m\u001b[0;34m(\u001b[0m\u001b[0;34m[\u001b[0m\u001b[0mkey\u001b[0m\u001b[0;34m]\u001b[0m\u001b[0;34m,\u001b[0m \u001b[0mmethod\u001b[0m\u001b[0;34m=\u001b[0m\u001b[0mmethod\u001b[0m\u001b[0;34m,\u001b[0m \u001b[0mtolerance\u001b[0m\u001b[0;34m=\u001b[0m\u001b[0mtolerance\u001b[0m\u001b[0;34m)\u001b[0m\u001b[0;34m\u001b[0m\u001b[0;34m\u001b[0m\u001b[0m\n\u001b[1;32m   2650\u001b[0m         \u001b[0;32mif\u001b[0m \u001b[0mindexer\u001b[0m\u001b[0;34m.\u001b[0m\u001b[0mndim\u001b[0m \u001b[0;34m>\u001b[0m \u001b[0;36m1\u001b[0m \u001b[0;32mor\u001b[0m \u001b[0mindexer\u001b[0m\u001b[0;34m.\u001b[0m\u001b[0msize\u001b[0m \u001b[0;34m>\u001b[0m \u001b[0;36m1\u001b[0m\u001b[0;34m:\u001b[0m\u001b[0;34m\u001b[0m\u001b[0;34m\u001b[0m\u001b[0m\n",
      "\u001b[0;32mpandas/_libs/index.pyx\u001b[0m in \u001b[0;36mpandas._libs.index.IndexEngine.get_loc\u001b[0;34m()\u001b[0m\n",
      "\u001b[0;32mpandas/_libs/index.pyx\u001b[0m in \u001b[0;36mpandas._libs.index.IndexEngine.get_loc\u001b[0;34m()\u001b[0m\n",
      "\u001b[0;32mpandas/_libs/hashtable_class_helper.pxi\u001b[0m in \u001b[0;36mpandas._libs.hashtable.PyObjectHashTable.get_item\u001b[0;34m()\u001b[0m\n",
      "\u001b[0;32mpandas/_libs/hashtable_class_helper.pxi\u001b[0m in \u001b[0;36mpandas._libs.hashtable.PyObjectHashTable.get_item\u001b[0;34m()\u001b[0m\n",
      "\u001b[0;31mKeyError\u001b[0m: 'presentaion _produit'"
     ]
    }
   ],
   "source": [
    "\n"
   ]
  },
  {
   "cell_type": "code",
   "execution_count": 105,
   "metadata": {},
   "outputs": [
    {
     "data": {
      "text/html": [
       "<div>\n",
       "<style scoped>\n",
       "    .dataframe tbody tr th:only-of-type {\n",
       "        vertical-align: middle;\n",
       "    }\n",
       "\n",
       "    .dataframe tbody tr th {\n",
       "        vertical-align: top;\n",
       "    }\n",
       "\n",
       "    .dataframe thead th {\n",
       "        text-align: right;\n",
       "    }\n",
       "</style>\n",
       "<table border=\"1\" class=\"dataframe\">\n",
       "  <thead>\n",
       "    <tr style=\"text-align: right;\">\n",
       "      <th></th>\n",
       "      <th>Nationalité</th>\n",
       "      <th>Prénom</th>\n",
       "      <th>Nom</th>\n",
       "      <th>Présentation de la structure (limité à 3000 caractères)</th>\n",
       "      <th>Présentation du produit / de la solution phare porté par la structure (disponible et sur le marché)</th>\n",
       "    </tr>\n",
       "    <tr>\n",
       "      <th>key_main</th>\n",
       "      <th></th>\n",
       "      <th></th>\n",
       "      <th></th>\n",
       "      <th></th>\n",
       "      <th></th>\n",
       "    </tr>\n",
       "  </thead>\n",
       "  <tbody>\n",
       "    <tr>\n",
       "      <th>http://.....makinitajohannesmatome</th>\n",
       "      <td>southafrica</td>\n",
       "      <td>johannesmatome</td>\n",
       "      <td>makinita</td>\n",
       "      <td>NaN</td>\n",
       "      <td>NaN</td>\n",
       "    </tr>\n",
       "    <tr>\n",
       "      <th>http://0sachetplastique.unblog.frguebredaouda</th>\n",
       "      <td>burkinafaso</td>\n",
       "      <td>daouda</td>\n",
       "      <td>guebre</td>\n",
       "      <td>NaN</td>\n",
       "      <td>NaN</td>\n",
       "    </tr>\n",
       "    <tr>\n",
       "      <th>http://17goalsafrica.orgoluokunkayodeabiodun</th>\n",
       "      <td>nigeria</td>\n",
       "      <td>kayodeabiodun</td>\n",
       "      <td>oluokun</td>\n",
       "      <td>NaN</td>\n",
       "      <td>NaN</td>\n",
       "    </tr>\n",
       "    <tr>\n",
       "      <th>http://2htechnologie.comcamarahassenmohamed</th>\n",
       "      <td>mauritanie</td>\n",
       "      <td>hassenmohamed</td>\n",
       "      <td>camara</td>\n",
       "      <td>NaN</td>\n",
       "      <td>NaN</td>\n",
       "    </tr>\n",
       "    <tr>\n",
       "      <th>http://7WWW.info.ci/kaborejeanphilippe</th>\n",
       "      <td>cotedivoire</td>\n",
       "      <td>jeanphilippe</td>\n",
       "      <td>kabore</td>\n",
       "      <td>NaN</td>\n",
       "      <td>NaN</td>\n",
       "    </tr>\n",
       "    <tr>\n",
       "      <th>...</th>\n",
       "      <td>...</td>\n",
       "      <td>...</td>\n",
       "      <td>...</td>\n",
       "      <td>...</td>\n",
       "      <td>...</td>\n",
       "    </tr>\n",
       "    <tr>\n",
       "      <th>https://yolibrand.com/souagaetransilvanus</th>\n",
       "      <td>cotedivoire</td>\n",
       "      <td>etransilvanus</td>\n",
       "      <td>souaga</td>\n",
       "      <td>NaN</td>\n",
       "      <td>NaN</td>\n",
       "    </tr>\n",
       "    <tr>\n",
       "      <th>https://yonja.website/andrewtugume</th>\n",
       "      <td>uganda</td>\n",
       "      <td>tugume</td>\n",
       "      <td>andrew</td>\n",
       "      <td>NaN</td>\n",
       "      <td>NaN</td>\n",
       "    </tr>\n",
       "    <tr>\n",
       "      <th>https://youtu.be/1C2ZpqDTO34lumonoperry</th>\n",
       "      <td>congokinshasa</td>\n",
       "      <td>perry</td>\n",
       "      <td>lumono</td>\n",
       "      <td>NaN</td>\n",
       "      <td>NaN</td>\n",
       "    </tr>\n",
       "    <tr>\n",
       "      <th>https://ytg.eco/fahmyabdelrahmanalimohamed</th>\n",
       "      <td>egypt</td>\n",
       "      <td>abdelrahmanalimohamed</td>\n",
       "      <td>fahmy</td>\n",
       "      <td>NaN</td>\n",
       "      <td>NaN</td>\n",
       "    </tr>\n",
       "    <tr>\n",
       "      <th>https://zonoa.net/atakpakodjo</th>\n",
       "      <td>togo</td>\n",
       "      <td>kodjo</td>\n",
       "      <td>atakpa</td>\n",
       "      <td>NaN</td>\n",
       "      <td>NaN</td>\n",
       "    </tr>\n",
       "  </tbody>\n",
       "</table>\n",
       "<p>3529 rows × 5 columns</p>\n",
       "</div>"
      ],
      "text/plain": [
       "                                                 Nationalité  \\\n",
       "key_main                                                       \n",
       "http://.....makinitajohannesmatome               southafrica   \n",
       "http://0sachetplastique.unblog.frguebredaouda    burkinafaso   \n",
       "http://17goalsafrica.orgoluokunkayodeabiodun         nigeria   \n",
       "http://2htechnologie.comcamarahassenmohamed       mauritanie   \n",
       "http://7WWW.info.ci/kaborejeanphilippe           cotedivoire   \n",
       "...                                                      ...   \n",
       "https://yolibrand.com/souagaetransilvanus        cotedivoire   \n",
       "https://yonja.website/andrewtugume                    uganda   \n",
       "https://youtu.be/1C2ZpqDTO34lumonoperry        congokinshasa   \n",
       "https://ytg.eco/fahmyabdelrahmanalimohamed             egypt   \n",
       "https://zonoa.net/atakpakodjo                           togo   \n",
       "\n",
       "                                                              Prénom  \\\n",
       "key_main                                                               \n",
       "http://.....makinitajohannesmatome                    johannesmatome   \n",
       "http://0sachetplastique.unblog.frguebredaouda                 daouda   \n",
       "http://17goalsafrica.orgoluokunkayodeabiodun           kayodeabiodun   \n",
       "http://2htechnologie.comcamarahassenmohamed            hassenmohamed   \n",
       "http://7WWW.info.ci/kaborejeanphilippe                  jeanphilippe   \n",
       "...                                                              ...   \n",
       "https://yolibrand.com/souagaetransilvanus              etransilvanus   \n",
       "https://yonja.website/andrewtugume                            tugume   \n",
       "https://youtu.be/1C2ZpqDTO34lumonoperry                        perry   \n",
       "https://ytg.eco/fahmyabdelrahmanalimohamed     abdelrahmanalimohamed   \n",
       "https://zonoa.net/atakpakodjo                                  kodjo   \n",
       "\n",
       "                                                    Nom  \\\n",
       "key_main                                                  \n",
       "http://.....makinitajohannesmatome             makinita   \n",
       "http://0sachetplastique.unblog.frguebredaouda    guebre   \n",
       "http://17goalsafrica.orgoluokunkayodeabiodun    oluokun   \n",
       "http://2htechnologie.comcamarahassenmohamed      camara   \n",
       "http://7WWW.info.ci/kaborejeanphilippe           kabore   \n",
       "...                                                 ...   \n",
       "https://yolibrand.com/souagaetransilvanus        souaga   \n",
       "https://yonja.website/andrewtugume               andrew   \n",
       "https://youtu.be/1C2ZpqDTO34lumonoperry          lumono   \n",
       "https://ytg.eco/fahmyabdelrahmanalimohamed        fahmy   \n",
       "https://zonoa.net/atakpakodjo                    atakpa   \n",
       "\n",
       "                                              Présentation de la structure (limité à 3000 caractères)  \\\n",
       "key_main                                                                                                \n",
       "http://.....makinitajohannesmatome                                                           NaN        \n",
       "http://0sachetplastique.unblog.frguebredaouda                                                NaN        \n",
       "http://17goalsafrica.orgoluokunkayodeabiodun                                                 NaN        \n",
       "http://2htechnologie.comcamarahassenmohamed                                                  NaN        \n",
       "http://7WWW.info.ci/kaborejeanphilippe                                                       NaN        \n",
       "...                                                                                          ...        \n",
       "https://yolibrand.com/souagaetransilvanus                                                    NaN        \n",
       "https://yonja.website/andrewtugume                                                           NaN        \n",
       "https://youtu.be/1C2ZpqDTO34lumonoperry                                                      NaN        \n",
       "https://ytg.eco/fahmyabdelrahmanalimohamed                                                   NaN        \n",
       "https://zonoa.net/atakpakodjo                                                                NaN        \n",
       "\n",
       "                                              Présentation du produit / de la solution phare porté par la structure (disponible et sur le marché)  \n",
       "key_main                                                                                                                                           \n",
       "http://.....makinitajohannesmatome                                                           NaN                                                   \n",
       "http://0sachetplastique.unblog.frguebredaouda                                                NaN                                                   \n",
       "http://17goalsafrica.orgoluokunkayodeabiodun                                                 NaN                                                   \n",
       "http://2htechnologie.comcamarahassenmohamed                                                  NaN                                                   \n",
       "http://7WWW.info.ci/kaborejeanphilippe                                                       NaN                                                   \n",
       "...                                                                                          ...                                                   \n",
       "https://yolibrand.com/souagaetransilvanus                                                    NaN                                                   \n",
       "https://yonja.website/andrewtugume                                                           NaN                                                   \n",
       "https://youtu.be/1C2ZpqDTO34lumonoperry                                                      NaN                                                   \n",
       "https://ytg.eco/fahmyabdelrahmanalimohamed                                                   NaN                                                   \n",
       "https://zonoa.net/atakpakodjo                                                                NaN                                                   \n",
       "\n",
       "[3529 rows x 5 columns]"
      ]
     },
     "execution_count": 105,
     "metadata": {},
     "output_type": "execute_result"
    }
   ],
   "source": [
    "X = X.loc[:,~X.columns.duplicated()].copy()\n",
    "\n",
    "X['key_main'] = X['Site web de la structure']  + X['Nom'] + X['Prénom']\n",
    "prez = X[['key_main','Présentation de la structure (limité à 3000 caractères)','Présentation du produit / de la solution phare porté par la structure (disponible et sur le marché)']]\n",
    "challenge[challenge['Nationalité'].map(lambda x: 1 if 'land' in x else 0) != 1].set_index('key_main').join(prez.set_index('key_main'))"
   ]
  },
  {
   "cell_type": "code",
   "execution_count": 104,
   "metadata": {},
   "outputs": [
    {
     "data": {
      "text/plain": [
       "1         https://herwinstyle.blogspot.com/boudissaamira\n",
       "2             https://www.sungy.co/Fournier KacimiMyriam\n",
       "3      https://www.linkedin.com/groups/12246043/TOUAB...\n",
       "4      https://www.facebook.com/secretariado.sede.co....\n",
       "5      http://www.nduvasoftware.comVladmirVladmir Ferraz\n",
       "                             ...                        \n",
       "375               http://www.aiconmedia.co.zwNdlovuNigel\n",
       "376         http://www.axissol.comPasirayiNyasha Michael\n",
       "377    http://www.afrigoteltech.co.zaMosaloNonhlanhla...\n",
       "378                    https://kilimotv.com/KipungaJoyce\n",
       "379        http://threams.comOkechukwuSiboniso, Samantha\n",
       "Name: key_main, Length: 3533, dtype: object"
      ]
     },
     "execution_count": 104,
     "metadata": {},
     "output_type": "execute_result"
    }
   ],
   "source": [
    "X['key_main']"
   ]
  },
  {
   "cell_type": "code",
   "execution_count": 10,
   "metadata": {},
   "outputs": [
    {
     "data": {
      "text/plain": [
       "848"
      ]
     },
     "execution_count": 10,
     "metadata": {},
     "output_type": "execute_result"
    }
   ],
   "source": [
    "len(X[X['Status'] == 'Lauréat'])"
   ]
  },
  {
   "cell_type": "code",
   "execution_count": 6,
   "metadata": {},
   "outputs": [
    {
     "data": {
      "text/plain": [
       "['Reference',\n",
       " 'Status',\n",
       " 'Nom',\n",
       " 'Prénom',\n",
       " 'Courriel',\n",
       " 'Civilité',\n",
       " 'Nationalité',\n",
       " 'Votre tranche d’âge',\n",
       " 'Présentation de votre parcours',\n",
       " 'Téléphone mobile',\n",
       " 'Téléphone fixe',\n",
       " 'Compte LinkedIn perso',\n",
       " 'Compte Twitter perso',\n",
       " 'Votre fonction dans la structure',\n",
       " 'Copie de votre pièce identité',\n",
       " 'Votre langue de travail (plusieurs possibles)',\n",
       " 'Le(s) fondateur(s) de la structure est-il (sont-ils) différent(s) du porteur de projet ?',\n",
       " 'Civilité 1',\n",
       " 'Nom, Prénom(s) 1',\n",
       " 'Nationalité 1',\n",
       " 'Civilité 2',\n",
       " 'Nom, Prénom(s) 2',\n",
       " 'Nationalité 2',\n",
       " 'Civilité 3',\n",
       " 'Nom, Prénom(s) 3',\n",
       " 'Nationalité 3',\n",
       " 'Nom / Raison sociale de la structure',\n",
       " 'Date de création de la structure',\n",
       " 'Type de structure',\n",
       " 'Numéro d’enregistrement de la structure',\n",
       " 'Pays d’enregistrement',\n",
       " 'Enregistrement',\n",
       " 'Copie d’un certificat d’enregistrement de votre structure',\n",
       " 'Logo de la structure',\n",
       " 'Adresse du siège social',\n",
       " 'Ville',\n",
       " 'Région',\n",
       " 'Pays',\n",
       " 'Option 1',\n",
       " 'Option 2',\n",
       " 'Option 3',\n",
       " 'Catégorie',\n",
       " 'Autre (précisez)',\n",
       " 'Site web de la structure',\n",
       " 'Compte LinkedIn',\n",
       " 'Compte Facebook',\n",
       " 'Compte Twitter',\n",
       " 'Compte Instagram',\n",
       " 'Lien vers une vidéo',\n",
       " 'Télécharger une plaquette de présentation (pdf)',\n",
       " 'Présentation de la structure',\n",
       " 'Présentation du produit / de la solution phare porté par la structure (disponible et sur le marché)',\n",
       " 'Sur quel marché et vers quelle cible',\n",
       " 'Zone géographique de l’activité',\n",
       " 'Objectifs de croissance et vision à moyen (2 ans) et long terme (5 ans) du marché',\n",
       " 'En quoi votre solution est elle innovante (limité à 1500 caractères)',\n",
       " 'En quoi est elle duplicable à moindre coût (limité à 1500 caractères)',\n",
       " 'En quoi votre solution rend les villes françaises et africaines plus durables du point de vue environnemental et social (limité à 1500 caractères)',\n",
       " 'Devise 2019',\n",
       " '1er trimestre',\n",
       " '2ème trimestre',\n",
       " '3ème trimestre',\n",
       " 'Devise 2018',\n",
       " 'CA 2018',\n",
       " 'Devise 2017',\n",
       " 'CA 2017',\n",
       " 'Homme(s)',\n",
       " 'Femme(s)',\n",
       " 'Accompagnement par une structure (incubateurs, plateformes, réseaux) et si oui, laquelle',\n",
       " 'Autres partenaires clés',\n",
       " 'Prix et distinctions (prix, organisme émetteur et date)',\n",
       " 'Investisseurs',\n",
       " 'Par qui ce challenge vous a été recommandé',\n",
       " 'J’accepte les conditions d’utilisation du site',\n",
       " 'J’accepte de recevoir la newsletter Digital Africa',\n",
       " \"Disposez-vous d'un compte ?\",\n",
       " 'ID Utilisateur',\n",
       " 'Timestamp',\n",
       " 'Last Updated',\n",
       " 'Created By',\n",
       " 'Updated By',\n",
       " 'IP',\n",
       " 'ID',\n",
       " 'Key',\n",
       " 'Civilité',\n",
       " 'Nom',\n",
       " 'Prénom(s)',\n",
       " 'Nationalité',\n",
       " 'Votre tranche d’âge',\n",
       " 'Adresse mail',\n",
       " 'Nom / Raison sociale de la structure',\n",
       " 'Date de création de la structure',\n",
       " 'Pays d’enregistrement',\n",
       " 'Option 1',\n",
       " 'Option 2',\n",
       " 'Option 3',\n",
       " 'Catégorie',\n",
       " 'Site web de la structure',\n",
       " 'Lien vers une vidéo',\n",
       " 'Présentation de la structure (limité à 3000 caractères)',\n",
       " 'Présentation du produit / de la solution phare porté par la structure (disponible et sur le marché)',\n",
       " nan,\n",
       " nan,\n",
       " nan]"
      ]
     },
     "execution_count": 6,
     "metadata": {},
     "output_type": "execute_result"
    }
   ],
   "source": [
    "X.keys().values.tolist()"
   ]
  },
  {
   "cell_type": "code",
   "execution_count": 11,
   "metadata": {},
   "outputs": [
    {
     "name": "stdout",
     "output_type": "stream",
     "text": [
      "Project ID:  web-services-d4-digital-africa\n",
      "Service Account Email:  main-d4da@web-services-d4-digital-africa.iam.gserviceaccount.com\n"
     ]
    }
   ],
   "source": [
    "from DA_IO import Gspreadsheet\n",
    "laureats = Gspreadsheet('Lauréats').sheet_to_df()"
   ]
  },
  {
   "cell_type": "code",
   "execution_count": 13,
   "metadata": {},
   "outputs": [
    {
     "data": {
      "text/plain": [
       "0        januario.hossi7@gmail.com\n",
       "1              kim@bnbsitter.co.za\n",
       "2        inpursuitafrica@gmail.com\n",
       "3      pasipamire.tanaka@gmail.com\n",
       "4                  rensch@live.com\n",
       "                  ...             \n",
       "995               kudakw@gmail.com\n",
       "996              admin@mycpdzw.org\n",
       "997     phillipachengeta@gmail.com\n",
       "998             ruramiso@gmail.com\n",
       "999               erica@fia.expert\n",
       "Name: Email, Length: 1000, dtype: object"
      ]
     },
     "execution_count": 13,
     "metadata": {},
     "output_type": "execute_result"
    }
   ],
   "source": [
    "laureats['Email']"
   ]
  },
  {
   "cell_type": "code",
   "execution_count": 26,
   "metadata": {},
   "outputs": [
    {
     "data": {
      "text/plain": [
       "911"
      ]
     },
     "execution_count": 26,
     "metadata": {},
     "output_type": "execute_result"
    }
   ],
   "source": [
    "len(X[X['Adresse mail'].isin(laureats['Email'])])"
   ]
  },
  {
   "cell_type": "code",
   "execution_count": 17,
   "metadata": {},
   "outputs": [
    {
     "name": "stdout",
     "output_type": "stream",
     "text": [
      "/Volumes/GoogleDrive/My Drive/Open Data Platform/DATA/SCHEMA/star_schema.json\n",
      "/Volumes/GoogleDrive/My Drive/Open Data Platform/DATA/SCHEMA/star_schema.json\n",
      "/Volumes/GoogleDrive/My Drive/Open Data Platform/DATA/SCHEMA/star_schema.json\n",
      "/Volumes/GoogleDrive/My Drive/Open Data Platform/DATA/SCHEMA/star_schema.json\n",
      "/Volumes/GoogleDrive/My Drive/Open Data Platform/DATA/SCHEMA/star_schema.json\n",
      "/Volumes/GoogleDrive/My Drive/Open Data Platform/DATA/SCHEMA/star_schema.json\n",
      "/Volumes/GoogleDrive/My Drive/Open Data Platform/DATA/SCHEMA/star_schema.json\n"
     ]
    }
   ],
   "source": [
    "X = Native().X\n",
    "header = X[X.index == 0].values.tolist()[0]\n",
    "X.columns = header\n",
    "X = X[X.index > 0].copy()"
   ]
  },
  {
   "cell_type": "code",
   "execution_count": 23,
   "metadata": {},
   "outputs": [
    {
     "data": {
      "text/plain": [
       "['Adresse mail']"
      ]
     },
     "execution_count": 23,
     "metadata": {},
     "output_type": "execute_result"
    }
   ],
   "source": [
    "[a for a in header[0:-3] if 'mail' in a]"
   ]
  },
  {
   "cell_type": "code",
   "execution_count": 27,
   "metadata": {},
   "outputs": [
    {
     "data": {
      "text/plain": [
       "1000"
      ]
     },
     "execution_count": 27,
     "metadata": {},
     "output_type": "execute_result"
    }
   ],
   "source": [
    "len(laureats['Email'])"
   ]
  },
  {
   "cell_type": "code",
   "execution_count": null,
   "metadata": {},
   "outputs": [],
   "source": []
  }
 ],
 "metadata": {
  "kernelspec": {
   "display_name": "Python 3",
   "language": "python",
   "name": "python3"
  },
  "language_info": {
   "codemirror_mode": {
    "name": "ipython",
    "version": 3
   },
   "file_extension": ".py",
   "mimetype": "text/x-python",
   "name": "python",
   "nbconvert_exporter": "python",
   "pygments_lexer": "ipython3",
   "version": "3.7.3"
  }
 },
 "nbformat": 4,
 "nbformat_minor": 4
}

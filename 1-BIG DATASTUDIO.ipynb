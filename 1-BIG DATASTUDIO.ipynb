{
 "cells": [
  {
   "cell_type": "code",
   "execution_count": null,
   "metadata": {},
   "outputs": [],
   "source": [
    "stopwords_list = ['stopwords.txt', 'stopwords_agri.txt', 'stopwords_mobi.txt']\n",
    "from nltk.corpus import stopwords\n",
    "\n",
    "\n",
    "class RefEnv(object):\n",
    "\t\"\"\"edit docs\"\"\"\n",
    "\tdef __init__(self, path_PROJECT_DATA= '/Volumes/GoogleDrive/My Drive'):\n",
    "\t\tself.dst = 'Source'\n",
    "\t\tself.Export_folder = 'Export'\n",
    "\t\tself.path_PROJECT_DATA = path_PROJECT_DATA\n",
    "\t\tself.transformed = '{}/Open Data Platform/DATA/Transformed/{}'.format(self.path_PROJECT_DATA, '{}')\n",
    "\n",
    "\n",
    "\n",
    "\n",
    "class Lemm(object): # returns a dataframe with new columns that are lemmatized with a suffix lemm but the data frame must contain the headers that are defined in header_tr \n",
    "    \n",
    "    def __init__(self, file ='stopwords.txt'):\n",
    "        self.stopwords_file = RefEnv().transformed.format(file) \n",
    "        self.stop_words = self.get_set_stopwords()\n",
    "        \n",
    "    def get_set_stopwords(self):\n",
    "        fileName = self.stopwords_file\n",
    "        stopword_file = open(fileName, 'r')\n",
    "        list_stop_word = [line.split(',') for line in stopword_file.readlines()][0] # if I understand correctly this enables to get a list of all the stopwords that are in the stopword file spliting with , => why do we use readlines() and what the [0] stands for ? \n",
    "        return set(stopwords.words('french')).union(set(stopwords.words('english'))).union(set(list_stop_word)) #here we have 2 sets => at the end can we use the set as a list ? I don't really get how we can use set. Is it only to make sure that we have a unique example for each word ? \n",
    "\n",
    "\n",
    "to_remove = [Lemm(file = swrdlist).stop_words for swrdlist in stopwords_list]\n",
    "all_stop = set()\n",
    "for element in to_remove:\n",
    "    all_stop = all_stop.union(element)\n",
    "    \n",
    "all_stop = list(all_stop)"
   ]
  },
  {
   "cell_type": "code",
   "execution_count": null,
   "metadata": {},
   "outputs": [],
   "source": [
    "from rake_nltk import Metric, Rake\n",
    "from DA_IO import Gspreadsheet\n",
    "import nltk\n",
    "data = Gspreadsheet('DataStudio - BIG_Challenge1000').sheet_to_df()\n",
    "print(data.keys())\n",
    "\n",
    "\n",
    "def rake_description(element, lang):\n",
    "    dict_lang = {'EN':'english', 'FR': 'french'}\n",
    "    if lang in ['EN', 'FR']:\n",
    "        r = Rake(ranking_metric=Metric.DEGREE_TO_FREQUENCY_RATIO,\n",
    "                 min_length=1, \n",
    "                 max_length=1, \n",
    "                 language = dict_lang[lang], \n",
    "                 punctuations = [';',\"’\",'&', \"'\",',', '.', '3', '2', '1', '(', ')'],\n",
    "                 stopwords = all_stop\n",
    "                )\n",
    "        r.extract_keywords_from_text(element)\n",
    "        return ' '.join([e.capitalize() for e in r.get_ranked_phrases()])\n",
    "    else:\n",
    "        return ''\n",
    "def run_rake():    \n",
    "    data['keywords_struct'] = data.apply(lambda x: rake_description(x['prez_struc'], x['Langue']), axis = 1)\n",
    "    data['keywords_product'] = data.apply(lambda x: rake_description(x['prez_produit_struc'], x['Langue']), axis = 1)\n",
    "    return data\n",
    "\n",
    "def update_datastudio():\n",
    "    Gspreadsheet('DataStudio - BIG_Challenge1000').df_to_sheet(output[col + ['prez','Langue','keywords_struct','keywords_product']])\n"
   ]
  },
  {
   "cell_type": "code",
   "execution_count": null,
   "metadata": {},
   "outputs": [],
   "source": [
    "output = run_rake()\n",
    "col = ['Prénom', 'Nom', 'nom_struc', 'Nationalité','cat_sub1_struc', 'cat_sub2_struc', 'cat_sub3_struc', 'cat_struc','cat_autre_struc','catégorie','prez_struc', 'prez_produit_struc']"
   ]
  },
  {
   "cell_type": "code",
   "execution_count": null,
   "metadata": {},
   "outputs": [],
   "source": [
    "for element in output['keywords_product'].values.tolist():\n",
    "    print(element, '\\n')"
   ]
  },
  {
   "cell_type": "code",
   "execution_count": null,
   "metadata": {},
   "outputs": [],
   "source": [
    "update_datastudio()"
   ]
  }
 ],
 "metadata": {
  "kernelspec": {
   "display_name": "Python 3",
   "language": "python",
   "name": "python3"
  },
  "language_info": {
   "codemirror_mode": {
    "name": "ipython",
    "version": 3
   },
   "file_extension": ".py",
   "mimetype": "text/x-python",
   "name": "python",
   "nbconvert_exporter": "python",
   "pygments_lexer": "ipython3",
   "version": "3.7.3"
  }
 },
 "nbformat": 4,
 "nbformat_minor": 4
}

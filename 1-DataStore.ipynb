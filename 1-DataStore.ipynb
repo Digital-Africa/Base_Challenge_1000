{
 "cells": [
  {
   "cell_type": "code",
   "execution_count": 39,
   "metadata": {
    "execution": {
     "iopub.execute_input": "2020-06-22T16:57:08.444012Z",
     "iopub.status.busy": "2020-06-22T16:57:08.442737Z",
     "iopub.status.idle": "2020-06-22T16:57:08.469981Z",
     "shell.execute_reply": "2020-06-22T16:57:08.450733Z",
     "shell.execute_reply.started": "2020-06-22T16:57:08.443945Z"
    }
   },
   "outputs": [],
   "source": [
    "from google.cloud import datastore\n",
    "import datetime\n",
    "import pandas"
   ]
  },
  {
   "cell_type": "markdown",
   "metadata": {},
   "source": [
    "# DataStore"
   ]
  },
  {
   "cell_type": "code",
   "execution_count": 40,
   "metadata": {
    "execution": {
     "iopub.execute_input": "2020-06-22T16:57:08.978207Z",
     "iopub.status.busy": "2020-06-22T16:57:08.977704Z",
     "iopub.status.idle": "2020-06-22T16:57:08.989791Z",
     "shell.execute_reply": "2020-06-22T16:57:08.983272Z",
     "shell.execute_reply.started": "2020-06-22T16:57:08.978154Z"
    }
   },
   "outputs": [],
   "source": [
    "GOOGLE_APPLICATION_CREDENTIALS=\"/Users/Shared/digital-africa/web-services-d4-digital-africa-2eb794c55b04.json\"\n",
    "client = datastore.Client.from_service_account_json(GOOGLE_APPLICATION_CREDENTIALS)\n",
    "entity_name = 'SU_challenge1000_'\n",
    "not_index = ['prez_struc', 'prez_produit_struc']"
   ]
  },
  {
   "cell_type": "code",
   "execution_count": 41,
   "metadata": {
    "execution": {
     "iopub.execute_input": "2020-06-22T16:57:09.227934Z",
     "iopub.status.busy": "2020-06-22T16:57:09.227483Z",
     "iopub.status.idle": "2020-06-22T16:57:09.241736Z",
     "shell.execute_reply": "2020-06-22T16:57:09.238473Z",
     "shell.execute_reply.started": "2020-06-22T16:57:09.227895Z"
    }
   },
   "outputs": [],
   "source": [
    "def create_data(client, entity_name, data, not_index):\n",
    "    key = client.key(entity_name,data['key_main'])\n",
    "    record = datastore.Entity(key, exclude_from_indexes=not_index)\n",
    "    #task = datastore.Entity(key)\n",
    "    #data.update({'created': datetime.datetime.utcnow()})\n",
    "    record.update(data)\n",
    "    client.put(record)\n",
    "    return record.key\n",
    "\n",
    "def update_record(client,entity_name, key_main):\n",
    "    with client.transaction():\n",
    "        key = client.key(entity_name, key_main)\n",
    "        su = client.get(key)\n",
    "\n",
    "        if not task:\n",
    "            raise ValueError(\n",
    "                'Task {} does not exist.'.format(key_main))\n",
    "\n",
    "       #su['Agriculture'] = True\n",
    "\n",
    "        client.put(task)\n",
    "\n",
    "def list_records(client, entity_name):\n",
    "    query = client.query(kind=entity_name)\n",
    "    #query.order = ['created']\n",
    "    return list(query.fetch())\n",
    "\n",
    "def datastore_to_pandas(SU):\n",
    "    #ds = list_records(client, entity_name)\n",
    "    ds = [dict(a.items()) for a in SU]\n",
    "    records = pandas.DataFrame.from_dict(ds_).set_index('key_main')\n",
    "    return records"
   ]
  },
  {
   "cell_type": "markdown",
   "metadata": {},
   "source": [
    "# Data with label"
   ]
  },
  {
   "cell_type": "code",
   "execution_count": 42,
   "metadata": {
    "execution": {
     "iopub.execute_input": "2020-06-22T16:57:10.093583Z",
     "iopub.status.busy": "2020-06-22T16:57:10.093237Z",
     "iopub.status.idle": "2020-06-22T16:57:14.800806Z",
     "shell.execute_reply": "2020-06-22T16:57:14.799428Z",
     "shell.execute_reply.started": "2020-06-22T16:57:10.093546Z"
    }
   },
   "outputs": [],
   "source": [
    "import chalenge1000\n",
    "\n",
    "\n",
    "def chunkIt(seq, num):\n",
    "    avg = len(seq) / float(num)\n",
    "    out = []\n",
    "    last = 0.0\n",
    "\n",
    "    while last < len(seq):\n",
    "        out.append(seq[int(last):int(last + avg)])\n",
    "        last += avg\n",
    "    return out\n",
    "\n",
    "\n",
    "Chalenge = chalenge1000.Native()\n",
    "descriptions = Chalenge.descriptions\n",
    "data = descriptions[['nom_struc','prez_struc', 'prez_produit_struc']].reset_index().to_dict(orient = 'records')\n",
    "data = chunkIt(data, 10)\n",
    "data_test = data[0]"
   ]
  },
  {
   "cell_type": "code",
   "execution_count": 43,
   "metadata": {
    "execution": {
     "iopub.execute_input": "2020-06-22T16:57:14.807938Z",
     "iopub.status.busy": "2020-06-22T16:57:14.807192Z",
     "iopub.status.idle": "2020-06-22T16:57:17.135437Z",
     "shell.execute_reply": "2020-06-22T16:57:17.134239Z",
     "shell.execute_reply.started": "2020-06-22T16:57:14.807874Z"
    }
   },
   "outputs": [
    {
     "data": {
      "text/plain": [
       "149"
      ]
     },
     "execution_count": 43,
     "metadata": {},
     "output_type": "execute_result"
    }
   ],
   "source": [
    "import chalenge1000\n",
    "import gspread\n",
    "from oauth2client.service_account import ServiceAccountCredentials\n",
    "\n",
    "def to_boolean(element):\n",
    "    if element == '1':\n",
    "        return True\n",
    "    else:\n",
    "        return False\n",
    "    \n",
    "scope = ['https://spreadsheets.google.com/feeds',\n",
    "         'https://www.googleapis.com/auth/drive']\n",
    "\n",
    "credentials = ServiceAccountCredentials.from_json_keyfile_name(\n",
    "         'credentials.json', scope) # Your json file here\n",
    "\n",
    "gc = gspread.authorize(credentials)\n",
    "\n",
    "wks = gc.open(\"training_set\").sheet1\n",
    "\n",
    "data = wks.get_all_values()\n",
    "headers = data.pop(0)\n",
    "\n",
    "label = pandas.DataFrame(data, columns=headers).set_index('key_main')\n",
    "label['producteur'] = label['producteur'].map(to_boolean)\n",
    "label['plateforme'] = label['plateforme'].map(to_boolean)\n",
    "\n",
    "\n",
    "len(label)"
   ]
  },
  {
   "cell_type": "code",
   "execution_count": 44,
   "metadata": {
    "execution": {
     "iopub.execute_input": "2020-06-22T16:57:17.140157Z",
     "iopub.status.busy": "2020-06-22T16:57:17.139383Z",
     "iopub.status.idle": "2020-06-22T16:57:17.175084Z",
     "shell.execute_reply": "2020-06-22T16:57:17.172493Z",
     "shell.execute_reply.started": "2020-06-22T16:57:17.140105Z"
    }
   },
   "outputs": [
    {
     "data": {
      "text/html": [
       "<div>\n",
       "<style scoped>\n",
       "    .dataframe tbody tr th:only-of-type {\n",
       "        vertical-align: middle;\n",
       "    }\n",
       "\n",
       "    .dataframe tbody tr th {\n",
       "        vertical-align: top;\n",
       "    }\n",
       "\n",
       "    .dataframe thead th {\n",
       "        text-align: right;\n",
       "    }\n",
       "</style>\n",
       "<table border=\"1\" class=\"dataframe\">\n",
       "  <thead>\n",
       "    <tr style=\"text-align: right;\">\n",
       "      <th></th>\n",
       "      <th>producteur</th>\n",
       "      <th>plateforme</th>\n",
       "    </tr>\n",
       "    <tr>\n",
       "      <th>key_main</th>\n",
       "      <th></th>\n",
       "      <th></th>\n",
       "    </tr>\n",
       "  </thead>\n",
       "  <tbody>\n",
       "    <tr>\n",
       "      <th>http://www.sunumbay-agritech.sn/_aw_mohamedelbechir</th>\n",
       "      <td>False</td>\n",
       "      <td>True</td>\n",
       "    </tr>\n",
       "    <tr>\n",
       "      <th>https://m.facebook.com/story.php?story_fbid=523711488470216&amp;id=333247734183260_agbogan_codjomarc</th>\n",
       "      <td>False</td>\n",
       "      <td>True</td>\n",
       "    </tr>\n",
       "    <tr>\n",
       "      <th>https://agribusinessdata.com_depo_adebayoajadi</th>\n",
       "      <td>False</td>\n",
       "      <td>True</td>\n",
       "    </tr>\n",
       "    <tr>\n",
       "      <th>http://www.miensahgroup.com/_kouakou_koffigislain</th>\n",
       "      <td>False</td>\n",
       "      <td>False</td>\n",
       "    </tr>\n",
       "    <tr>\n",
       "      <th>http://www.mokine.org_ziegoubefoka_emmanuel</th>\n",
       "      <td>False</td>\n",
       "      <td>False</td>\n",
       "    </tr>\n",
       "    <tr>\n",
       "      <th>...</th>\n",
       "      <td>...</td>\n",
       "      <td>...</td>\n",
       "    </tr>\n",
       "    <tr>\n",
       "      <th>http://www.cbdibaong.org_houedanou_martin</th>\n",
       "      <td>True</td>\n",
       "      <td>False</td>\n",
       "    </tr>\n",
       "    <tr>\n",
       "      <th>http://www.cbdibaong.org_yemadje_emeline</th>\n",
       "      <td>True</td>\n",
       "      <td>False</td>\n",
       "    </tr>\n",
       "    <tr>\n",
       "      <th>http://www.cbdibaong.org_akokponsode_hippolyte</th>\n",
       "      <td>True</td>\n",
       "      <td>False</td>\n",
       "    </tr>\n",
       "    <tr>\n",
       "      <th>http://www.cbdibaong.org_aholou_pulcherie</th>\n",
       "      <td>True</td>\n",
       "      <td>False</td>\n",
       "    </tr>\n",
       "    <tr>\n",
       "      <th>http://www.cbdibaong.org_tchegninougbo_marcelline</th>\n",
       "      <td>True</td>\n",
       "      <td>False</td>\n",
       "    </tr>\n",
       "  </tbody>\n",
       "</table>\n",
       "<p>149 rows × 2 columns</p>\n",
       "</div>"
      ],
      "text/plain": [
       "                                                    producteur  plateforme\n",
       "key_main                                                                  \n",
       "http://www.sunumbay-agritech.sn/_aw_mohamedelbe...       False        True\n",
       "https://m.facebook.com/story.php?story_fbid=523...       False        True\n",
       "https://agribusinessdata.com_depo_adebayoajadi           False        True\n",
       "http://www.miensahgroup.com/_kouakou_koffigislain        False       False\n",
       "http://www.mokine.org_ziegoubefoka_emmanuel              False       False\n",
       "...                                                        ...         ...\n",
       "http://www.cbdibaong.org_houedanou_martin                 True       False\n",
       "http://www.cbdibaong.org_yemadje_emeline                  True       False\n",
       "http://www.cbdibaong.org_akokponsode_hippolyte            True       False\n",
       "http://www.cbdibaong.org_aholou_pulcherie                 True       False\n",
       "http://www.cbdibaong.org_tchegninougbo_marcelline         True       False\n",
       "\n",
       "[149 rows x 2 columns]"
      ]
     },
     "execution_count": 44,
     "metadata": {},
     "output_type": "execute_result"
    }
   ],
   "source": [
    "label[['producteur', 'plateforme']]"
   ]
  },
  {
   "cell_type": "code",
   "execution_count": 46,
   "metadata": {
    "execution": {
     "iopub.execute_input": "2020-06-22T16:57:29.916362Z",
     "iopub.status.busy": "2020-06-22T16:57:29.916048Z",
     "iopub.status.idle": "2020-06-22T16:57:32.973546Z",
     "shell.execute_reply": "2020-06-22T16:57:32.972489Z",
     "shell.execute_reply.started": "2020-06-22T16:57:29.916331Z"
    }
   },
   "outputs": [
    {
     "data": {
      "text/plain": [
       "{nan, False, True}"
      ]
     },
     "execution_count": 46,
     "metadata": {},
     "output_type": "execute_result"
    }
   ],
   "source": [
    "import chalenge1000\n",
    "import collections\n",
    "import pandas\n",
    "\n",
    "def lw(anystring):\n",
    "    try:\n",
    "        return anystring.lower()\n",
    "    except:\n",
    "        return ''\n",
    "    \n",
    "def is_agriculture(element):\n",
    "    if element == 'agriculture':\n",
    "        return True\n",
    "    else:\n",
    "        return False\n",
    "\n",
    "def _agriculture__(element):\n",
    "    if element in agriculture:\n",
    "        return True\n",
    "    else:\n",
    "        return False\n",
    "\n",
    "df = chalenge1000.Native().ALL   \n",
    "keys = df.keys().values.tolist()\n",
    "\n",
    "cat = [a for a in keys if 'cat' in a]\n",
    "for element in cat:\n",
    "    df[element] = df[element].map(lw)\n",
    "    \n",
    "agr = {e for e in df['cat_autre_struc'].values.tolist() if 'agr' in e}\n",
    "alim = {e for e in df['cat_autre_struc'].values.tolist() if 'alim' in e}\n",
    "agriculture = alim.union(agr)    \n",
    "df['label_agriculture'] = df['categorie'].map(is_agriculture)\n",
    "df['maybe_agriculture'] = df['cat_autre_struc'].map(_agriculture__)\n",
    "\n",
    "df = df[['label_agriculture','maybe_agriculture']].join(label[['producteur', 'plateforme']])\n",
    "df = df.join(chalenge1000.Native().descriptions[['nom_struc','prez_struc', 'prez_produit_struc']])\n",
    "set(df['producteur'])"
   ]
  },
  {
   "cell_type": "code",
   "execution_count": 48,
   "metadata": {
    "execution": {
     "iopub.execute_input": "2020-06-22T16:57:43.001010Z",
     "iopub.status.busy": "2020-06-22T16:57:43.000462Z",
     "iopub.status.idle": "2020-06-22T16:57:43.051024Z",
     "shell.execute_reply": "2020-06-22T16:57:43.049778Z",
     "shell.execute_reply.started": "2020-06-22T16:57:43.000838Z"
    }
   },
   "outputs": [
    {
     "name": "stdout",
     "output_type": "stream",
     "text": [
      "19\n",
      "58\n",
      "697\n",
      "15\n"
     ]
    }
   ],
   "source": [
    "print(len(df[df['producteur']==True]))\n",
    "print(len(df[df['plateforme']==True]))\n",
    "print(len(df[df['label_agriculture']==True]))\n",
    "print(len(df[df['maybe_agriculture']==True]))"
   ]
  },
  {
   "cell_type": "markdown",
   "metadata": {},
   "source": [
    "# Write to datastore"
   ]
  },
  {
   "cell_type": "code",
   "execution_count": 49,
   "metadata": {
    "execution": {
     "iopub.execute_input": "2020-06-22T16:57:45.291768Z",
     "iopub.status.busy": "2020-06-22T16:57:45.291390Z",
     "iopub.status.idle": "2020-06-22T16:57:45.341589Z",
     "shell.execute_reply": "2020-06-22T16:57:45.340450Z",
     "shell.execute_reply.started": "2020-06-22T16:57:45.291718Z"
    }
   },
   "outputs": [],
   "source": [
    "def chunkIt(seq, num):\n",
    "    avg = len(seq) / float(num)\n",
    "    out = []\n",
    "    last = 0.0\n",
    "\n",
    "    while last < len(seq):\n",
    "        out.append(seq[int(last):int(last + avg)])\n",
    "        last += avg\n",
    "    return out\n",
    "\n",
    "data = df.reset_index().to_dict(orient = 'records')\n",
    "data = chunkIt(data, 10)"
   ]
  },
  {
   "cell_type": "code",
   "execution_count": 50,
   "metadata": {
    "execution": {
     "iopub.execute_input": "2020-06-22T16:57:46.307096Z",
     "iopub.status.busy": "2020-06-22T16:57:46.306631Z",
     "iopub.status.idle": "2020-06-22T16:58:02.985539Z",
     "shell.execute_reply": "2020-06-22T16:58:02.984617Z",
     "shell.execute_reply.started": "2020-06-22T16:57:46.307037Z"
    }
   },
   "outputs": [],
   "source": [
    "def batch_write():\n",
    "    #e = client.query(kind='SU_challenge1000').fetch()\n",
    "    #[client.delete(k.key) for k in list(e)]\n",
    "    for chunk in data:\n",
    "        batch = client.batch()\n",
    "        with batch:\n",
    "            for element in chunk:\n",
    "                create_data(client, entity_name, element, not_index)\n",
    "batch_write()"
   ]
  },
  {
   "cell_type": "code",
   "execution_count": 118,
   "metadata": {
    "execution": {
     "iopub.execute_input": "2020-06-22T14:36:15.681223Z",
     "iopub.status.busy": "2020-06-22T14:36:15.680751Z",
     "iopub.status.idle": "2020-06-22T14:36:18.029878Z",
     "shell.execute_reply": "2020-06-22T14:36:18.028975Z",
     "shell.execute_reply.started": "2020-06-22T14:36:15.681187Z"
    }
   },
   "outputs": [
    {
     "data": {
      "text/plain": [
       "3449"
      ]
     },
     "execution_count": 118,
     "metadata": {},
     "output_type": "execute_result"
    }
   ],
   "source": [
    "len(list_records(client, entity_name))"
   ]
  },
  {
   "cell_type": "markdown",
   "metadata": {},
   "source": [
    "# Read from datastore"
   ]
  },
  {
   "cell_type": "code",
   "execution_count": 51,
   "metadata": {
    "execution": {
     "iopub.execute_input": "2020-06-23T09:54:29.041843Z",
     "iopub.status.busy": "2020-06-23T09:54:29.019798Z",
     "iopub.status.idle": "2020-06-23T09:54:33.154658Z",
     "shell.execute_reply": "2020-06-23T09:54:33.153490Z",
     "shell.execute_reply.started": "2020-06-23T09:54:29.041662Z"
    }
   },
   "outputs": [
    {
     "data": {
      "text/html": [
       "<div>\n",
       "<style scoped>\n",
       "    .dataframe tbody tr th:only-of-type {\n",
       "        vertical-align: middle;\n",
       "    }\n",
       "\n",
       "    .dataframe tbody tr th {\n",
       "        vertical-align: top;\n",
       "    }\n",
       "\n",
       "    .dataframe thead th {\n",
       "        text-align: right;\n",
       "    }\n",
       "</style>\n",
       "<table border=\"1\" class=\"dataframe\">\n",
       "  <thead>\n",
       "    <tr style=\"text-align: right;\">\n",
       "      <th></th>\n",
       "      <th>_agriculture_</th>\n",
       "      <th>prez_struc</th>\n",
       "      <th>producteur</th>\n",
       "      <th>nom_struc</th>\n",
       "      <th>label_agriculture</th>\n",
       "      <th>plateforme</th>\n",
       "      <th>prez_produit_struc</th>\n",
       "    </tr>\n",
       "    <tr>\n",
       "      <th>key_main</th>\n",
       "      <th></th>\n",
       "      <th></th>\n",
       "      <th></th>\n",
       "      <th></th>\n",
       "      <th></th>\n",
       "      <th></th>\n",
       "      <th></th>\n",
       "    </tr>\n",
       "  </thead>\n",
       "  <tbody>\n",
       "    <tr>\n",
       "      <th>http://....._makinita_johannesmatome</th>\n",
       "      <td>False</td>\n",
       "      <td>Reetsang-Kedi Holdings is a consulting firm sp...</td>\n",
       "      <td>NaN</td>\n",
       "      <td>Reetsang-Kedi Consulting Agency (Pty) Ltd</td>\n",
       "      <td>True</td>\n",
       "      <td>NaN</td>\n",
       "      <td>Biosecurity  - This includes pest control, hou...</td>\n",
       "    </tr>\n",
       "    <tr>\n",
       "      <th>http://0sachetplastique.unblog.fr_guebre_daouda</th>\n",
       "      <td>False</td>\n",
       "      <td>Une structure de recyclage de déchets plastiques.</td>\n",
       "      <td>NaN</td>\n",
       "      <td>0 déchet plastique</td>\n",
       "      <td>False</td>\n",
       "      <td>NaN</td>\n",
       "      <td>En recyclant, les déchets plastiques en poudre.</td>\n",
       "    </tr>\n",
       "    <tr>\n",
       "      <th>http://17goalsafrica.org_oluokun_kayodeabiodun</th>\n",
       "      <td>False</td>\n",
       "      <td>17GoalsAfrica Initiative is an organisation se...</td>\n",
       "      <td>NaN</td>\n",
       "      <td>17 Goals Africa Initiative</td>\n",
       "      <td>False</td>\n",
       "      <td>NaN</td>\n",
       "      <td>United Nations Women Global Goals World Cup. I...</td>\n",
       "    </tr>\n",
       "    <tr>\n",
       "      <th>http://2htechnologie.com_camara_hassenmohamed</th>\n",
       "      <td>False</td>\n",
       "      <td>2H-Technologie est une entreprise spécialisée ...</td>\n",
       "      <td>NaN</td>\n",
       "      <td>2H-TECHNOLOGIE</td>\n",
       "      <td>False</td>\n",
       "      <td>NaN</td>\n",
       "      <td>vente du Materiel Informatique et VIDÉO-SURVEI...</td>\n",
       "    </tr>\n",
       "    <tr>\n",
       "      <th>http://7WWW.info.ci/_kabore_jeanphilippe</th>\n",
       "      <td>False</td>\n",
       "      <td>Optimum Médias est la structure qui porte la m...</td>\n",
       "      <td>NaN</td>\n",
       "      <td>Optimum Media</td>\n",
       "      <td>False</td>\n",
       "      <td>NaN</td>\n",
       "      <td>Le projet phare est d’apporter une information...</td>\n",
       "    </tr>\n",
       "    <tr>\n",
       "      <th>...</th>\n",
       "      <td>...</td>\n",
       "      <td>...</td>\n",
       "      <td>...</td>\n",
       "      <td>...</td>\n",
       "      <td>...</td>\n",
       "      <td>...</td>\n",
       "      <td>...</td>\n",
       "    </tr>\n",
       "    <tr>\n",
       "      <th>https://yolibrand.com/_souaga_etransilvanus</th>\n",
       "      <td>False</td>\n",
       "      <td>Société à Responsabilité Limitée au capital de...</td>\n",
       "      <td>NaN</td>\n",
       "      <td>YOLIBRAND</td>\n",
       "      <td>False</td>\n",
       "      <td>NaN</td>\n",
       "      <td>Site de personnalisation en ligne. Permettant ...</td>\n",
       "    </tr>\n",
       "    <tr>\n",
       "      <th>https://yonja.website/_andrew_tugume</th>\n",
       "      <td>False</td>\n",
       "      <td>Yonja is a sanitation service delivery company...</td>\n",
       "      <td>NaN</td>\n",
       "      <td>Yonja Mobile Solutions Ltd</td>\n",
       "      <td>False</td>\n",
       "      <td>NaN</td>\n",
       "      <td>A GIS enabled and data driven  mobile applicat...</td>\n",
       "    </tr>\n",
       "    <tr>\n",
       "      <th>https://youtu.be/1C2ZpqDTO34_lumono_perry</th>\n",
       "      <td>False</td>\n",
       "      <td>Nous sommes un groupe de chercheurs de plus d'...</td>\n",
       "      <td>NaN</td>\n",
       "      <td>GROUPE AGENCE MODERNE</td>\n",
       "      <td>False</td>\n",
       "      <td>NaN</td>\n",
       "      <td>notre entreprise résout le problème des déchet...</td>\n",
       "    </tr>\n",
       "    <tr>\n",
       "      <th>https://ytg.eco/_fahmy_abdelrahmanalimohamed</th>\n",
       "      <td>False</td>\n",
       "      <td>Youthinkgreen Egypt is youth led organizations...</td>\n",
       "      <td>NaN</td>\n",
       "      <td>youthinkgreen Egypt</td>\n",
       "      <td>False</td>\n",
       "      <td>NaN</td>\n",
       "      <td>The Sustainability and Entrepreneurship Youth ...</td>\n",
       "    </tr>\n",
       "    <tr>\n",
       "      <th>https://zonoa.net/_atakpa_kodjo</th>\n",
       "      <td>False</td>\n",
       "      <td>ZONOA EDUCATION est une entreprise de \\r\\nserv...</td>\n",
       "      <td>NaN</td>\n",
       "      <td>ZONOA EDUCATION</td>\n",
       "      <td>False</td>\n",
       "      <td>NaN</td>\n",
       "      <td>ZONOA est une application mobile disponible su...</td>\n",
       "    </tr>\n",
       "  </tbody>\n",
       "</table>\n",
       "<p>3449 rows × 7 columns</p>\n",
       "</div>"
      ],
      "text/plain": [
       "                                                 _agriculture_  \\\n",
       "key_main                                                         \n",
       "http://....._makinita_johannesmatome                     False   \n",
       "http://0sachetplastique.unblog.fr_guebre_daouda          False   \n",
       "http://17goalsafrica.org_oluokun_kayodeabiodun           False   \n",
       "http://2htechnologie.com_camara_hassenmohamed            False   \n",
       "http://7WWW.info.ci/_kabore_jeanphilippe                 False   \n",
       "...                                                        ...   \n",
       "https://yolibrand.com/_souaga_etransilvanus              False   \n",
       "https://yonja.website/_andrew_tugume                     False   \n",
       "https://youtu.be/1C2ZpqDTO34_lumono_perry                False   \n",
       "https://ytg.eco/_fahmy_abdelrahmanalimohamed             False   \n",
       "https://zonoa.net/_atakpa_kodjo                          False   \n",
       "\n",
       "                                                                                        prez_struc  \\\n",
       "key_main                                                                                             \n",
       "http://....._makinita_johannesmatome             Reetsang-Kedi Holdings is a consulting firm sp...   \n",
       "http://0sachetplastique.unblog.fr_guebre_daouda  Une structure de recyclage de déchets plastiques.   \n",
       "http://17goalsafrica.org_oluokun_kayodeabiodun   17GoalsAfrica Initiative is an organisation se...   \n",
       "http://2htechnologie.com_camara_hassenmohamed    2H-Technologie est une entreprise spécialisée ...   \n",
       "http://7WWW.info.ci/_kabore_jeanphilippe         Optimum Médias est la structure qui porte la m...   \n",
       "...                                                                                            ...   \n",
       "https://yolibrand.com/_souaga_etransilvanus      Société à Responsabilité Limitée au capital de...   \n",
       "https://yonja.website/_andrew_tugume             Yonja is a sanitation service delivery company...   \n",
       "https://youtu.be/1C2ZpqDTO34_lumono_perry        Nous sommes un groupe de chercheurs de plus d'...   \n",
       "https://ytg.eco/_fahmy_abdelrahmanalimohamed     Youthinkgreen Egypt is youth led organizations...   \n",
       "https://zonoa.net/_atakpa_kodjo                  ZONOA EDUCATION est une entreprise de \\r\\nserv...   \n",
       "\n",
       "                                                producteur  \\\n",
       "key_main                                                     \n",
       "http://....._makinita_johannesmatome                   NaN   \n",
       "http://0sachetplastique.unblog.fr_guebre_daouda        NaN   \n",
       "http://17goalsafrica.org_oluokun_kayodeabiodun         NaN   \n",
       "http://2htechnologie.com_camara_hassenmohamed          NaN   \n",
       "http://7WWW.info.ci/_kabore_jeanphilippe               NaN   \n",
       "...                                                    ...   \n",
       "https://yolibrand.com/_souaga_etransilvanus            NaN   \n",
       "https://yonja.website/_andrew_tugume                   NaN   \n",
       "https://youtu.be/1C2ZpqDTO34_lumono_perry              NaN   \n",
       "https://ytg.eco/_fahmy_abdelrahmanalimohamed           NaN   \n",
       "https://zonoa.net/_atakpa_kodjo                        NaN   \n",
       "\n",
       "                                                                                 nom_struc  \\\n",
       "key_main                                                                                     \n",
       "http://....._makinita_johannesmatome             Reetsang-Kedi Consulting Agency (Pty) Ltd   \n",
       "http://0sachetplastique.unblog.fr_guebre_daouda                         0 déchet plastique   \n",
       "http://17goalsafrica.org_oluokun_kayodeabiodun                  17 Goals Africa Initiative   \n",
       "http://2htechnologie.com_camara_hassenmohamed                               2H-TECHNOLOGIE   \n",
       "http://7WWW.info.ci/_kabore_jeanphilippe                                     Optimum Media   \n",
       "...                                                                                    ...   \n",
       "https://yolibrand.com/_souaga_etransilvanus                                      YOLIBRAND   \n",
       "https://yonja.website/_andrew_tugume                            Yonja Mobile Solutions Ltd   \n",
       "https://youtu.be/1C2ZpqDTO34_lumono_perry                            GROUPE AGENCE MODERNE   \n",
       "https://ytg.eco/_fahmy_abdelrahmanalimohamed                           youthinkgreen Egypt   \n",
       "https://zonoa.net/_atakpa_kodjo                                            ZONOA EDUCATION   \n",
       "\n",
       "                                                 label_agriculture plateforme  \\\n",
       "key_main                                                                        \n",
       "http://....._makinita_johannesmatome                          True        NaN   \n",
       "http://0sachetplastique.unblog.fr_guebre_daouda              False        NaN   \n",
       "http://17goalsafrica.org_oluokun_kayodeabiodun               False        NaN   \n",
       "http://2htechnologie.com_camara_hassenmohamed                False        NaN   \n",
       "http://7WWW.info.ci/_kabore_jeanphilippe                     False        NaN   \n",
       "...                                                            ...        ...   \n",
       "https://yolibrand.com/_souaga_etransilvanus                  False        NaN   \n",
       "https://yonja.website/_andrew_tugume                         False        NaN   \n",
       "https://youtu.be/1C2ZpqDTO34_lumono_perry                    False        NaN   \n",
       "https://ytg.eco/_fahmy_abdelrahmanalimohamed                 False        NaN   \n",
       "https://zonoa.net/_atakpa_kodjo                              False        NaN   \n",
       "\n",
       "                                                                                prez_produit_struc  \n",
       "key_main                                                                                            \n",
       "http://....._makinita_johannesmatome             Biosecurity  - This includes pest control, hou...  \n",
       "http://0sachetplastique.unblog.fr_guebre_daouda    En recyclant, les déchets plastiques en poudre.  \n",
       "http://17goalsafrica.org_oluokun_kayodeabiodun   United Nations Women Global Goals World Cup. I...  \n",
       "http://2htechnologie.com_camara_hassenmohamed    vente du Materiel Informatique et VIDÉO-SURVEI...  \n",
       "http://7WWW.info.ci/_kabore_jeanphilippe         Le projet phare est d’apporter une information...  \n",
       "...                                                                                            ...  \n",
       "https://yolibrand.com/_souaga_etransilvanus      Site de personnalisation en ligne. Permettant ...  \n",
       "https://yonja.website/_andrew_tugume             A GIS enabled and data driven  mobile applicat...  \n",
       "https://youtu.be/1C2ZpqDTO34_lumono_perry        notre entreprise résout le problème des déchet...  \n",
       "https://ytg.eco/_fahmy_abdelrahmanalimohamed     The Sustainability and Entrepreneurship Youth ...  \n",
       "https://zonoa.net/_atakpa_kodjo                  ZONOA est une application mobile disponible su...  \n",
       "\n",
       "[3449 rows x 7 columns]"
      ]
     },
     "execution_count": 51,
     "metadata": {},
     "output_type": "execute_result"
    }
   ],
   "source": [
    "ds = list_records(client, entity_name)\n",
    "datastore_to_pandas(ds)"
   ]
  },
  {
   "cell_type": "code",
   "execution_count": 33,
   "metadata": {
    "execution": {
     "iopub.execute_input": "2020-06-22T15:17:51.778203Z",
     "iopub.status.busy": "2020-06-22T15:17:51.777732Z",
     "iopub.status.idle": "2020-06-22T15:17:51.888183Z",
     "shell.execute_reply": "2020-06-22T15:17:51.885454Z",
     "shell.execute_reply.started": "2020-06-22T15:17:51.778154Z"
    }
   },
   "outputs": [
    {
     "data": {
      "text/plain": [
       "[{'key_main': 'http://YamAgroIndustrie.bf_yameogo_stevearmandleonardwendkouni',\n",
       "  'label_agriculture': False,\n",
       "  'nom_struc': 'Yam agro INDUSTRIE',\n",
       "  'plateforme': nan,\n",
       "  'prez_produit_struc': \"Nous avons deux types de sirop à savoir le sirop de bissap et de gingembre. Un biscuit les cookies au chocolat et une confiture celle à la mangue. Nous envisageons mettre sur le marché d'ici mars 2020 trois nouveaux sirops et une confiture\",\n",
       "  'prez_struc': 'Entreprise spécialisée dans la transformation agroalimentaire made in Burkina Faso,  nous proposons aux consommateurs burkinabé des sirop , des biscuits et de la confiture.',\n",
       "  '_agriculture_': True,\n",
       "  'producteur': nan},\n",
       " {'producteur': nan,\n",
       "  'key_main': 'http://www.aquareignindustry.com_mbouleediango_marcidriss',\n",
       "  'label_agriculture': False,\n",
       "  'nom_struc': 'Aquareign industry',\n",
       "  'plateforme': nan,\n",
       "  'prez_produit_struc': 'Etant donné que notre projet porte toute une chaine de valeur, alors nous disposons de plusieurs produits et services.\\r\\n\\r\\nActivités (https://aquareignindustry.com/) : \\r\\n-\\tIngénierie Aquacole : Construction des infrastructures de productions tels que les étangs, les bacs hors sols (en béton, en bâche, en plastique et autres). Nous avons déjà réalisé plus d’une 100aine d’ouvrage.\\r\\n-\\tProduction aquacole : Production du poisson et alevins par cycle de 4 mois. Nous en produisons 15 tonnes par cycle.\\r\\n-\\tExpertise en aquaculture : Analyse de la qualité du sol, de l’eau et des poissons. Nous élaborons des projets de la conception jusqu’à la réalisation.\\r\\n-\\tFormation et stage : Nous formons et offrons des stages aux jeunes diplômés désirant de faire carrière ou pas dans le domaine de l’Aquaculture. Nous avons à notre actif formé rien qu’en 2019 plus 530 personnes.\\r\\n-\\tVulgarisation : Nous participons aux foires, aux conférences, aux journées portes ouvertes afin de faire connaitre à tous surtout les jeunes l’importance de produire du poisson au Cameroun en particulier et en Afrique en général.\\r\\n-\\tAménagement des sites marécageux : Nous concevons des aménagements touristiques et écologiques pour toutes les surfaces humides du continent dès que l’occasion s’y présente.\\r\\n \\r\\nProduits (https://aquareignindustry.com/) :\\r\\n1)\\tProduit de la Production piscicole :\\r\\n-\\tPoisson Silure, qui est notre premier produit car on en produit plus de 10 tonnes par cycle.\\r\\n-\\tPoisson Tilapia, pas très demandé pour notre marché actuel on en produit moins d’une tonne.\\r\\n-\\tPoisson Carpe,\\r\\n-\\tAliment local,\\r\\n-\\tAlevins,\\r\\n2)\\tProduit de la conception des matériels :\\r\\n-\\tEpuisette local,\\r\\n-\\tKit hors sol d’entrainement pour produire le poisson à la maison,\\r\\n-\\tKit hors sol pour projet à haut capital,\\r\\n-\\tKit de contrôle de la production connecté, pas encore commercialisé.\\r\\n\\r\\nServices (https://aquareignindustry.com/) :\\r\\n-\\tFormation pratique,\\r\\n-\\tVisite de terrain,\\r\\n-\\tAnalyse des paramètres de production,\\r\\n-\\tConsultation et expertise,\\r\\n-\\tPrestation de service.',\n",
       "  '_agriculture_': True,\n",
       "  'prez_struc': 'En Aout 2016 s’appelant Aqua’frica product, l’entreprise Aquareign industry avait commencé ses activités en qualité de prestataire de service dans la région du littoral, du Sud, du Centre, de l’Ouest, du Nord, de l’Est et de l’Extrême nord du Cameroun où elle réalise les 45% des prestations de service sur le total actuel. \\r\\n A partir de 2017 elle a ajouté a son catalogue d’activité : l’innovation, la production du poisson de table et d’alevin, la transformation du poisson, les formations /stages et l’agro tourisme. \\r\\nEn juillet 2017 particulièrement, Aqua’frica product se transforme à Aqua’frica consulting et  devient une entreprise légale enregistrée au registre de commerce sous le matricule RC/YAO/2017/A/2973 et de contribuable au numéro P049312632432N .  \\r\\n Depuis 2018,  Aquareign industry est en projet de mise en place de 100 kits projet SFE en milieu urbain et rural et d’installation complète de deux grandes fermes (aquacoles et agroécologiques) grâce à une participation combinée de financement autonome et de financement gouvernemental.  \\r\\nA partir d’Avril 2019 Aqua’frica consulting devient Aquareign industry, l’une des pionnières de l’innovation aquacole en Afrique, classé une fois meilleure innovation en technologie aquacole grâce à ses kits de production de poisson adapté en milieu urbain capable de produire 500 à 2000 poissons au mètre cube de bac .  \\r\\nNous sommes constitués de huit (08) travailleurs permanent et sept (07) temporaires, donc un (1) ingénieur en management, (01) ingénieur en aquaculture, (03) techniciens en production animale et de trois (3) assistant. Il a deux sièges dont l’un des sites encore en construction est situé derrière la Scierie de mfou et  doté de (8) bacs hors sol bétonnés,  d’un bâtiment de minoterie de 80m2, d’une écloserie (45m2), d’un dortoir (38m2) et d’une clôture bétonnée sur 100 m² ainsi que 16 étangs. L’autre site est basé dans le quartier Nkolanga sur la route Yaoundé-Mfou. Ce deuxième site est doté d’un bureau administratif et d’une salle de formation.'},\n",
       " {'prez_produit_struc': '\"MUAMBA\", est une patte d\\'arachide préparée dans le respect des normes hygiéniques, et dont le process veut s\\'aligner sur les normes alimentaires internationales.\\r\\ncomposé à 99% d\\'arachide grillées et broyées après avoir été systématiquement triés nous y avons exclu tout additifs de synthèse suivant les recommandations de pharmaciens et des diététiciens de renom.\\r\\n\\r\\nLe produit est disponible en pot format 500 grammes, et seaux conteneur plastique de 3, 6 et 20 Kg',\n",
       "  '_agriculture_': True,\n",
       "  'prez_struc': 'Congo Food Company est une entreprise qui œuvre dans la transformation des produits agricoles locaux afin de palier au problème de dépendance du marché local vis-à-vis des denrées importées. \\r\\nDepuis décembre 2018, la production du jus puis celle du thé ont fait l\\'essentiel des activités de l\\'entreprise.\\r\\nEn 2020, l\\'entreprise a démarré des études pour lancer son 3è produit dénommée \"MUAMBA\" ,patte d\\'arachide en langue locale.\\r\\nSuite au premier abord avec le marché  , les feed-backs ont été plutôt positifs et nous ont poussé à aller plus loin jusqu\\'à mécaniser la production et en visant un marché plus grand.  \\r\\nCertaines préoccupations affichées par les prospects quant à l’accès au produit ont été prise en compte et sont désormais intégrées dans notre proposition de valeur.',\n",
       "  'producteur': nan,\n",
       "  'key_main': 'http://www.congofresh.com_enge_albert',\n",
       "  'nom_struc': 'CONGO FOOD COMPANY',\n",
       "  'label_agriculture': False,\n",
       "  'plateforme': nan},\n",
       " {'nom_struc': 'Kobo Hub',\n",
       "  'label_agriculture': False,\n",
       "  'plateforme': nan,\n",
       "  'prez_produit_struc': \"Notre mission est d’accélérer l’émergence et la réussite d’entrepreneurs locaux développant des projets qui répondent à des besoins locaux et valorisent les compétences locales.\\r\\nNous offrons de l'accompagnement sur-mesure à chaque  projet!\",\n",
       "  '_agriculture_': True,\n",
       "  'prez_struc': 'Kobo Hub est une plateforme congolaise dédiée à l’accélération de start-ups et de jeunes entreprises en République Démocratique du Congo.\\r\\nKobo Hub participe à la formation et au mentorat de startups pour les aider à démarrer et à grandir. Kobo Hub accompagne les porteurs de projets en mettant à leur disposition un réseau d’experts pluridisciplinaires, un accès aux compétences, aux ressources et aux infrastructures indispensables au succès et à la croissance de leurs projets',\n",
       "  'producteur': nan,\n",
       "  'key_main': 'http://www.kobo-hub.com_latere_atiyasidonie'},\n",
       " {'producteur': nan,\n",
       "  'key_main': 'http://www.leader-manioc-96.websel.net/site%20map.xml_adognon_alidaodilekayissan',\n",
       "  'label_agriculture': False,\n",
       "  'nom_struc': 'CPA-NEGOCIATION INTERNATIONALE Sarl',\n",
       "  'plateforme': nan,\n",
       "  'prez_produit_struc': 'Gari YéYé est un produit de haute gamme fait à base de 100% du manioc frais, cuit dans de bonnes conditions d’hygiène par des femmes ayant un grand savoir-faire en la matière. Reconditionner et étiqueter  dans des emballages transparents biodégradables, le gari YéYé luit de tout son éclat invitant toute personne à la dégustation.\\r\\nGari YéYé est composé d’un mélange homogène de grains secs, croustillants et d’une odeur agréable stimulant l’appétit.\\r\\n Gari YéYé offre l’avantage de se conserver pendant toute une année sans risque de détérioration, même après ouverture il garde ses caractéristiques de départ témoignant de sa cuisson optimale. \\r\\nGari YéYé permet de bénéficier d’un usage multiple, sa propreté vous incite à acheter pour vous et pour vos parents à l’étranger sans oublier le packaging qui facilite son transport dans tous vos déplacements.',\n",
       "  '_agriculture_': True,\n",
       "  'prez_struc': 'CPA-NEGOCIATION INTERNATIONALE est une société à responsabilité limitée qui au départ était dans la commercialisation des produits agricoles (soja, anacarde, sésame, gingembre) mais par la suite s’est spécialisée dans la production des dérivés de manioc, disposant à la fois d’une unité traditionnelle de transformation de manioc et d’un local. Dès lors, CPA-NEGOCIATION INTERNATIONALE Sarl opère uniquement dans le secteur de la transformation agro-alimentaire dont la transformation du manioc en produits dérivés de qualité haute de gamme. \\r\\nL’unité traditionnelle de transformation de manioc est située dans le département du Plateau du Bénin au sein de la commune d’Adja-Ouèrè, plus précisément dans l’arrondissement de Tatonnonkon, au village Ichangni-Honta situé à 10km de l’axe conduisant à la Mairie. \\r\\nLe local est dans la capitale du Bénin, département de l’Ouémé, au quartier Houinmè Akossombo du quatrième arrondissement de Porto-Novo et joue le rôle de pont entre la transformation et la distribution.'},\n",
       " {'key_main': 'http://www.madeintogo.com_wattara_fankjah',\n",
       "  'label_agriculture': False,\n",
       "  'nom_struc': 'FANKFOOD',\n",
       "  'plateforme': nan,\n",
       "  'prez_produit_struc': \"MÉLANGE D'EPICES\\r\\nNotre produit Mélange d'épices est une mixture de plusieurs épices cultivées dans des conditions naturelle sans engrais chimique ni pesticides et herbicides.\\r\\nCe Mélange sert d'assaisonnement de viande, de poisson, de sauces, de fritures\\r\\nTout pour relever le goût et l'arôme des repas\",\n",
       "  '_agriculture_': True,\n",
       "  'prez_struc': 'FANKFOOD est une entreprise de transformation et de commercialisation des épices et légumes sous forme * brisure et ou farine*\\r\\nNous sommes spécialisés dans le NATUREL\\r\\nla transformation des produits sans engrais chimiques ni conservateurs\\r\\nNotre slogan est * LE NATUREL AU SERVICE DE LA SANTÉ*',\n",
       "  'producteur': nan},\n",
       " {'key_main': 'http://www.senebusiness.com_sene_ablaye',\n",
       "  'nom_struc': 'SENE BUSINESS',\n",
       "  'label_agriculture': False,\n",
       "  'plateforme': nan,\n",
       "  'prez_produit_struc': 'Le produit fini obtenu est le café en poudre aromatisé avec des arômes purement sénégalais conditionné dans des emballages:\\r\\n- bio dégradables pour minimiser les risques environnementaux\\r\\n- dans des capsules en inox réutilisable et compatibles dans toutes les machines Nespresso',\n",
       "  '_agriculture_': True,\n",
       "  'prez_struc': 'SENE BUSINESS est une unité de distribution de marchandises diverses agroalimentaires et porte le projet Café Touba choukran qui est une unité de transformation de conditionnement et de commercialisation de café',\n",
       "  'producteur': nan},\n",
       " {'label_agriculture': False,\n",
       "  'nom_struc': 'Piment Agro Sylvo Pastorale',\n",
       "  'plateforme': nan,\n",
       "  'prez_produit_struc': 'Le produit est un ketchup (purée) de piment frais conservé à la température ambiante pendant un an. Le produit est pasteurisé et conditionné dans des pot de 12 cl en PET. Nous innovons toujours et nous sommes en train de diversifier à la mise prochaine sur le marché de piment vert et de nectar de piment en plus du piment jaune.-----Le piment est broyé et pasteurisé en trois catégories La première est jaune, la seconde est verte et la troisième est liquide dont le nectar de piment Toutes les trois catégories sont conservées à la température ambiante pendant un an sans additifs ni conservateurs.',\n",
       "  'prez_struc': \"PASP.sarl intervient pour le moment dans la transformation du piment frais du Burkina Faso en produit durable conservé à la température ambiante. Depuis quatre ans l'entreprise compte trois employés et se porte bien dans son environnement économique. Avec une unité de transformation de 150 mètres carrés environ, nous arrivons à transformer 5 sacs de 100 kg par jours.-----La société à responsabilité limité Piment Agro Sylvo Pastorale; oeuvre dans la transformation du piment frais au Burkina Faso. Depuis Février 2016 nous oeuvrons à valoriser ce surplus de la production maraichère dont le piment frais à ajouter de la valeur sur le plan de la conservation. Nous disposons d'une unité de transformation de 150 metres carrés dont une broiyeuse, une pasteriseuse et une conditionneuse sont installées. \\r\\nL'entreprise cette année veut maximiser dans la vene et à faire connaitre son produit au dela de nos frontières.\",\n",
       "  '_agriculture_': True,\n",
       "  'producteur': nan,\n",
       "  'key_main': 'https://4piment.blogspot.com/_sinare_idrissa'},\n",
       " {'producteur': nan,\n",
       "  'key_main': 'https://web.facebook.com/davenbakery_ongmessom_blanche',\n",
       "  'label_agriculture': False,\n",
       "  'nom_struc': 'DAVEN BAKERY & SERVICES',\n",
       "  'plateforme': nan,\n",
       "  'prez_produit_struc': 'Les produits sont commercialisés sous la marque «SEUN ». Cette marque SEUN  véhicule les valeurs telles que : Bien être, Santé, Engagement, Honnêteté, intégrité,  respect, satisfaction client,  et c’est ce que nous partageons à travers nos produits \\r\\nLa gamme des produits SEUN sont naturels, sans conservateurs, sans additifs, sans gluten et contiennent des microorganismes favorisant le métabolisme du glucose. Ces produits sont: des cookies de Manioc au chocolat et cacahuète, cookies de plantain au chocolat, cookies de patate au sésame, sablés de maïs, pains de patate, de plantain, de melon et de soja-----Notre entreprise propose des produits de boulangerie et de pâtisseries sans gluten et diététique. Ils sont réalisés à base de: Manioc, Plantain, Patate douce,  Melon, Maïs, Soja... . Ce sont des cookies, sablés, pains etc\\r\\nLa gamme des produits SEUN sont naturels, sans conservateurs, sans additifs, sans gluten et contiennent des microorganismes favorisant le métabolisme du glucose.-----Daven Bakery fait dans des produits de boulangerie et pâtisseries sans gluten et diététique. Ces produits sont réalisés à base des tubercules et céréales que sont: Manioc, Plantain, Patate douce, Maïs, Soja... La gamme des produits SEUN sont naturels, sans conservateurs, sans additifs, sans gluten et contiennent des microorganismes favorisant le métabolisme du glucose.',\n",
       "  '_agriculture_': True,\n",
       "  'prez_struc': 'DAVEN BAKERY & SERVICES est une jeune entreprise agroalimentaire qui met sur le marché Camerounais des produits de boulangerie et de pâtisserie faits à partir des matières premières locales notamment : le manioc, le plantain, le maïs, la banane, la patate…\\r\\nIl s’agit donc d’une entité agroalimentaire qui entend valoriser le label Cameroun en valorisant la matière première locale. Le projet va ce faisant contribuer l’atteinte des objectifs publics qui sont de valoriser de plus en plus la matière première locale à l’effet d’inverser la tendance du déficit chronique de la balance commerciale et contribuer aussi à  l’amélioration des conditions de vie des populations en contribuant à l’amélioration de la qualité des produits agroalimentaires. En effet il est de notoriété publique que la santé dépend en grande partie de ce que l’on consomme. Or ici le projet entend mettre sur le marché des produits à base de matières non chimiques, sans conservateur ni additifs et qui utilisent peu de matières grasses et de sucres ajoutés et surtout qui n’emploient pas de gluten.\\r\\nL’idée de notre entreprise est venue principalement de deux observations qui sont :\\r\\nPremièrement notre empathie pour les enfants vulnérables car étant depuis plus de 13 ans dans le secteur humanitaire et deuxièmement pour des personnes faisant des allergies  à la consommation du gluten et les diabétiques.  DAVEN BAKERY & SERVICES privilégie la création d’un concept simple et innovant, en utilisant les produits connus et consommés par la grande majorité.-----DAVEN BAKERY & SERVICES est une jeune entreprise agroalimentaire qui met sur le marché Camerounais des produits de boulangerie et de pâtisserie faits à partir des matières premières locales notamment : le manioc, le plantain, le maïs, la banane, la patate…\\r\\nIl s’agit donc d’une entité agroalimentaire qui entend valoriser le label Cameroun en valorisant la matière première locale. Le projet va ce faisant contribuer l’atteinte des objectifs publics qui sont de valoriser de plus en plus la matière première locale à l’effet d’inverser la tendance du déficit chronique de la balance commerciale et contribuer aussi à  l’amélioration des conditions de vie des populations en contribuant à l’amélioration de la qualité des produits agroalimentaires. En effet il est de notoriété publique que la santé dépend en grande partie de ce que l’on consomme. Or ici le projet entend mettre sur le marché des produits à base de matières non chimiques, sans conservateur ni additifs et qui utilisent peu de matières grasses et de sucres ajoutés et surtout qui n’emploient pas de gluten.\\r\\nL’idée de notre entreprise est venue principalement de deux observations qui sont :\\r\\nPremièrement notre empathie pour les enfants vulnérables car étant depuis plus de 13 ans dans le secteur humanitaire et deuxièmement pour des personnes faisant des allergies  à la consommation du gluten et les diabétiques. \\r\\n Lors d’un voyage humanitaire en 2015 en Amérique du Sud, j’ai pu réaliser à quel point les produits dérivés du blé étaient très consommés et sous toutes ses formes. Sachant combien le pain fait à base de blé ne se digère pas facilement ou presque pas du tout et l’envie de proposer des alternatives au blé, je rentre avec un défi celui de développer des pâtisseries à base des tubercules et céréales. C’est ainsi que je me lance dans cette nouvelle aventure en juillet 2017. De ce fait, nous avons pu qualifier les perspectives porteuses du marché de la structure. \\r\\nDAVEN BAKERY & SERVICES privilégie la création d’un concept simple et innovant, en utilisant les produits connus et consommés par la grande majorité.-----DAVEN BAKERY & SERVICES est une jeune entreprise agroalimentaire qui met sur le marché Camerounais des produits de boulangerie et de pâtisserie faits à partir des matières premières locales notamment : le manioc, le plantain, le maïs, la banane, la patate…\\r\\nIl s’agit donc d’une entité agroalimentaire qui entend valoriser le label Cameroun en valorisant la matière première locale. Le projet va ce faisant contribuer l’atteinte des objectifs publics qui sont de valoriser de plus en plus la matière première locale à l’effet d’inverser la tendance du déficit chronique de la balance commerciale et contribuer aussi à  l’amélioration des conditions de vie des populations en contribuant à l’amélioration de la qualité des produits agroalimentaires. En effet il est de notoriété publique que la santé dépend en grande partie de ce que l’on consomme. Or ici le projet entend mettre sur le marché des produits à base de matières non chimiques, sans conservateur ni additifs et qui utilisent peu de matières grasses et de sucres ajoutés et surtout qui n’emploient pas de gluten.\\r\\nL’idée de notre entreprise est venue principalement de deux observations qui sont :\\r\\nPremièrement notre empathie pour les enfants vulnérables car étant depuis plus de 13 ans dans le secteur humanitaire et deuxièmement pour des personnes faisant des allergies  à la consommation du gluten et les diabétiques. \\r\\n Lors d’un voyage humanitaire en 2015 en Amérique du Sud, j’ai pu réaliser à quel point les produits dérivés du blé étaient très consommés et sous toutes ses formes. Sachant combien le pain fait à base de blé ne se digère pas facilement ou presque pas du tout et l’envie de proposer des alternatives au blé, je rentre avec un défi celui de développer des pâtisseries à base des tubercules et céréales. C’est ainsi que je me lance dans cette nouvelle aventure en juillet 2017. De ce fait, nous avons pu qualifier les perspectives porteuses du marché de la structure. \\r\\nDAVEN BAKERY & SERVICES privilégie la création d’un concept simple et innovant, en utilisant les produits connus et consommés par la grande majorité.'},\n",
       " {'_agriculture_': True,\n",
       "  'prez_struc': 'La société SHEGUN FOODS SARL développe le concept « IYERU AQUAPONICS  »  en vue d’impacter les populations urbaines béninoises voire africaines en matière de développement économique local. Ce concept intégré consiste à promouvoir l’Agriculture urbaine, en l’occurrence l’AQUAPONIE qui est une combinaison de l’aquaculture et de l’hydroponie. Ainsi sur un espace relativement réduit deux (02) filières agricoles à travers un circuit intégré sont-elles développées, à savoir l’aquaculture et la production végétale.',\n",
       "  'producteur': nan,\n",
       "  'key_main': 'https://web.facebook.com/faycal.aguemon_aguemon_shegun',\n",
       "  'nom_struc': 'Shegun Foods',\n",
       "  'label_agriculture': False,\n",
       "  'plateforme': nan,\n",
       "  'prez_produit_struc': 'Le principal objet du projet « IYERU AQUAPONICS » est de faire en premier lieu la production intensive du CLARIAS et du TILAPIA dans des tanques à eau de 1000 litres  et la production de plantes (laitues, basilic etc) à travers la technique aquaponique. Nous voulons participer activement à la promotion de l’agriculture urbaine biologique, en l’occurrence l’Aquaponie. Ce concept participera à la promotion de la sécurité alimentaire en Afrique, en l’occurrence au Bénin. Ce projet à travers des kits aquaponiques est conçu pour être source de bonheur aux populations urbaines en vue d’une gestion efficiente de leurs flux financiers. Le concept compte apporter, à travers une démarche professionnelle, son appui à la mise en œuvre des politiques de l’état, en matière de sécurité alimentaire, en matière de réduction de la pauvreté, en matière de lutte contre la désertification. Ce concept est un modèle en matière d’agriculture biologique.'},\n",
       " {'producteur': nan,\n",
       "  'key_main': 'https://www.2mi-sa.com/_djermakoye_reki',\n",
       "  'label_agriculture': False,\n",
       "  'nom_struc': '2M Invest',\n",
       "  'plateforme': nan,\n",
       "  'prez_produit_struc': \"2M Invest est spécialisée dans la promotion de l’entreprenariat et l’inclusion financière à travers la formation et l’accompagnement des couches vulnérables notamment les femmes et les jeunes en milieu rural et urbain\\r\\n2M Invest offre des services innovants aux femmes et aux  jeunes entrepreneurs à travers une démarche inclusive dans les domaines de :\\r\\nla formation, l’accompagnement structuré, le financement éthique, la mise en réseaux\\r\\nSur la partie financement elle met en place un produit CALAO AGRI INVEST qui vise après la formation et la préparation de groupements au financement, de les accompagner dans la constitution d'un premier fonds à partir de cotisations et de les aider ensuite à préparer une demande de financement. 2M INVEST lève ensuite des fonds auprès d'une plateforme de Crowdfunding (SOLYLEND à Bordeaux) qui sont mis à disposition d'une banque partenaire pour financer les groupements. La banque partenaire peut apporter des ressources additionnelles. 2M INVEST apporte le service de suivi des groupements et faciliter ainsi le bon remboursement des prêts.\",\n",
       "  'prez_struc': 'Créée le 28 mars 2018, MATA & MATASSA Investing « 2Mi SA » est une Société Anonyme avec Conseil d’Administration, au capital de 530 000 000 francs CFA ; capital qui sera porté à un (1) milliard en janvier 2020. Elle est immatriculée au Registre du Commerce et Crédit Mobilier sous le Numéro NE-NIA-2018-B- 1103 du 04 avril 2018. Elle a son siège social à Niamey en République du Niger.\\r\\nLa société poursuit les objectifs ci-après :\\r\\n<U+F07D>\\tLa promotion de l’inclusion financière par la vulgarisation du modèle MATA MASU DUBARA ;\\r\\n<U+F07D>\\tla promotion de l’entrepreneuriat innovant et inclusif à travers le centre d’incubation « 2MInvest » ;\\r\\n<U+F07D>\\tLa levée de fonds pour le financement des entreprises;\\r\\n<U+F07D>\\tl’autonomisation  et l’empowerment de la femme et des jeunes ;\\r\\n<U+F07D>\\tla promotion des énergies renouvelables et emplois verts ;\\r\\n<U+F07D>\\tla réalisation d’études économiques et financières, audit et suivi-évaluation ;\\r\\n<U+F07D>\\tToutes prestations qui entrent dans le cadre du but poursuivi par la société.',\n",
       "  '_agriculture_': True},\n",
       " {'producteur': nan,\n",
       "  'key_main': 'https://www.le-lionceau.com/_samba_siny',\n",
       "  'nom_struc': 'Le Lionceau',\n",
       "  'label_agriculture': False,\n",
       "  'plateforme': nan,\n",
       "  'prez_produit_struc': \"Le Lionceau apporte aux producteurs, de nouvelles opportunités commerciales, et aux mamans, des purées pour bébé saines, locales et qualitatives, en renforçant la chaîne de valeur alimentaire locale.\\r\\nIl s’agit avant tout de s’appuyer sur la chaîne de valeur locale pour produire des aliments pour bébés, adaptés aux besoins et au goûts locaux. Nous avons fait le choix de pénétrer le marché des purées (petits pots) pour bébé, en associant les céréales traditionnellement utilisées au Sénégal pour l'alimentation des enfants (mil, fonio), avec des fruits locaux (mangue, banane) et/ou des superfruits (baobab), pour obtenir des purées de haute qualité nutritionnelle et à la saveur unique. \\r\\nL'entreprise offre actuellement sur  le marché une large gamme de 15 références de produits (11 purées et 4 biscuits) spécifiques pour bébé et élaborés à partir de matières premières locales. Nos produits sont spécialement fabriqués pour apporter aux bébés les éléments nutritionnels dont ils ont besoin pour favoriser au mieux leur croissance physique et le développement de leur cerveau.\",\n",
       "  '_agriculture_': True,\n",
       "  'prez_struc': \"Le Lionceau est une entreprise agro-alimentaire à forte valeur sociale, spécialisée dans l'alimentation infantile, qui a pour vocation le renforcement de la chaîne de valeur alimentaire Sénégalaise. Nous proposons des purées pour bébé de haute qualité nutritionnelle sourcées auprès des producteurs locaux, adaptées aux besoins nutritionnels et aux habitudes de consommation locales.\\r\\nLe Lionceau adresse une problématique cruciale dans le développement du Sénégal : la chaîne de valeur alimentaire, notamment dans l'alimentation infantile, est brisée. D’un côté, nous avons les petits producteurs qui, faute de débouchés ou de moyens de transformation, se retrouvent en état de précarité financière et qui peinent à écouler l'ensemble de leur production.\\r\\nDe l’autre côté de la chaîne de valeur alimentaire, les bébés, dont l'état nutritionnel reste alarmant.  19% des enfants de moins de 5 ans souffrent de retard de croissance et 6% sont atteints de malnutrition aiguë. Les mamans, faute d’alternative locale en purées pour bébé, sont contraintes de nourrir leur enfant avec des produits importés ou non adaptés (produits pour adultes, trop salés, trop sucrés et contenant de nombreux additifs), ce qui n'améliore pas l'état nutritionnel de l'enfant.\\r\\nNous sommes donc la première entreprise au Sénégal spécialisée dans l'alimentation et la nutrition infantile ; et proposons des purées pour bébé (6 mois à 3 ans), élaborées à partir de matières premières provenant des petits producteurs locaux avec qui nous avons noué des partenariats durables.\\r\\nAu-delà de proposer des produits de qualité pour bébé, nous nous sommes rendus compte que le problème de la malnutrition au Sénégal n’était pas seulement une question d’accessibilité aux aliments de qualité, mais un problème d’éducation nutritionnelle. Nous avons donc mis en place un programme d’éducation nutritionnelle à travers des vidéos en langue locale (Wolof) et sous-titrées en français pour la sous-région Ouest Africaine. Nos vidéos sensibilisent sur l’importance des 1000 premiers jours de l’enfant avec différents volets : nutrition maternelle et infantile, l'alimentation de la femme enceinte et allaitante... Ces vidéos sont accessibles à tous grâce au digital et pour les personnes qui n’ont pas accès à internet, nous faisons des ateliers directs de sensibilisation sur le terrain.\\r\\nNous visons l’amélioration de l’état nutritionnel des enfants en valorisant le potentiel des producteur.e.s locaux, en proposons des produits de haute qualité nutritionnelle et en donnant l’accès à l’information sur une bonne nutrition.\"},\n",
       " {'label_agriculture': False,\n",
       "  'nom_struc': 'Petite Pirogue',\n",
       "  'plateforme': nan,\n",
       "  'prez_produit_struc': \"Nous avons des produits alimentaires que nous livrons auprès des familles de la diaspora dans leur pays d'origine.\",\n",
       "  '_agriculture_': True,\n",
       "  'prez_struc': \"Nous organisons la vente et la distribution des produits alimentaires. L'objectif est de permettre aux familles de bénéficier des produits alimentaires achetés par leurs proches partout dans le monde.\",\n",
       "  'producteur': nan,\n",
       "  'key_main': 'https://www.petitepirogue.com_matembe_herve'},\n",
       " {'producteur': nan,\n",
       "  'key_main': 'https://www.trebalt.com/_bah_anais',\n",
       "  'nom_struc': 'Trébalt',\n",
       "  'label_agriculture': False,\n",
       "  'plateforme': nan,\n",
       "  'prez_produit_struc': \"Trébalt agit pour la préservation de la planète et lutte contre la malnutrition en récoltant via des groupements de femmes, en cultivant des insectes comestible.\\r\\nNotre objectif au sein de Trébalt, nous allons fournir dans nos restaurants des plats agrémentés avec des insectes, sur notre plateforme de vente et magasins de distribution des produits à base d’insectes tout au long de l’année avec des procédés permettant de garantir la qualité et la saveur des produits.\\r\\n\\r\\nTrébalt aspire à lutter contre la malnutrition des pays fortement touchés par la famine, de ce fait, l'entreprise va établir des partenariats avec les ONGs, Association et toutes structures qui intervient auprès des ces populations vulnérables en leur proposant des produits hautement nutritifs.\",\n",
       "  '_agriculture_': True,\n",
       "  'prez_struc': 'Trébalt est une entreprise qui va évoluer dans la production, la transformation et la vente de nourriture à base d\\'insectes surnommé la \"nourriture du future\". \\r\\nL’identité de marque (tirer du nom de l’entreprise (“TRE” du mot grec “Trepho” qui signifie “nourrir” ; la lettre “B” présente dans “tribal - tribu” font références aux racines de la civilisation et la reconnexion avec la nature ; “ALT” du mot Alternatif en référence à l’alternatives alimentaire que propose Trébalt sur le marché.) sera axé sur le message suivant : Agir à la reconnexion de notre civilisation avec l’environnement pour lui assurer un futur.  \\r\\nL’équipe Trébalt est composée de 4 membres issus de divers horizons et qui ont décidé de combiner leurs compétences pour la mise en place d’une activité à forte valeur ajoutée tant au niveau économique qu’humain.\\r\\nLes membres sont les suivants :\\r\\n•\\tVincent ST-LAURENT(Canadien) :  Président\\r\\n•\\tÉtienne BARRAST-AMYOT (Canadien) : Directeur-Général spécialisé dans la communication et le développement des affaires \\r\\n•\\tIbrahima BA (Sénégalais) : Co-Directeur associé, spécialisé dans le secteur de la restauration, YALI-Alumni \\r\\n•\\tAnais BAH (Franco-Burkinabè) : Co-Directrice associée, spécialisée en gestion d’entreprises et coordination de projets humanitaires'},\n",
       " {'producteur': nan,\n",
       "  'key_main': 'https://www.youtube.com/results?search_query=gue+douade+marius+biographie_gue_douademarius',\n",
       "  'label_agriculture': False,\n",
       "  'nom_struc': 'PURESKY',\n",
       "  'plateforme': nan,\n",
       "  'prez_produit_struc': \"NOS PRODUITS:\\r\\n<U+F0FC>\\tDispositif de culture hors sol :Il s'agira de purifier l'air de par l'activité photosynthétique des plantes tout en réduisant très considérablement le temps de travail et en multipliant par 4 Le rendement des récoltes. Avec ce dispositif, nous arrivons donc à produire plus sur un petit espace tout en économisant énormément sur les factures d’eau et d’électricité. Avec la culture hors sol, on arrive donc à travailler peu, pour gagner plus, tous en préservant notre santé et en contribuant à lutter contre la pollution de l’air et le chômage. \\r\\n\\r\\n<U+F0FC>\\tDispositif pour véhicules : Une fois adapté aux véhicules, il permettra de capter les particules toxiques qui se trouvent dans la fumée suite à la combustion des hydrocarbures. Ainsi, la fumée émanant des pots d’échappement des véhicules sera inoffensive car les particules toxiques qui la composent ont été filtrés de sorte à laisser passer un air pur pour l’homme et l’environnement. \\r\\n\\r\\n\\r\\n<U+F0FC>\\tDispositif pour usines : Ce dispositif sera installé dans les usines (raffineries, cimenteries, métallurgie, etc…) afin de stocker à la base les polluants de l’air. Ceux-ci subiront par la suite un traitement pour être recyclés car bon nombre d’entre eux trouvent leur utilité dans bien de secteurs. Le noir de carbone par exemple entre dans la composition du ciment, il est aussi utilisé dans la fabrication de pneu, dans la peinture pour la coloration et l’étanchéité, dans le domaine de l’imprimerie comme encre, etc. A travers ce dispositif, nous pourrons également isoler certains gaz tels que le méthane (CH4) et le réutiliser. \\r\\n\\r\\n<U+F0FC>\\t Dispositifs pour foyers : Sachant que les risques de pollutions de l’air sont trois (3) fois plus élevées dans les endroits fermés (maisons, bureaux, supermarchés, etc.) nous avons également pensés à adaptés notre système de purification de l’air de sorte à créer un dispositif pour ce type d’endroit qui pourra piégés les polluants qui s’y trouvent notamment les plus fréquents à savoir les COV (Composés Organiques Volatils). \\r\\n\\r\\n\\r\\n<U+F0FC>\\tDispositifs pour étages : Conscient du fait que les plantes utilisent le dioxyde de carbone (CO2) pour réaliser leur photosynthèse, nous avons élaborés également un dispositif qui permettra de faire de l’agriculture écologique en milieu urbain, plus précisément sur les dalles des étages qui sont généralement inexploités. L’intérêt de cette agriculture sera de réduire considérablement le taux d’émission de CO2 grâce à la photosynthèse des plantes mais aussi de favoriser un équilibre climatique et de produire aussi des plantes qui serviront à la consommation des populations. \\r\\n\\r\\nNB : En plus d’être innovants, nos dispositifs seront faciles à installer et à entretenir. De plus, ils seront disponibles à des prix abordables. Vue le progrès réalisé jusque-là et les résultats des derniers tests, nous tenons à mentionner qu’avec un appui, notamment financier, les produits finis seront bientôt disponibles pour le bonheur de tous.\",\n",
       "  '_agriculture_': True,\n",
       "  'prez_struc': 'PURESKY est une jeune entreprise Ivoirienne qui a pour projet de débarrasser notre environnement des polluants atmosphériques qui nuisent considérablement à notre santé et à notre bienêtre. Actuellement au stade de recherche et développement, l’objectif de ce projet est d’élaborer des dispositifs de purification de l’air qui permettront de maîtriser voire éradiquer la pollution de l’air qui fait des ravages en tous points du globe terrestre notamment en Afrique. Partant de cela, nous misons également sur le pouvoir de purification naturelle de l’air par les plantes, d’où le volet agriculture hors sol de notre entreprise et nous élaborons également des dispositifs de purification de l’air adaptés aux véhicules et usines avec un volet agriculture hors sol, pour un rendement plus optimal de la purification de l’air dans notre continent et bien au-delàs de nos frontières. En ce qui concerne le dispositif hors sol installable sur les bâtiments, il constitue la récente innovation de l’entreprise qui, en plus d’agir efficacement pour la purification de l’air de par l’activité photosynthétique des plantes qui seront cultivées, contribuera également à la santé et à l’autosuffisance alimentaire des ivoiriens grâce à la production de plantes et fruits BIO.  Toujours dans le cadre de la purification de l’air, nous élaborons également des dispositifs pour les véhicules, les usines et endroit clos (maison, bureaux, ateliers, etc…). Nos différents dispositifs de purification de l’air permettront de capter les polluants atmosphériques émis par les activités anthropiques (dioxyde de carbone, méthane, Composés Organiques Volatiles, etc.) et qui s’accumulent dans l’atmosphère devenant ainsi nocifs pour la santé du vivant et pour l’environnement.  Nous entendons faire partir des trois (3) meilleures entreprises Africaines engagées dans l’environnement et le développement durable à l’horizon 2030.'}]"
      ]
     },
     "execution_count": 33,
     "metadata": {},
     "output_type": "execute_result"
    }
   ],
   "source": [
    "query = client.query(kind=entity_name)\n",
    "query.add_filter('_agriculture_', '=', True)\n",
    "[dict(e.items()) for e in query.fetch()]"
   ]
  },
  {
   "cell_type": "code",
   "execution_count": 54,
   "metadata": {
    "execution": {
     "iopub.execute_input": "2020-06-23T09:55:20.623011Z",
     "iopub.status.busy": "2020-06-23T09:55:20.621373Z",
     "iopub.status.idle": "2020-06-23T09:55:21.031574Z",
     "shell.execute_reply": "2020-06-23T09:55:21.030803Z",
     "shell.execute_reply.started": "2020-06-23T09:55:20.622943Z"
    }
   },
   "outputs": [],
   "source": [
    "datastore_to_pandas(ds).to_csv('datastore.csv')"
   ]
  },
  {
   "cell_type": "code",
   "execution_count": 56,
   "metadata": {
    "execution": {
     "iopub.execute_input": "2020-06-23T13:07:40.231315Z",
     "iopub.status.busy": "2020-06-23T13:07:40.230515Z",
     "iopub.status.idle": "2020-06-23T13:07:40.347509Z",
     "shell.execute_reply": "2020-06-23T13:07:40.344322Z",
     "shell.execute_reply.started": "2020-06-23T13:07:40.231267Z"
    }
   },
   "outputs": [
    {
     "name": "stdout",
     "output_type": "stream",
     "text": [
      "industrie agroalimentaire\n",
      "agro industrie\n",
      "alimentations, distribution et services\n",
      "agroalimentaire - nutrition\n",
      "transformation  agro-alimentaire\n",
      "agroalimentaire (pâtisseries sans gluten à base des tubercules et céréales)\n",
      "agriculture en zone urbaine\n",
      "ecologie environnement changement climatique conjoint à l'agriculture hors sol\n",
      "artisanat, cosmétique, agro-transformation et nouvelle technologie(digital)\n",
      "aquaculture, pisciculture urbaine, sauvegarde de la biodiversité et sécurité alimentaire.\n",
      "financement de la production et la transformation agricole, financement des jeunes urbain pour des initiatives économiques\n",
      "agroalimentaire\n",
      "industrie agro alimentaire\n",
      "transformation alimentaire  ( produits à base d'insectes)\n",
      "transformation agroalimentaire\n"
     ]
    }
   ],
   "source": [
    "for e in agriculture:\n",
    "    print(e)"
   ]
  },
  {
   "cell_type": "code",
   "execution_count": null,
   "metadata": {},
   "outputs": [],
   "source": []
  }
 ],
 "metadata": {
  "kernelspec": {
   "display_name": "Python 3",
   "language": "python",
   "name": "python3"
  },
  "language_info": {
   "codemirror_mode": {
    "name": "ipython",
    "version": 3
   },
   "file_extension": ".py",
   "mimetype": "text/x-python",
   "name": "python",
   "nbconvert_exporter": "python",
   "pygments_lexer": "ipython3",
   "version": "3.7.3"
  },
  "record_timing": true
 },
 "nbformat": 4,
 "nbformat_minor": 4
}

{
 "cells": [
  {
   "cell_type": "code",
   "execution_count": 1,
   "metadata": {},
   "outputs": [],
   "source": [
    "import chalenge1000\n",
    "import collections\n",
    "import pandas"
   ]
  },
  {
   "cell_type": "code",
   "execution_count": 2,
   "metadata": {},
   "outputs": [],
   "source": [
    "df = chalenge1000.Native().ALL"
   ]
  },
  {
   "cell_type": "code",
   "execution_count": 3,
   "metadata": {},
   "outputs": [],
   "source": [
    "def lw(anystring):\n",
    "    try:\n",
    "        return anystring.lower()\n",
    "    except:\n",
    "        return ''"
   ]
  },
  {
   "cell_type": "code",
   "execution_count": 4,
   "metadata": {},
   "outputs": [],
   "source": [
    "keys = df.keys().values.tolist()"
   ]
  },
  {
   "cell_type": "code",
   "execution_count": 39,
   "metadata": {},
   "outputs": [
    {
     "name": "stdout",
     "output_type": "stream",
     "text": [
      "{'autres', 'culture', 'education', 'ecommerce', 'mobilite', 'energie', 'technologie', 'media', 'agriculture', 'finance', 'gouvernement', 'sante', 'non renseigné'}\n"
     ]
    }
   ],
   "source": [
    "cat = [a for a in keys if 'cat' in a]\n",
    "for element in cat:\n",
    "    df[element] = df[element].map(lw)\n",
    "print(set(df['categorie']))\n",
    "df_cat = df[cat]"
   ]
  },
  {
   "cell_type": "code",
   "execution_count": 40,
   "metadata": {},
   "outputs": [],
   "source": [
    "#df_cat[df_cat['categorie'] == 'agriculture']"
   ]
  },
  {
   "cell_type": "code",
   "execution_count": 48,
   "metadata": {},
   "outputs": [
    {
     "name": "stdout",
     "output_type": "stream",
     "text": [
      "177\n"
     ]
    },
    {
     "data": {
      "text/html": [
       "<div>\n",
       "<style scoped>\n",
       "    .dataframe tbody tr th:only-of-type {\n",
       "        vertical-align: middle;\n",
       "    }\n",
       "\n",
       "    .dataframe tbody tr th {\n",
       "        vertical-align: top;\n",
       "    }\n",
       "\n",
       "    .dataframe thead th {\n",
       "        text-align: right;\n",
       "    }\n",
       "</style>\n",
       "<table border=\"1\" class=\"dataframe\">\n",
       "  <thead>\n",
       "    <tr style=\"text-align: right;\">\n",
       "      <th></th>\n",
       "      <th>title</th>\n",
       "      <th>count</th>\n",
       "    </tr>\n",
       "  </thead>\n",
       "  <tbody>\n",
       "    <tr>\n",
       "      <th>0</th>\n",
       "      <td></td>\n",
       "      <td>495</td>\n",
       "    </tr>\n",
       "    <tr>\n",
       "      <th>1</th>\n",
       "      <td>immobilier</td>\n",
       "      <td>4</td>\n",
       "    </tr>\n",
       "    <tr>\n",
       "      <th>2</th>\n",
       "      <td>environnement</td>\n",
       "      <td>4</td>\n",
       "    </tr>\n",
       "    <tr>\n",
       "      <th>3</th>\n",
       "      <td>architecture</td>\n",
       "      <td>4</td>\n",
       "    </tr>\n",
       "    <tr>\n",
       "      <th>4</th>\n",
       "      <td>transport</td>\n",
       "      <td>3</td>\n",
       "    </tr>\n",
       "    <tr>\n",
       "      <th>...</th>\n",
       "      <td>...</td>\n",
       "      <td>...</td>\n",
       "    </tr>\n",
       "    <tr>\n",
       "      <th>172</th>\n",
       "      <td>fintech opérateur de services essentiels (éner...</td>\n",
       "      <td>1</td>\n",
       "    </tr>\n",
       "    <tr>\n",
       "      <th>173</th>\n",
       "      <td>agroalimentaire (pâtisseries sans gluten à bas...</td>\n",
       "      <td>1</td>\n",
       "    </tr>\n",
       "    <tr>\n",
       "      <th>174</th>\n",
       "      <td>architecture et environnement</td>\n",
       "      <td>1</td>\n",
       "    </tr>\n",
       "    <tr>\n",
       "      <th>175</th>\n",
       "      <td>architecture et urbanisation, infrastructure, ...</td>\n",
       "      <td>1</td>\n",
       "    </tr>\n",
       "    <tr>\n",
       "      <th>176</th>\n",
       "      <td>incubateur numérique</td>\n",
       "      <td>1</td>\n",
       "    </tr>\n",
       "  </tbody>\n",
       "</table>\n",
       "<p>177 rows × 2 columns</p>\n",
       "</div>"
      ],
      "text/plain": [
       "                                                 title  count\n",
       "0                                                         495\n",
       "1                                           immobilier      4\n",
       "2                                        environnement      4\n",
       "3                                         architecture      4\n",
       "4                                            transport      3\n",
       "..                                                 ...    ...\n",
       "172  fintech opérateur de services essentiels (éner...      1\n",
       "173  agroalimentaire (pâtisseries sans gluten à bas...      1\n",
       "174                      architecture et environnement      1\n",
       "175  architecture et urbanisation, infrastructure, ...      1\n",
       "176                               incubateur numérique      1\n",
       "\n",
       "[177 rows x 2 columns]"
      ]
     },
     "execution_count": 48,
     "metadata": {},
     "output_type": "execute_result"
    }
   ],
   "source": [
    "autre_structure = df_cat[df_cat['categorie'].isin(['non renseigné','autres'])]['cat_autre_struc']\n",
    "print(len(set(autre_structure)))\n",
    "autre_structure = pandas.DataFrame(collections.Counter(autre_structure).most_common(5000), columns = ['title','count'])\n",
    "autre_structure"
   ]
  },
  {
   "cell_type": "code",
   "execution_count": 55,
   "metadata": {},
   "outputs": [],
   "source": [
    "agr = {e for e in autre_structure['title'].values.tolist() if 'agr' in e}"
   ]
  },
  {
   "cell_type": "code",
   "execution_count": 56,
   "metadata": {},
   "outputs": [],
   "source": [
    "alim = {e for e in autre_structure['title'].values.tolist() if 'alim' in e}"
   ]
  },
  {
   "cell_type": "code",
   "execution_count": 57,
   "metadata": {},
   "outputs": [
    {
     "data": {
      "text/plain": [
       "{'agriculture en zone urbaine',\n",
       " 'agro industrie',\n",
       " 'artisanat, cosmétique, agro-transformation et nouvelle technologie(digital)',\n",
       " \"ecologie environnement changement climatique conjoint à l'agriculture hors sol\",\n",
       " 'financement de la production et la transformation agricole, financement des jeunes urbain pour des initiatives économiques'}"
      ]
     },
     "execution_count": 57,
     "metadata": {},
     "output_type": "execute_result"
    }
   ],
   "source": [
    "agr.difference(alim)"
   ]
  },
  {
   "cell_type": "code",
   "execution_count": 58,
   "metadata": {},
   "outputs": [
    {
     "data": {
      "text/plain": [
       "{'alimentations, distribution et services',\n",
       " 'aquaculture, pisciculture urbaine, sauvegarde de la biodiversité et sécurité alimentaire.',\n",
       " \"transformation alimentaire  ( produits à base d'insectes)\"}"
      ]
     },
     "execution_count": 58,
     "metadata": {},
     "output_type": "execute_result"
    }
   ],
   "source": [
    "alim.difference(agr)"
   ]
  },
  {
   "cell_type": "code",
   "execution_count": 60,
   "metadata": {},
   "outputs": [],
   "source": [
    "agriculture = alim.union(agr)"
   ]
  },
  {
   "cell_type": "code",
   "execution_count": 68,
   "metadata": {},
   "outputs": [
    {
     "data": {
      "text/plain": [
       "key_main\n",
       "http://seneyakaare.com_ndiaye_diariyata                                              False\n",
       "https://wb.semoa-group.com/_adjamagbo_edem                                           False\n",
       "https://talenteum.com/_nicolas_goldstein                                             False\n",
       "http://chapwifi.bj/_adjassa_azimath                                                  False\n",
       "https://www.facebook.com/TZenSn/_diop_sokhnalaye                                     False\n",
       "                                                                                     ...  \n",
       "http://renacabenin.org_ahokpe_bernadinepiphane                                       False\n",
       "http://www.coseed20.td_fatimedehinemoussanadjagarfa_garfaabdelsalamfatimealdjineh    False\n",
       "http://www.coseed20.com_loubnaadamsalehazibert_matarhisseinrayhanahamza              False\n",
       "http://www.sing.ga_ebibienzeebibie_yannick                                           False\n",
       "http://www.sing.ga_ndiaye_birane                                                     False\n",
       "Name: cat_autre_struc, Length: 3449, dtype: bool"
      ]
     },
     "execution_count": 68,
     "metadata": {},
     "output_type": "execute_result"
    }
   ],
   "source": [
    "(df_cat['cat_autre_struc'].isin(agriculture))"
   ]
  },
  {
   "cell_type": "code",
   "execution_count": 69,
   "metadata": {},
   "outputs": [
    {
     "data": {
      "text/plain": [
       "key_main\n",
       "http://seneyakaare.com_ndiaye_diariyata                                              False\n",
       "https://wb.semoa-group.com/_adjamagbo_edem                                           False\n",
       "https://talenteum.com/_nicolas_goldstein                                             False\n",
       "http://chapwifi.bj/_adjassa_azimath                                                  False\n",
       "https://www.facebook.com/TZenSn/_diop_sokhnalaye                                      True\n",
       "                                                                                     ...  \n",
       "http://renacabenin.org_ahokpe_bernadinepiphane                                       False\n",
       "http://www.coseed20.td_fatimedehinemoussanadjagarfa_garfaabdelsalamfatimealdjineh    False\n",
       "http://www.coseed20.com_loubnaadamsalehazibert_matarhisseinrayhanahamza              False\n",
       "http://www.sing.ga_ebibienzeebibie_yannick                                           False\n",
       "http://www.sing.ga_ndiaye_birane                                                     False\n",
       "Name: categorie, Length: 3449, dtype: bool"
      ]
     },
     "execution_count": 69,
     "metadata": {},
     "output_type": "execute_result"
    }
   ],
   "source": [
    "(df_cat['categorie'] == 'agriculture')"
   ]
  },
  {
   "cell_type": "code",
   "execution_count": 74,
   "metadata": {},
   "outputs": [],
   "source": [
    "cat_agri = df_cat[(df_cat['categorie'] == 'agriculture') | (df_cat['cat_autre_struc'].isin(agriculture))]['categorie'].values.tolist()"
   ]
  },
  {
   "cell_type": "code",
   "execution_count": 75,
   "metadata": {},
   "outputs": [
    {
     "data": {
      "text/plain": [
       "[('agriculture', 697), ('autres', 15)]"
      ]
     },
     "execution_count": 75,
     "metadata": {},
     "output_type": "execute_result"
    }
   ],
   "source": [
    "collections.Counter(cat_agri).most_common(3)"
   ]
  },
  {
   "cell_type": "code",
   "execution_count": 84,
   "metadata": {},
   "outputs": [],
   "source": [
    "trad = chalenge1000.Native().text"
   ]
  },
  {
   "cell_type": "code",
   "execution_count": 95,
   "metadata": {},
   "outputs": [],
   "source": [
    "descript = df_cat[(df_cat['cat_autre_struc'].isin(agriculture))].join(trad['temp'])"
   ]
  },
  {
   "cell_type": "code",
   "execution_count": 96,
   "metadata": {},
   "outputs": [
    {
     "name": "stdout",
     "output_type": "stream",
     "text": [
      "nourrir les villes\n",
      "vivre dans la ville\n",
      "financer et structurer les projets\n",
      "autre (précisez)\n",
      "industrie agroalimentaire\n",
      "autres\n",
      "Nom du répondant : YAMEOGO \n",
      "Prénom du répondant : Steve Armand Léonard Wendkouni \n",
      "email : Stevy226@gmail.com \n",
      " \n",
      "Nom de la structure : Yam agro INDUSTRIE \n",
      "Pays d'origine : Burkina Faso \n",
      "Pays d'activité : Burkina Faso \n",
      "Site internet : http://YamAgroIndustrie.bf \n",
      "Linkedin : https://www.linkedin.com/in/steve-yameogo-88bb32114 \n",
      " \n",
      "Présentation de la structure \n",
      "Entreprise spécialisée dans la transformation agroalimentaire made in Burkina Faso,  nous proposons aux consommateurs burkinabé des sirop , des biscuits et de la confiture. \n",
      " \n",
      "Présentation du produit, de la solution phare porté par la structure \n",
      "Nous avons deux types de sirop à savoir le sirop de bissap et de gingembre. Un biscuit les cookies au chocolat et une confiture celle à la mangue. Nous envisageons mettre sur le marché d'ici mars 2020 trois nouveaux sirops et une confiture \n",
      " \n",
      "Sur quel marché et vers quelle cible \n",
      "Sur le marché burkinabé et ouest africain \n",
      " \n",
      "Zone géographique de l’activité \n",
      "Ouagadougou Burkina Faso \n",
      " \n",
      "Objectifs de croissance et vision à moyen et long terme du marché \n",
      "Devenir le leader de l'agroalimentaire au Burkina Faso \n",
      " \n",
      "En quoi votre solution est elle innovante \n",
      "Nous transformation des produits issue de l'agriculteur local avec une touche particulière sur l'emballage et le marketing \n",
      " \n",
      "En quoi est elle duplicable à moindre coût \n",
      "Car les matières premières sont très accessibles et le process de production très simple \n",
      " \n",
      "En quoi votre solution rend les villes françaises et africaines plus durables du point de vue environnemental et social \n",
      "Nous utilisons que des produits issue de 'lagriculture conventionnels ce qui nous donne des produits fini 100%naturel pour le bien-être de nos consommateurs. La deuxième phase de notre projet est la réutilisation de nos déchets pour produire de la biomasse et alimenter nos installations et communautés voisines \n",
      " \n",
      "\n"
     ]
    }
   ],
   "source": [
    "import random\n",
    "\n",
    "e = random.choice(descript.values.tolist())\n",
    "for i in e:\n",
    "    print(i)"
   ]
  },
  {
   "cell_type": "code",
   "execution_count": 94,
   "metadata": {},
   "outputs": [
    {
     "data": {
      "text/html": [
       "<div>\n",
       "<style scoped>\n",
       "    .dataframe tbody tr th:only-of-type {\n",
       "        vertical-align: middle;\n",
       "    }\n",
       "\n",
       "    .dataframe tbody tr th {\n",
       "        vertical-align: top;\n",
       "    }\n",
       "\n",
       "    .dataframe thead th {\n",
       "        text-align: right;\n",
       "    }\n",
       "</style>\n",
       "<table border=\"1\" class=\"dataframe\">\n",
       "  <thead>\n",
       "    <tr style=\"text-align: right;\">\n",
       "      <th></th>\n",
       "      <th>cat_sub1_struc</th>\n",
       "      <th>cat_sub2_struc</th>\n",
       "      <th>cat_sub3_struc</th>\n",
       "      <th>cat_struc</th>\n",
       "      <th>cat_autre_struc</th>\n",
       "      <th>categorie</th>\n",
       "    </tr>\n",
       "    <tr>\n",
       "      <th>key_main</th>\n",
       "      <th></th>\n",
       "      <th></th>\n",
       "      <th></th>\n",
       "      <th></th>\n",
       "      <th></th>\n",
       "      <th></th>\n",
       "    </tr>\n",
       "  </thead>\n",
       "  <tbody>\n",
       "    <tr>\n",
       "      <th>http://seneyakaare.com_ndiaye_diariyata</th>\n",
       "      <td>accéder aux services essentiels</td>\n",
       "      <td>connecter la ville</td>\n",
       "      <td></td>\n",
       "      <td>santé, bien être, et protection sociale</td>\n",
       "      <td></td>\n",
       "      <td>sante</td>\n",
       "    </tr>\n",
       "    <tr>\n",
       "      <th>https://wb.semoa-group.com/_adjamagbo_edem</th>\n",
       "      <td>accéder aux services essentiels</td>\n",
       "      <td>connecter la ville</td>\n",
       "      <td></td>\n",
       "      <td>fintech</td>\n",
       "      <td></td>\n",
       "      <td>finance</td>\n",
       "    </tr>\n",
       "    <tr>\n",
       "      <th>https://talenteum.com/_nicolas_goldstein</th>\n",
       "      <td>vivre dans la ville</td>\n",
       "      <td>connecter la ville</td>\n",
       "      <td>financer et structurer les projets</td>\n",
       "      <td>technologies émergentes</td>\n",
       "      <td></td>\n",
       "      <td>technologie</td>\n",
       "    </tr>\n",
       "    <tr>\n",
       "      <th>http://chapwifi.bj/_adjassa_azimath</th>\n",
       "      <td>connecter la ville</td>\n",
       "      <td>accéder aux services essentiels</td>\n",
       "      <td></td>\n",
       "      <td>médias, édition et communication</td>\n",
       "      <td></td>\n",
       "      <td>media</td>\n",
       "    </tr>\n",
       "    <tr>\n",
       "      <th>https://www.facebook.com/TZenSn/_diop_sokhnalaye</th>\n",
       "      <td>nourrir les villes</td>\n",
       "      <td>accéder aux services essentiels</td>\n",
       "      <td>connecter la ville</td>\n",
       "      <td>agriculture, territoires ruraux et ressources ...</td>\n",
       "      <td></td>\n",
       "      <td>agriculture</td>\n",
       "    </tr>\n",
       "    <tr>\n",
       "      <th>...</th>\n",
       "      <td>...</td>\n",
       "      <td>...</td>\n",
       "      <td>...</td>\n",
       "      <td>...</td>\n",
       "      <td>...</td>\n",
       "      <td>...</td>\n",
       "    </tr>\n",
       "    <tr>\n",
       "      <th>http://renacabenin.org_ahokpe_bernadinepiphane</th>\n",
       "      <td>financer et structurer les projets</td>\n",
       "      <td></td>\n",
       "      <td></td>\n",
       "      <td></td>\n",
       "      <td></td>\n",
       "      <td>non renseigné</td>\n",
       "    </tr>\n",
       "    <tr>\n",
       "      <th>http://www.coseed20.td_fatimedehinemoussanadjagarfa_garfaabdelsalamfatimealdjineh</th>\n",
       "      <td>aménager et embellir la ville</td>\n",
       "      <td>vivre dans la ville</td>\n",
       "      <td>connecter la ville</td>\n",
       "      <td>autre (précisez)</td>\n",
       "      <td>architecture et environnement</td>\n",
       "      <td>autres</td>\n",
       "    </tr>\n",
       "    <tr>\n",
       "      <th>http://www.coseed20.com_loubnaadamsalehazibert_matarhisseinrayhanahamza</th>\n",
       "      <td>aménager et embellir la ville</td>\n",
       "      <td>nourrir les villes</td>\n",
       "      <td>connecter la ville</td>\n",
       "      <td>autre (précisez)</td>\n",
       "      <td>architecture et urbanisation, infrastructure, ...</td>\n",
       "      <td>autres</td>\n",
       "    </tr>\n",
       "    <tr>\n",
       "      <th>http://www.sing.ga_ebibienzeebibie_yannick</th>\n",
       "      <td>financer et structurer les projets</td>\n",
       "      <td></td>\n",
       "      <td></td>\n",
       "      <td>autre (précisez)</td>\n",
       "      <td>incubateur numérique</td>\n",
       "      <td>autres</td>\n",
       "    </tr>\n",
       "    <tr>\n",
       "      <th>http://www.sing.ga_ndiaye_birane</th>\n",
       "      <td>connecter la ville</td>\n",
       "      <td>accéder aux services essentiels</td>\n",
       "      <td>aménager et embellir la ville</td>\n",
       "      <td>energie</td>\n",
       "      <td></td>\n",
       "      <td>energie</td>\n",
       "    </tr>\n",
       "  </tbody>\n",
       "</table>\n",
       "<p>3449 rows × 6 columns</p>\n",
       "</div>"
      ],
      "text/plain": [
       "                                                                        cat_sub1_struc  \\\n",
       "key_main                                                                                 \n",
       "http://seneyakaare.com_ndiaye_diariyata                accéder aux services essentiels   \n",
       "https://wb.semoa-group.com/_adjamagbo_edem             accéder aux services essentiels   \n",
       "https://talenteum.com/_nicolas_goldstein                           vivre dans la ville   \n",
       "http://chapwifi.bj/_adjassa_azimath                                 connecter la ville   \n",
       "https://www.facebook.com/TZenSn/_diop_sokhnalaye                    nourrir les villes   \n",
       "...                                                                                ...   \n",
       "http://renacabenin.org_ahokpe_bernadinepiphane      financer et structurer les projets   \n",
       "http://www.coseed20.td_fatimedehinemoussanadjag...       aménager et embellir la ville   \n",
       "http://www.coseed20.com_loubnaadamsalehazibert_...       aménager et embellir la ville   \n",
       "http://www.sing.ga_ebibienzeebibie_yannick          financer et structurer les projets   \n",
       "http://www.sing.ga_ndiaye_birane                                    connecter la ville   \n",
       "\n",
       "                                                                     cat_sub2_struc  \\\n",
       "key_main                                                                              \n",
       "http://seneyakaare.com_ndiaye_diariyata                          connecter la ville   \n",
       "https://wb.semoa-group.com/_adjamagbo_edem                       connecter la ville   \n",
       "https://talenteum.com/_nicolas_goldstein                         connecter la ville   \n",
       "http://chapwifi.bj/_adjassa_azimath                 accéder aux services essentiels   \n",
       "https://www.facebook.com/TZenSn/_diop_sokhnalaye    accéder aux services essentiels   \n",
       "...                                                                             ...   \n",
       "http://renacabenin.org_ahokpe_bernadinepiphane                                        \n",
       "http://www.coseed20.td_fatimedehinemoussanadjag...              vivre dans la ville   \n",
       "http://www.coseed20.com_loubnaadamsalehazibert_...               nourrir les villes   \n",
       "http://www.sing.ga_ebibienzeebibie_yannick                                            \n",
       "http://www.sing.ga_ndiaye_birane                    accéder aux services essentiels   \n",
       "\n",
       "                                                                        cat_sub3_struc  \\\n",
       "key_main                                                                                 \n",
       "http://seneyakaare.com_ndiaye_diariyata                                                  \n",
       "https://wb.semoa-group.com/_adjamagbo_edem                                               \n",
       "https://talenteum.com/_nicolas_goldstein            financer et structurer les projets   \n",
       "http://chapwifi.bj/_adjassa_azimath                                                      \n",
       "https://www.facebook.com/TZenSn/_diop_sokhnalaye                    connecter la ville   \n",
       "...                                                                                ...   \n",
       "http://renacabenin.org_ahokpe_bernadinepiphane                                           \n",
       "http://www.coseed20.td_fatimedehinemoussanadjag...                  connecter la ville   \n",
       "http://www.coseed20.com_loubnaadamsalehazibert_...                  connecter la ville   \n",
       "http://www.sing.ga_ebibienzeebibie_yannick                                               \n",
       "http://www.sing.ga_ndiaye_birane                         aménager et embellir la ville   \n",
       "\n",
       "                                                                                            cat_struc  \\\n",
       "key_main                                                                                                \n",
       "http://seneyakaare.com_ndiaye_diariyata                       santé, bien être, et protection sociale   \n",
       "https://wb.semoa-group.com/_adjamagbo_edem                                                    fintech   \n",
       "https://talenteum.com/_nicolas_goldstein                                      technologies émergentes   \n",
       "http://chapwifi.bj/_adjassa_azimath                                  médias, édition et communication   \n",
       "https://www.facebook.com/TZenSn/_diop_sokhnalaye    agriculture, territoires ruraux et ressources ...   \n",
       "...                                                                                               ...   \n",
       "http://renacabenin.org_ahokpe_bernadinepiphane                                                          \n",
       "http://www.coseed20.td_fatimedehinemoussanadjag...                                   autre (précisez)   \n",
       "http://www.coseed20.com_loubnaadamsalehazibert_...                                   autre (précisez)   \n",
       "http://www.sing.ga_ebibienzeebibie_yannick                                           autre (précisez)   \n",
       "http://www.sing.ga_ndiaye_birane                                                              energie   \n",
       "\n",
       "                                                                                      cat_autre_struc  \\\n",
       "key_main                                                                                                \n",
       "http://seneyakaare.com_ndiaye_diariyata                                                                 \n",
       "https://wb.semoa-group.com/_adjamagbo_edem                                                              \n",
       "https://talenteum.com/_nicolas_goldstein                                                                \n",
       "http://chapwifi.bj/_adjassa_azimath                                                                     \n",
       "https://www.facebook.com/TZenSn/_diop_sokhnalaye                                                        \n",
       "...                                                                                               ...   \n",
       "http://renacabenin.org_ahokpe_bernadinepiphane                                                          \n",
       "http://www.coseed20.td_fatimedehinemoussanadjag...                      architecture et environnement   \n",
       "http://www.coseed20.com_loubnaadamsalehazibert_...  architecture et urbanisation, infrastructure, ...   \n",
       "http://www.sing.ga_ebibienzeebibie_yannick                                       incubateur numérique   \n",
       "http://www.sing.ga_ndiaye_birane                                                                        \n",
       "\n",
       "                                                        categorie  \n",
       "key_main                                                           \n",
       "http://seneyakaare.com_ndiaye_diariyata                     sante  \n",
       "https://wb.semoa-group.com/_adjamagbo_edem                finance  \n",
       "https://talenteum.com/_nicolas_goldstein              technologie  \n",
       "http://chapwifi.bj/_adjassa_azimath                         media  \n",
       "https://www.facebook.com/TZenSn/_diop_sokhnalaye      agriculture  \n",
       "...                                                           ...  \n",
       "http://renacabenin.org_ahokpe_bernadinepiphane      non renseigné  \n",
       "http://www.coseed20.td_fatimedehinemoussanadjag...         autres  \n",
       "http://www.coseed20.com_loubnaadamsalehazibert_...         autres  \n",
       "http://www.sing.ga_ebibienzeebibie_yannick                 autres  \n",
       "http://www.sing.ga_ndiaye_birane                          energie  \n",
       "\n",
       "[3449 rows x 6 columns]"
      ]
     },
     "execution_count": 94,
     "metadata": {},
     "output_type": "execute_result"
    }
   ],
   "source": [
    "df_cat"
   ]
  },
  {
   "cell_type": "code",
   "execution_count": null,
   "metadata": {},
   "outputs": [],
   "source": []
  }
 ],
 "metadata": {
  "kernelspec": {
   "display_name": "Python 3",
   "language": "python",
   "name": "python3"
  },
  "language_info": {
   "codemirror_mode": {
    "name": "ipython",
    "version": 3
   },
   "file_extension": ".py",
   "mimetype": "text/x-python",
   "name": "python",
   "nbconvert_exporter": "python",
   "pygments_lexer": "ipython3",
   "version": "3.7.3"
  }
 },
 "nbformat": 4,
 "nbformat_minor": 4
}

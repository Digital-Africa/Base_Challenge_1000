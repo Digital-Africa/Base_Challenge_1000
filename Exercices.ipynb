{
 "cells": [
  {
   "cell_type": "code",
   "execution_count": 89,
   "metadata": {},
   "outputs": [],
   "source": [
    "import challenge1000"
   ]
  },
  {
   "cell_type": "code",
   "execution_count": 99,
   "metadata": {},
   "outputs": [
    {
     "data": {
      "text/plain": [
       "['prez_doc_struc',\n",
       " 'prez_struc',\n",
       " 'prez_produit_struc',\n",
       " 'prez_marche_struc',\n",
       " 'prez_zone_struc',\n",
       " 'prez_objectif_struc',\n",
       " 'prez_innovante_struc',\n",
       " 'prez_duplicable_struc',\n",
       " 'prez_durable_struc']"
      ]
     },
     "execution_count": 99,
     "metadata": {},
     "output_type": "execute_result"
    }
   ],
   "source": [
    "[a for a in X.keys() if 'prez' in a]"
   ]
  },
  {
   "cell_type": "code",
   "execution_count": 149,
   "metadata": {},
   "outputs": [
    {
     "name": "stdout",
     "output_type": "stream",
     "text": [
      "/Volumes/GoogleDrive/My Drive/Open Data Platform/DATA/SCHEMA/star_schema.json\n",
      "/Volumes/GoogleDrive/My Drive/Open Data Platform/DATA/SCHEMA/star_schema.json\n"
     ]
    },
    {
     "data": {
      "text/html": [
       "<div>\n",
       "<style scoped>\n",
       "    .dataframe tbody tr th:only-of-type {\n",
       "        vertical-align: middle;\n",
       "    }\n",
       "\n",
       "    .dataframe tbody tr th {\n",
       "        vertical-align: top;\n",
       "    }\n",
       "\n",
       "    .dataframe thead th {\n",
       "        text-align: right;\n",
       "    }\n",
       "</style>\n",
       "<table border=\"1\" class=\"dataframe\">\n",
       "  <thead>\n",
       "    <tr style=\"text-align: right;\">\n",
       "      <th></th>\n",
       "      <th>prez_struc</th>\n",
       "      <th>text</th>\n",
       "    </tr>\n",
       "    <tr>\n",
       "      <th>key_main</th>\n",
       "      <th></th>\n",
       "      <th></th>\n",
       "    </tr>\n",
       "  </thead>\n",
       "  <tbody>\n",
       "    <tr>\n",
       "      <th>http://seneyakaare.com_ndiaye_diariyata</th>\n",
       "      <td>Startup santé d'aide au diagnostic et à la pri...</td>\n",
       "      <td>Startup santé d'aide au diagnostic et à la pri...</td>\n",
       "    </tr>\n",
       "    <tr>\n",
       "      <th>https://wb.semoa-group.com/_adjamagbo_edem</th>\n",
       "      <td>Semoa est une Fintech focalisée sur l’inclusio...</td>\n",
       "      <td>Semoa est une Fintech focalisée sur l’inclusio...</td>\n",
       "    </tr>\n",
       "    <tr>\n",
       "      <th>https://talenteum.com/_nicolas_goldstein</th>\n",
       "      <td>TALENTEUM.africa est une plateforme web qui in...</td>\n",
       "      <td>TALENTEUM.africa est une plateforme web qui in...</td>\n",
       "    </tr>\n",
       "    <tr>\n",
       "      <th>http://chapwifi.bj/_adjassa_azimath</th>\n",
       "      <td>«  Devenir une entreprise digitale est un défi...</td>\n",
       "      <td>«  Devenir une entreprise digitale est un défi...</td>\n",
       "    </tr>\n",
       "    <tr>\n",
       "      <th>https://www.facebook.com/TZenSn/_diop_sokhnalaye</th>\n",
       "      <td>T’Zen est une entreprise 100% sénégalaise qui ...</td>\n",
       "      <td>T’Zen est une entreprise 100% sénégalaise qui ...</td>\n",
       "    </tr>\n",
       "    <tr>\n",
       "      <th>...</th>\n",
       "      <td>...</td>\n",
       "      <td>...</td>\n",
       "    </tr>\n",
       "    <tr>\n",
       "      <th>http://renacabenin.org_ahokpe_bernadinepiphane</th>\n",
       "      <td>La CAVECA est une entité autonome constituée d...</td>\n",
       "      <td>La CAVECA est une entité autonome constituée d...</td>\n",
       "    </tr>\n",
       "    <tr>\n",
       "      <th>http://www.coseed20.td_fatimedehinemoussanadjagarfa_garfaabdelsalamfatimealdjineh</th>\n",
       "      <td>COSEED est un collectif de jeunes femmes archi...</td>\n",
       "      <td>COSEED est un collectif de jeunes femmes archi...</td>\n",
       "    </tr>\n",
       "    <tr>\n",
       "      <th>http://www.coseed20.com_loubnaadamsalehazibert_matarhisseinrayhanahamza</th>\n",
       "      <td>COSEED est un collectif de jeunes femmes archi...</td>\n",
       "      <td>COSEED est un collectif de jeunes femmes archi...</td>\n",
       "    </tr>\n",
       "    <tr>\n",
       "      <th>http://www.sing.ga_ebibienzeebibie_yannick</th>\n",
       "      <td>La Société d'Incubation Numérique du Gabon, SA...</td>\n",
       "      <td>La Société d'Incubation Numérique du Gabon, SA...</td>\n",
       "    </tr>\n",
       "    <tr>\n",
       "      <th>http://www.sing.ga_ndiaye_birane</th>\n",
       "      <td>OREMA est une startup gabonaise spécialisée da...</td>\n",
       "      <td>OREMA est une startup gabonaise spécialisée da...</td>\n",
       "    </tr>\n",
       "  </tbody>\n",
       "</table>\n",
       "<p>3449 rows × 2 columns</p>\n",
       "</div>"
      ],
      "text/plain": [
       "                                                                                           prez_struc  \\\n",
       "key_main                                                                                                \n",
       "http://seneyakaare.com_ndiaye_diariyata             Startup santé d'aide au diagnostic et à la pri...   \n",
       "https://wb.semoa-group.com/_adjamagbo_edem          Semoa est une Fintech focalisée sur l’inclusio...   \n",
       "https://talenteum.com/_nicolas_goldstein            TALENTEUM.africa est une plateforme web qui in...   \n",
       "http://chapwifi.bj/_adjassa_azimath                 «  Devenir une entreprise digitale est un défi...   \n",
       "https://www.facebook.com/TZenSn/_diop_sokhnalaye    T’Zen est une entreprise 100% sénégalaise qui ...   \n",
       "...                                                                                               ...   \n",
       "http://renacabenin.org_ahokpe_bernadinepiphane      La CAVECA est une entité autonome constituée d...   \n",
       "http://www.coseed20.td_fatimedehinemoussanadjag...  COSEED est un collectif de jeunes femmes archi...   \n",
       "http://www.coseed20.com_loubnaadamsalehazibert_...  COSEED est un collectif de jeunes femmes archi...   \n",
       "http://www.sing.ga_ebibienzeebibie_yannick          La Société d'Incubation Numérique du Gabon, SA...   \n",
       "http://www.sing.ga_ndiaye_birane                    OREMA est une startup gabonaise spécialisée da...   \n",
       "\n",
       "                                                                                                 text  \n",
       "key_main                                                                                               \n",
       "http://seneyakaare.com_ndiaye_diariyata             Startup santé d'aide au diagnostic et à la pri...  \n",
       "https://wb.semoa-group.com/_adjamagbo_edem          Semoa est une Fintech focalisée sur l’inclusio...  \n",
       "https://talenteum.com/_nicolas_goldstein            TALENTEUM.africa est une plateforme web qui in...  \n",
       "http://chapwifi.bj/_adjassa_azimath                 «  Devenir une entreprise digitale est un défi...  \n",
       "https://www.facebook.com/TZenSn/_diop_sokhnalaye    T’Zen est une entreprise 100% sénégalaise qui ...  \n",
       "...                                                                                               ...  \n",
       "http://renacabenin.org_ahokpe_bernadinepiphane      La CAVECA est une entité autonome constituée d...  \n",
       "http://www.coseed20.td_fatimedehinemoussanadjag...  COSEED est un collectif de jeunes femmes archi...  \n",
       "http://www.coseed20.com_loubnaadamsalehazibert_...  COSEED est un collectif de jeunes femmes archi...  \n",
       "http://www.sing.ga_ebibienzeebibie_yannick          La Société d'Incubation Numérique du Gabon, SA...  \n",
       "http://www.sing.ga_ndiaye_birane                    OREMA est une startup gabonaise spécialisée da...  \n",
       "\n",
       "[3449 rows x 2 columns]"
      ]
     },
     "execution_count": 149,
     "metadata": {},
     "output_type": "execute_result"
    }
   ],
   "source": [
    "X = challenge1000.Native().ALL\n",
    "X = X.fillna('')\n",
    "X['text'] = X[['prez_struc',\n",
    " 'prez_produit_struc',\n",
    " 'prez_marche_struc',\n",
    " 'prez_zone_struc',\n",
    " 'prez_objectif_struc',\n",
    " 'prez_innovante_struc',\n",
    " 'prez_duplicable_struc',\n",
    " 'prez_durable_struc']].agg(sum, axis= 1)#['categorie']\n",
    "X[['prez_struc','text']]"
   ]
  },
  {
   "cell_type": "code",
   "execution_count": 150,
   "metadata": {},
   "outputs": [],
   "source": [
    "subset = X[X['categorie'].isin(['agriculture','mobilite'])][['categorie','prez_struc','text']]"
   ]
  },
  {
   "cell_type": "code",
   "execution_count": 151,
   "metadata": {},
   "outputs": [
    {
     "data": {
      "text/plain": [
       "{'agriculture',\n",
       " 'autres',\n",
       " 'culture',\n",
       " 'ecommerce',\n",
       " 'education',\n",
       " 'energie',\n",
       " 'finance',\n",
       " 'gouvernement',\n",
       " 'media',\n",
       " 'mobilite',\n",
       " 'non renseigné',\n",
       " 'sante',\n",
       " 'technologie'}"
      ]
     },
     "execution_count": 151,
     "metadata": {},
     "output_type": "execute_result"
    }
   ],
   "source": [
    "set(X['categorie'])"
   ]
  },
  {
   "cell_type": "code",
   "execution_count": 152,
   "metadata": {},
   "outputs": [
    {
     "data": {
      "text/plain": [
       "10"
      ]
     },
     "execution_count": 152,
     "metadata": {},
     "output_type": "execute_result"
    }
   ],
   "source": [
    "agri = [[i,'agriculture',a[1]] for i,a in enumerate(subset[subset['categorie'] == 'agriculture'][['prez_struc', 'text']].values.tolist()) if 'soil' in a[0]]\n",
    "len(agri)"
   ]
  },
  {
   "cell_type": "code",
   "execution_count": 153,
   "metadata": {},
   "outputs": [
    {
     "data": {
      "text/plain": [
       "11"
      ]
     },
     "execution_count": 153,
     "metadata": {},
     "output_type": "execute_result"
    }
   ],
   "source": [
    "mob = [[i,'mobilite', a[1]] for i,a in enumerate(subset[subset['categorie'] == 'mobilite'][['prez_struc', 'text']].values.tolist()) if 'smart' in a[0]]\n",
    "len(mob)\n"
   ]
  },
  {
   "cell_type": "code",
   "execution_count": 156,
   "metadata": {},
   "outputs": [],
   "source": [
    "import pandas\n",
    "agri = pandas.DataFrame(agri, columns = ['id', 'label', 'descriptions'])\n",
    "mob = pandas.DataFrame(mob, columns = ['id', 'label', 'descriptions'])\n",
    "\n",
    "pandas.concat([agri, mob]).to_csv('exercice_data_analyst_NLP.csv')"
   ]
  },
  {
   "cell_type": "code",
   "execution_count": 158,
   "metadata": {},
   "outputs": [
    {
     "data": {
      "text/plain": [
       "['nom_pers',\n",
       " 'prenom_pers',\n",
       " 'nom_prenom_diff1',\n",
       " 'nom_prenom_diff2',\n",
       " 'nom_prenom_diff3',\n",
       " 'nom_struc']"
      ]
     },
     "execution_count": 158,
     "metadata": {},
     "output_type": "execute_result"
    }
   ],
   "source": [
    "[a for a in X.keys() if 'nom' in a]"
   ]
  },
  {
   "cell_type": "code",
   "execution_count": 166,
   "metadata": {},
   "outputs": [
    {
     "data": {
      "text/plain": [
       "'Lentera is a precision agriculture company that enables farmers increase productivity and adapt to climate change using satellite and drone technology. Lentera works closely with urban and rural farmers and provides them practical insights such as when to plant, when to irrigate and when to scout for pests and diseases. Our solution enables farmers use less pesticides and fertilizers promoting higher intensity and more sustainable agriculture.Our CropHQ service offers farmers satellite imaging and insights for their crop health and crop yield estimation.Our target market is urban and rural farmers, as well as financial institutions that rely on our data to monitor farms that they finance.We are focussed on Sub Saharan AfricaOur goal is to serve 250,000 farmers by the end of 2021We are one of the first companies to combine multiple data sets such as drones, satellite data and ground based sensors to make a unified crop model that predicts field perfomance.By using satellite data, our solution is easily replicable and can be used by any farmer, anywhere in AfricaBy enabling more sustainable food production, our precision agriculture solution enables farmers to use less chemicals and pesticides as well as grow more food. Enabling the ability of farmers to feed fast growing cities in Africa'"
      ]
     },
     "execution_count": 166,
     "metadata": {},
     "output_type": "execute_result"
    }
   ],
   "source": [
    "def test_lentera(element):\n",
    "    if 'lentera' in element.lower():\n",
    "        return True\n",
    "    else:\n",
    "        return False\n",
    "X[X['nom_struc'].map(test_lentera)]['text'].values[0]"
   ]
  },
  {
   "cell_type": "code",
   "execution_count": 168,
   "metadata": {},
   "outputs": [],
   "source": [
    "with open('startup_X.txt', 'w') as f:\n",
    "    f.write(X[X['nom_struc'].map(test_lentera)]['text'].values[0])\n",
    "    "
   ]
  },
  {
   "cell_type": "code",
   "execution_count": null,
   "metadata": {},
   "outputs": [],
   "source": []
  }
 ],
 "metadata": {
  "kernelspec": {
   "display_name": "Python 3",
   "language": "python",
   "name": "python3"
  },
  "language_info": {
   "codemirror_mode": {
    "name": "ipython",
    "version": 3
   },
   "file_extension": ".py",
   "mimetype": "text/x-python",
   "name": "python",
   "nbconvert_exporter": "python",
   "pygments_lexer": "ipython3",
   "version": "3.7.3"
  }
 },
 "nbformat": 4,
 "nbformat_minor": 2
}

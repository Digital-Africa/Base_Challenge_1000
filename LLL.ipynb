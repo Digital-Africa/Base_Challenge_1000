{
 "cells": [
  {
   "cell_type": "code",
   "execution_count": 5,
   "metadata": {},
   "outputs": [],
   "source": [
    "from bs4 import BeautifulSoup as bs\n",
    "import requests\n",
    "import urllib.request"
   ]
  },
  {
   "cell_type": "code",
   "execution_count": 6,
   "metadata": {},
   "outputs": [],
   "source": [
    "hostname = 'https://www.tekhne-liberte.org/startups'"
   ]
  },
  {
   "cell_type": "code",
   "execution_count": 7,
   "metadata": {},
   "outputs": [],
   "source": [
    "res = requests.get(hostname)\n",
    "soup = bs(res.text, \"html.parser\")"
   ]
  },
  {
   "cell_type": "code",
   "execution_count": 11,
   "metadata": {},
   "outputs": [
    {
     "data": {
      "text/plain": [
       "False"
      ]
     },
     "execution_count": 11,
     "metadata": {},
     "output_type": "execute_result"
    }
   ],
   "source": [
    "'lattice' in soup"
   ]
  },
  {
   "cell_type": "code",
   "execution_count": 20,
   "metadata": {},
   "outputs": [],
   "source": [
    "url_su = {link.get(\"href\", \"\") for link in soup.find_all(\"a\") if 'http' in link.get(\"href\", \"\") and 'tekhne' not in link.get(\"href\", \"\")}"
   ]
  },
  {
   "cell_type": "code",
   "execution_count": 37,
   "metadata": {},
   "outputs": [
    {
     "data": {
      "text/plain": [
       "'https://www.lumiomedical.com/'"
      ]
     },
     "execution_count": 37,
     "metadata": {},
     "output_type": "execute_result"
    }
   ],
   "source": [
    "i = 10\n",
    "list(url_su)[i]"
   ]
  },
  {
   "cell_type": "code",
   "execution_count": 23,
   "metadata": {},
   "outputs": [],
   "source": [
    "pages = {element: '' for element in url_su}"
   ]
  },
  {
   "cell_type": "code",
   "execution_count": 24,
   "metadata": {},
   "outputs": [
    {
     "data": {
      "text/plain": [
       "{'https://sciencefeedback.co/': '',\n",
       " 'https://blazar.ai/': '',\n",
       " 'https://www.revinax.net/': '',\n",
       " 'https://arkhn.org/': '',\n",
       " 'https://sweepin.fr/': '',\n",
       " 'https://www.fairbrics.co/': '',\n",
       " 'http://leakmited.com/': '',\n",
       " 'https://qlay.io/': '',\n",
       " 'https://ecofarms.co/': '',\n",
       " 'https://www.plastif.com/': '',\n",
       " 'https://www.lumiomedical.com/': '',\n",
       " 'https://www.lattice-medical.com/': '',\n",
       " 'https://www.linkedin.com/company/enoskelet/': '',\n",
       " 'https://www.aura.healthcare/': '',\n",
       " 'https://www.mila-learn.com/': '',\n",
       " 'https://onlyonecard.eu/': ''}"
      ]
     },
     "execution_count": 24,
     "metadata": {},
     "output_type": "execute_result"
    }
   ],
   "source": [
    "pages[list(url_su)[0]] = 'media'\n",
    "pages[list(url_su)[1]] = 'santé'\n",
    "pages[list(url_su)[2]] = 'santé'\n",
    "pages[list(url_su)[3]] = 'santé'\n",
    "pages[list(url_su)[4]] = 'mobilite'\n",
    "pages[list(url_su)[5]] = 'industrie'\n",
    "pages[list(url_su)[6]] = ['agriculture','satellite']\n",
    "pages[list(url_su)[7]] = 'logement'\n",
    "pages[list(url_su)[8]] = 'agriculture'\n",
    "pages[list(url_su)[9]] = 'environnement'\n",
    "pages[list(url_su)[10]] = 'sante'\n",
    "pages[list(url_su)[11]] = ''\n",
    "pages[list(url_su)[12]] = ''\n",
    "pages[list(url_su)[13]] = ''\n",
    "pages[list(url_su)[14]] = ''\n",
    "pages[list(url_su)[15]] = ''"
   ]
  },
  {
   "cell_type": "code",
   "execution_count": 31,
   "metadata": {},
   "outputs": [
    {
     "data": {
      "text/plain": [
       "16"
      ]
     },
     "execution_count": 31,
     "metadata": {},
     "output_type": "execute_result"
    }
   ],
   "source": [
    "len(url_su)"
   ]
  },
  {
   "cell_type": "code",
   "execution_count": null,
   "metadata": {},
   "outputs": [],
   "source": []
  }
 ],
 "metadata": {
  "kernelspec": {
   "display_name": "Python 3",
   "language": "python",
   "name": "python3"
  },
  "language_info": {
   "codemirror_mode": {
    "name": "ipython",
    "version": 3
   },
   "file_extension": ".py",
   "mimetype": "text/x-python",
   "name": "python",
   "nbconvert_exporter": "python",
   "pygments_lexer": "ipython3",
   "version": "3.7.3"
  }
 },
 "nbformat": 4,
 "nbformat_minor": 4
}

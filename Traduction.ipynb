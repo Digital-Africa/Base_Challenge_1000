{
 "cells": [
  {
   "cell_type": "code",
   "execution_count": 5,
   "metadata": {},
   "outputs": [],
   "source": [
    "import requests\n",
    "import urllib.parse\n",
    "import json\n",
    "from time import time\n",
    "import pandas\n",
    "import collections\n",
    "import math\n",
    "import collections\n",
    "from googletrans import Translator\n",
    "import re\n",
    "import nltk\n",
    "#nltk.download('wordnet')\n",
    "from nltk.corpus import stopwords\n",
    "from nltk.tokenize import word_tokenize\n",
    "from nltk.stem import PorterStemmer\n",
    "from nltk.stem import WordNetLemmatizer\n",
    "import string\n",
    "import time\n",
    "\n",
    "import requests\n",
    "import urllib.parse\n",
    "\n",
    "from time import time\n",
    "\n",
    "from sklearn.feature_extraction.text import TfidfVectorizer, CountVectorizer\n",
    "from sklearn.decomposition import NMF, LatentDirichletAllocation\n",
    "\n",
    "\n",
    "class RefEnv(object):\n",
    "    \"\"\"docstring for RefEnv\"\"\"\n",
    "    def __init__(self):\n",
    "        self.dst = 'Source'\n",
    "        self.Export_folder = 'Export'\n",
    "        self.src = '/Users/py3/Google Drive (mohamed.diabakhate@digital-africa.co)/PROJET DATA/DATA/{}'\n",
    "        self.transformed = '/Users/py3/Google Drive (mohamed.diabakhate@digital-africa.co)/PROJET DATA/DATA/Transformed/{}'\n",
    "        \n",
    "\n",
    "class Transformation(object):\n",
    "    \"\"\"docstring for RefEnv\"\"\"\n",
    "    def __init__(self):\n",
    "        self.src = RefEnv().src.format('Transformed/df1_clean.csv')\n",
    "        self.X = pandas.read_csv(self.src).fillna('VIDE')\n",
    "        #self.export = X.to_csv(RefEnv().src.format('Transformed/prep_df1_clean.csv'))\n",
    "        self.header = ['cat_struc', 'cat_autre_struc']\n",
    "        self.header_tr = ['prez_struc', 'prez_produit_struc', 'prez_marche_struc', 'prez_zone_struc', 'prez_objectif_struc', 'prez_innovante_struc', 'prez_duplicable_struc', 'prez_durable_struc'] \n",
    "\n",
    "    def categorie_structure(self,cat_struc,cat_autre_struc):\n",
    "        if cat_struc == \"Santé, bien être, et protection sociale\" or cat_struc == \"Health, well-being and social protection\":\n",
    "            return \"sante\" \n",
    "        if cat_struc == \"Fintech\":\n",
    "            return \"finance\"\n",
    "        if cat_struc == \"Technologies émergentes\" or cat_struc == \"Emerging technologies\":\n",
    "            return \"technologie\"\n",
    "        if cat_struc == \"Médias, édition et communication\" or cat_struc ==\"Media, publishing and communication\":\n",
    "            return \"media\"\n",
    "        if cat_struc == \"Agriculture, territoires ruraux et ressources naturelles\" or cat_struc == \"Agriculture, rural areas and natural resources\":\n",
    "            return  \"agriculture\"\n",
    "        if cat_struc == \"Education, formation professionnelle et emploi\" or cat_struc ==\"Education, vocational training and employment\":\n",
    "            return  \"education\" \n",
    "        if cat_struc == \"E-commerce, marketing et distribution\" or cat_struc == \"E-commerce, marketing and distribution\":\n",
    "            return  \"ecommerce\"\n",
    "        if cat_struc == \"Gouvernement ouvert et transformation sociale\" or cat_struc == \"Open government and social transformation\":\n",
    "            return  \"gouvernement\"\n",
    "        if cat_struc == \"Energie\" or cat_struc == \"Energy\":\n",
    "            return  \"energie\" \n",
    "        if cat_struc == \"Territoires intelligents et mobilité\" or cat_struc == \"Intelligent territories and mobility\":\n",
    "            return  \"mobilite\"\n",
    "        if cat_struc == \"Industries culturelles et créatives\" or cat_struc == \"Cultural and creative industries\":\n",
    "            return  \"culture\"\n",
    "        if (cat_struc == \"Autre (précisez)\" or cat_struc == \"Other - please specify\" or cat_struc == \"autre (précisez)\"):\n",
    "            return  'autres'\n",
    "        if cat_struc != cat_struc:\n",
    "            return 'non renseigné'\n",
    "        else:\n",
    "            return cat_struc\n",
    "    \n",
    "    def traductor(self,element):\n",
    "        key = '9b87800e-c11c-5e98-649b-21d40847e9af'\n",
    "        text= urllib.parse.quote(element)\n",
    "        url = 'https://api.deepl.com/v2/translate?auth_key={}&text={}&target_lang=EN'.format(key, text)\n",
    "        return url\n",
    "\n",
    "    def lower_case(self, element):\n",
    "        return element.lower()\n",
    "\n",
    "    def number_to_text(self, element):\n",
    "        return re.sub(r'\\d+','', element)\n",
    "\n",
    "    def remove_punctuation(self, element):\n",
    "        return element.translate(str.maketrans('', '', string.punctuation))\n",
    "\n",
    "    def remove_whitespaces(self, element):\n",
    "        return element.strip()\n",
    "\n",
    "    def preprocesssing(self, element):\n",
    "        #element = self.remove_punctuation(element)\n",
    "        #element = self.number_to_text(element)\n",
    "        #element = self.lower_case(element)    \n",
    "        #element = self.traductor(element)\n",
    "        #assert type(element) == type('')\n",
    "        #element = self.remove_whitespaces(element)\n",
    "        return element\n",
    "    \n",
    "    def traduct(self):\n",
    "        for head in self.header_tr:\n",
    "            self.X['url_{}'.format(head)] = self.X[head].apply(self.traductor)\n",
    "        return self.X\n",
    "    \n",
    "    def operation(self):\n",
    "        self.X = self.X[self.header+self.header_tr]\n",
    "        self.X['cat_struc'] = self.X.apply(lambda x: self.categorie_structure(x['cat_struc'], x['cat_autre_struc']), axis=1)\n",
    "        for head in self.header_tr:\n",
    "            self.X['{}_trad'.format(head)] = self.X[head].apply(self.preprocesssing)\n",
    "        #self.X.to_csv(RefEnv().src.format('Transformed/prep_df1_clean_trad.csv'))\n",
    "        return self.X"
   ]
  },
  {
   "cell_type": "code",
   "execution_count": 9,
   "metadata": {},
   "outputs": [
    {
     "name": "stdout",
     "output_type": "stream",
     "text": [
      "/Users/py3/Google Drive (mohamed.diabakhate@digital-africa.co)/PROJET DATA/DATA/Transformed/traduct.json\n"
     ]
    }
   ],
   "source": [
    "transform = Transformation()\n",
    "X = transform.traduct()\n",
    "to_keep = ['key_main','url_prez_struc', 'url_prez_produit_struc', 'url_prez_marche_struc', 'url_prez_zone_struc', 'url_prez_objectif_struc', 'url_prez_innovante_struc', 'url_prez_duplicable_struc', 'url_prez_durable_struc']\n",
    "X = X[to_keep]\n",
    "X_head = X.head()"
   ]
  },
  {
   "cell_type": "code",
   "execution_count": 119,
   "metadata": {},
   "outputs": [
    {
     "name": "stdout",
     "output_type": "stream",
     "text": [
      "22\n",
      "/Users/py3/Google Drive (mohamed.diabakhate@digital-africa.co)/PROJET DATA/DATA/Transformed/traduct_10.json\n",
      "elapsed time 0, remaining 21\n",
      "elapsed time 0, remaining 20\n",
      "elapsed time 0, remaining 19\n",
      "elapsed time 0, remaining 18\n",
      "elapsed time 1, remaining 17\n",
      "elapsed time 1, remaining 16\n",
      "elapsed time 1, remaining 15\n",
      "elapsed time 1, remaining 14\n",
      "elapsed time 1, remaining 13\n",
      "elapsed time 1, remaining 12\n",
      "elapsed time 1, remaining 11\n",
      "elapsed time 2, remaining 10\n",
      "elapsed time 2, remaining 9\n",
      "elapsed time 2, remaining 8\n"
     ]
    },
    {
     "ename": "JSONDecodeError",
     "evalue": "Expecting value: line 1 column 1 (char 0)",
     "output_type": "error",
     "traceback": [
      "\u001b[0;31m------------------------------------------------------------------\u001b[0m",
      "\u001b[0;31mJSONDecodeError\u001b[0m                  Traceback (most recent call last)",
      "\u001b[0;32m<ipython-input-119-4e8529c91fa5>\u001b[0m in \u001b[0;36m<module>\u001b[0;34m\u001b[0m\n\u001b[1;32m     21\u001b[0m \u001b[0;32mfor\u001b[0m \u001b[0mi\u001b[0m\u001b[0;34m,\u001b[0m \u001b[0melement\u001b[0m \u001b[0;32min\u001b[0m \u001b[0menumerate\u001b[0m\u001b[0;34m(\u001b[0m\u001b[0mY\u001b[0m\u001b[0;34m)\u001b[0m\u001b[0;34m:\u001b[0m\u001b[0;34m\u001b[0m\u001b[0;34m\u001b[0m\u001b[0m\n\u001b[1;32m     22\u001b[0m     \u001b[0mrecord\u001b[0m \u001b[0;34m=\u001b[0m \u001b[0;34m{\u001b[0m\u001b[0;34m'key_main'\u001b[0m\u001b[0;34m:\u001b[0m\u001b[0melement\u001b[0m\u001b[0;34m[\u001b[0m\u001b[0;34m'key_main'\u001b[0m\u001b[0;34m]\u001b[0m\u001b[0;34m}\u001b[0m\u001b[0;34m\u001b[0m\u001b[0;34m\u001b[0m\u001b[0m\n\u001b[0;32m---> 23\u001b[0;31m     \u001b[0mrecord\u001b[0m\u001b[0;34m.\u001b[0m\u001b[0mupdate\u001b[0m\u001b[0;34m(\u001b[0m\u001b[0;34m{\u001b[0m\u001b[0murl\u001b[0m\u001b[0;34m:\u001b[0m \u001b[0mget_translate\u001b[0m\u001b[0;34m(\u001b[0m\u001b[0melement\u001b[0m\u001b[0;34m[\u001b[0m\u001b[0murl\u001b[0m\u001b[0;34m]\u001b[0m\u001b[0;34m)\u001b[0m \u001b[0;32mfor\u001b[0m \u001b[0murl\u001b[0m \u001b[0;32min\u001b[0m \u001b[0murls\u001b[0m\u001b[0;34m}\u001b[0m\u001b[0;34m)\u001b[0m\u001b[0;34m\u001b[0m\u001b[0;34m\u001b[0m\u001b[0m\n\u001b[0m\u001b[1;32m     24\u001b[0m     \u001b[0mrecords\u001b[0m\u001b[0;34m.\u001b[0m\u001b[0mappend\u001b[0m\u001b[0;34m(\u001b[0m\u001b[0mrecord\u001b[0m\u001b[0;34m)\u001b[0m\u001b[0;34m\u001b[0m\u001b[0;34m\u001b[0m\u001b[0m\n\u001b[1;32m     25\u001b[0m     \u001b[0;32mwith\u001b[0m \u001b[0mopen\u001b[0m\u001b[0;34m(\u001b[0m\u001b[0moutput\u001b[0m\u001b[0;34m,\u001b[0m \u001b[0;34m'w'\u001b[0m\u001b[0;34m)\u001b[0m \u001b[0;32mas\u001b[0m \u001b[0moutfile\u001b[0m\u001b[0;34m:\u001b[0m\u001b[0;34m\u001b[0m\u001b[0;34m\u001b[0m\u001b[0m\n",
      "\u001b[0;32m<ipython-input-119-4e8529c91fa5>\u001b[0m in \u001b[0;36m<dictcomp>\u001b[0;34m(.0)\u001b[0m\n\u001b[1;32m     21\u001b[0m \u001b[0;32mfor\u001b[0m \u001b[0mi\u001b[0m\u001b[0;34m,\u001b[0m \u001b[0melement\u001b[0m \u001b[0;32min\u001b[0m \u001b[0menumerate\u001b[0m\u001b[0;34m(\u001b[0m\u001b[0mY\u001b[0m\u001b[0;34m)\u001b[0m\u001b[0;34m:\u001b[0m\u001b[0;34m\u001b[0m\u001b[0;34m\u001b[0m\u001b[0m\n\u001b[1;32m     22\u001b[0m     \u001b[0mrecord\u001b[0m \u001b[0;34m=\u001b[0m \u001b[0;34m{\u001b[0m\u001b[0;34m'key_main'\u001b[0m\u001b[0;34m:\u001b[0m\u001b[0melement\u001b[0m\u001b[0;34m[\u001b[0m\u001b[0;34m'key_main'\u001b[0m\u001b[0;34m]\u001b[0m\u001b[0;34m}\u001b[0m\u001b[0;34m\u001b[0m\u001b[0;34m\u001b[0m\u001b[0m\n\u001b[0;32m---> 23\u001b[0;31m     \u001b[0mrecord\u001b[0m\u001b[0;34m.\u001b[0m\u001b[0mupdate\u001b[0m\u001b[0;34m(\u001b[0m\u001b[0;34m{\u001b[0m\u001b[0murl\u001b[0m\u001b[0;34m:\u001b[0m \u001b[0mget_translate\u001b[0m\u001b[0;34m(\u001b[0m\u001b[0melement\u001b[0m\u001b[0;34m[\u001b[0m\u001b[0murl\u001b[0m\u001b[0;34m]\u001b[0m\u001b[0;34m)\u001b[0m \u001b[0;32mfor\u001b[0m \u001b[0murl\u001b[0m \u001b[0;32min\u001b[0m \u001b[0murls\u001b[0m\u001b[0;34m}\u001b[0m\u001b[0;34m)\u001b[0m\u001b[0;34m\u001b[0m\u001b[0;34m\u001b[0m\u001b[0m\n\u001b[0m\u001b[1;32m     24\u001b[0m     \u001b[0mrecords\u001b[0m\u001b[0;34m.\u001b[0m\u001b[0mappend\u001b[0m\u001b[0;34m(\u001b[0m\u001b[0mrecord\u001b[0m\u001b[0;34m)\u001b[0m\u001b[0;34m\u001b[0m\u001b[0;34m\u001b[0m\u001b[0m\n\u001b[1;32m     25\u001b[0m     \u001b[0;32mwith\u001b[0m \u001b[0mopen\u001b[0m\u001b[0;34m(\u001b[0m\u001b[0moutput\u001b[0m\u001b[0;34m,\u001b[0m \u001b[0;34m'w'\u001b[0m\u001b[0;34m)\u001b[0m \u001b[0;32mas\u001b[0m \u001b[0moutfile\u001b[0m\u001b[0;34m:\u001b[0m\u001b[0;34m\u001b[0m\u001b[0;34m\u001b[0m\u001b[0m\n",
      "\u001b[0;32m<ipython-input-119-4e8529c91fa5>\u001b[0m in \u001b[0;36mget_translate\u001b[0;34m(element)\u001b[0m\n\u001b[1;32m     10\u001b[0m \u001b[0;32mdef\u001b[0m \u001b[0mget_translate\u001b[0m\u001b[0;34m(\u001b[0m\u001b[0melement\u001b[0m\u001b[0;34m)\u001b[0m\u001b[0;34m:\u001b[0m\u001b[0;34m\u001b[0m\u001b[0;34m\u001b[0m\u001b[0m\n\u001b[1;32m     11\u001b[0m     \u001b[0mresp\u001b[0m \u001b[0;34m=\u001b[0m \u001b[0mrequests\u001b[0m\u001b[0;34m.\u001b[0m\u001b[0mget\u001b[0m\u001b[0;34m(\u001b[0m\u001b[0melement\u001b[0m\u001b[0;34m)\u001b[0m\u001b[0;34m\u001b[0m\u001b[0;34m\u001b[0m\u001b[0m\n\u001b[0;32m---> 12\u001b[0;31m     \u001b[0mtraduction\u001b[0m \u001b[0;34m=\u001b[0m \u001b[0mresp\u001b[0m\u001b[0;34m.\u001b[0m\u001b[0mjson\u001b[0m\u001b[0;34m(\u001b[0m\u001b[0;34m)\u001b[0m\u001b[0;34m[\u001b[0m\u001b[0;34m'translations'\u001b[0m\u001b[0;34m]\u001b[0m\u001b[0;34m[\u001b[0m\u001b[0;36m0\u001b[0m\u001b[0;34m]\u001b[0m\u001b[0;34m[\u001b[0m\u001b[0;34m'text'\u001b[0m\u001b[0;34m]\u001b[0m\u001b[0;34m\u001b[0m\u001b[0;34m\u001b[0m\u001b[0m\n\u001b[0m\u001b[1;32m     13\u001b[0m     \u001b[0;32mreturn\u001b[0m \u001b[0mtraduction\u001b[0m\u001b[0;34m\u001b[0m\u001b[0;34m\u001b[0m\u001b[0m\n\u001b[1;32m     14\u001b[0m \u001b[0;34m\u001b[0m\u001b[0m\n",
      "\u001b[0;32m~/anaconda3/lib/python3.7/site-packages/requests/models.py\u001b[0m in \u001b[0;36mjson\u001b[0;34m(self, **kwargs)\u001b[0m\n\u001b[1;32m    895\u001b[0m                     \u001b[0;31m# and the server didn't bother to tell us what codec *was*\u001b[0m\u001b[0;34m\u001b[0m\u001b[0;34m\u001b[0m\u001b[0;34m\u001b[0m\u001b[0m\n\u001b[1;32m    896\u001b[0m                     \u001b[0;31m# used.\u001b[0m\u001b[0;34m\u001b[0m\u001b[0;34m\u001b[0m\u001b[0;34m\u001b[0m\u001b[0m\n\u001b[0;32m--> 897\u001b[0;31m                     \u001b[0;32mpass\u001b[0m\u001b[0;34m\u001b[0m\u001b[0;34m\u001b[0m\u001b[0m\n\u001b[0m\u001b[1;32m    898\u001b[0m         \u001b[0;32mreturn\u001b[0m \u001b[0mcomplexjson\u001b[0m\u001b[0;34m.\u001b[0m\u001b[0mloads\u001b[0m\u001b[0;34m(\u001b[0m\u001b[0mself\u001b[0m\u001b[0;34m.\u001b[0m\u001b[0mtext\u001b[0m\u001b[0;34m,\u001b[0m \u001b[0;34m**\u001b[0m\u001b[0mkwargs\u001b[0m\u001b[0;34m)\u001b[0m\u001b[0;34m\u001b[0m\u001b[0;34m\u001b[0m\u001b[0m\n\u001b[1;32m    899\u001b[0m \u001b[0;34m\u001b[0m\u001b[0m\n",
      "\u001b[0;32m~/anaconda3/lib/python3.7/json/__init__.py\u001b[0m in \u001b[0;36mloads\u001b[0;34m(s, encoding, cls, object_hook, parse_float, parse_int, parse_constant, object_pairs_hook, **kw)\u001b[0m\n\u001b[1;32m    346\u001b[0m             \u001b[0mparse_int\u001b[0m \u001b[0;32mis\u001b[0m \u001b[0;32mNone\u001b[0m \u001b[0;32mand\u001b[0m \u001b[0mparse_float\u001b[0m \u001b[0;32mis\u001b[0m \u001b[0;32mNone\u001b[0m \u001b[0;32mand\u001b[0m\u001b[0;34m\u001b[0m\u001b[0;34m\u001b[0m\u001b[0m\n\u001b[1;32m    347\u001b[0m             parse_constant is None and object_pairs_hook is None and not kw):\n\u001b[0;32m--> 348\u001b[0;31m         \u001b[0;32mreturn\u001b[0m \u001b[0m_default_decoder\u001b[0m\u001b[0;34m.\u001b[0m\u001b[0mdecode\u001b[0m\u001b[0;34m(\u001b[0m\u001b[0ms\u001b[0m\u001b[0;34m)\u001b[0m\u001b[0;34m\u001b[0m\u001b[0;34m\u001b[0m\u001b[0m\n\u001b[0m\u001b[1;32m    349\u001b[0m     \u001b[0;32mif\u001b[0m \u001b[0mcls\u001b[0m \u001b[0;32mis\u001b[0m \u001b[0;32mNone\u001b[0m\u001b[0;34m:\u001b[0m\u001b[0;34m\u001b[0m\u001b[0;34m\u001b[0m\u001b[0m\n\u001b[1;32m    350\u001b[0m         \u001b[0mcls\u001b[0m \u001b[0;34m=\u001b[0m \u001b[0mJSONDecoder\u001b[0m\u001b[0;34m\u001b[0m\u001b[0;34m\u001b[0m\u001b[0m\n",
      "\u001b[0;32m~/anaconda3/lib/python3.7/json/decoder.py\u001b[0m in \u001b[0;36mdecode\u001b[0;34m(self, s, _w)\u001b[0m\n\u001b[1;32m    335\u001b[0m \u001b[0;34m\u001b[0m\u001b[0m\n\u001b[1;32m    336\u001b[0m         \"\"\"\n\u001b[0;32m--> 337\u001b[0;31m         \u001b[0mobj\u001b[0m\u001b[0;34m,\u001b[0m \u001b[0mend\u001b[0m \u001b[0;34m=\u001b[0m \u001b[0mself\u001b[0m\u001b[0;34m.\u001b[0m\u001b[0mraw_decode\u001b[0m\u001b[0;34m(\u001b[0m\u001b[0ms\u001b[0m\u001b[0;34m,\u001b[0m \u001b[0midx\u001b[0m\u001b[0;34m=\u001b[0m\u001b[0m_w\u001b[0m\u001b[0;34m(\u001b[0m\u001b[0ms\u001b[0m\u001b[0;34m,\u001b[0m \u001b[0;36m0\u001b[0m\u001b[0;34m)\u001b[0m\u001b[0;34m.\u001b[0m\u001b[0mend\u001b[0m\u001b[0;34m(\u001b[0m\u001b[0;34m)\u001b[0m\u001b[0;34m)\u001b[0m\u001b[0;34m\u001b[0m\u001b[0;34m\u001b[0m\u001b[0m\n\u001b[0m\u001b[1;32m    338\u001b[0m         \u001b[0mend\u001b[0m \u001b[0;34m=\u001b[0m \u001b[0m_w\u001b[0m\u001b[0;34m(\u001b[0m\u001b[0ms\u001b[0m\u001b[0;34m,\u001b[0m \u001b[0mend\u001b[0m\u001b[0;34m)\u001b[0m\u001b[0;34m.\u001b[0m\u001b[0mend\u001b[0m\u001b[0;34m(\u001b[0m\u001b[0;34m)\u001b[0m\u001b[0;34m\u001b[0m\u001b[0;34m\u001b[0m\u001b[0m\n\u001b[1;32m    339\u001b[0m         \u001b[0;32mif\u001b[0m \u001b[0mend\u001b[0m \u001b[0;34m!=\u001b[0m \u001b[0mlen\u001b[0m\u001b[0;34m(\u001b[0m\u001b[0ms\u001b[0m\u001b[0;34m)\u001b[0m\u001b[0;34m:\u001b[0m\u001b[0;34m\u001b[0m\u001b[0;34m\u001b[0m\u001b[0m\n",
      "\u001b[0;32m~/anaconda3/lib/python3.7/json/decoder.py\u001b[0m in \u001b[0;36mraw_decode\u001b[0;34m(self, s, idx)\u001b[0m\n\u001b[1;32m    353\u001b[0m             \u001b[0mobj\u001b[0m\u001b[0;34m,\u001b[0m \u001b[0mend\u001b[0m \u001b[0;34m=\u001b[0m \u001b[0mself\u001b[0m\u001b[0;34m.\u001b[0m\u001b[0mscan_once\u001b[0m\u001b[0;34m(\u001b[0m\u001b[0ms\u001b[0m\u001b[0;34m,\u001b[0m \u001b[0midx\u001b[0m\u001b[0;34m)\u001b[0m\u001b[0;34m\u001b[0m\u001b[0;34m\u001b[0m\u001b[0m\n\u001b[1;32m    354\u001b[0m         \u001b[0;32mexcept\u001b[0m \u001b[0mStopIteration\u001b[0m \u001b[0;32mas\u001b[0m \u001b[0merr\u001b[0m\u001b[0;34m:\u001b[0m\u001b[0;34m\u001b[0m\u001b[0;34m\u001b[0m\u001b[0m\n\u001b[0;32m--> 355\u001b[0;31m             \u001b[0;32mraise\u001b[0m \u001b[0mJSONDecodeError\u001b[0m\u001b[0;34m(\u001b[0m\u001b[0;34m\"Expecting value\"\u001b[0m\u001b[0;34m,\u001b[0m \u001b[0ms\u001b[0m\u001b[0;34m,\u001b[0m \u001b[0merr\u001b[0m\u001b[0;34m.\u001b[0m\u001b[0mvalue\u001b[0m\u001b[0;34m)\u001b[0m \u001b[0;32mfrom\u001b[0m \u001b[0;32mNone\u001b[0m\u001b[0;34m\u001b[0m\u001b[0;34m\u001b[0m\u001b[0m\n\u001b[0m\u001b[1;32m    356\u001b[0m         \u001b[0;32mreturn\u001b[0m \u001b[0mobj\u001b[0m\u001b[0;34m,\u001b[0m \u001b[0mend\u001b[0m\u001b[0;34m\u001b[0m\u001b[0;34m\u001b[0m\u001b[0m\n",
      "\u001b[0;31mJSONDecodeError\u001b[0m: Expecting value: line 1 column 1 (char 0)"
     ]
    }
   ],
   "source": [
    "index = index + 1\n",
    "target = X[~X['key_main'].isin(keys)]\n",
    "Y = target.to_dict(orient = 'records')\n",
    "nbr_records = len(Y)\n",
    "Y[1].keys()\n",
    "print(nbr_records)\n",
    "output = RefEnv().transformed.format('traduct_{}.json'.format(index))\n",
    "print(output)\n",
    "\n",
    "def get_translate(element):\n",
    "    resp = requests.get(element)\n",
    "    traduction = resp.json()['translations'][0]['text']\n",
    "    return traduction\n",
    "\n",
    "def get_translate_(element):\n",
    "    return element\n",
    "\n",
    "t0= time()\n",
    "urls = ['url_prez_struc', 'url_prez_produit_struc', 'url_prez_marche_struc', 'url_prez_zone_struc', 'url_prez_objectif_struc', 'url_prez_innovante_struc', 'url_prez_duplicable_struc', 'url_prez_durable_struc']\n",
    "records = []\n",
    "for i, element in enumerate(Y):\n",
    "    record = {'key_main':element['key_main']}\n",
    "    record.update({url: get_translate(element[url]) for url in urls})\n",
    "    records.append(record)\n",
    "    with open(output, 'w') as outfile:\n",
    "        json.dump(records, outfile)\n",
    "    print('elapsed time {}, remaining {}'.format(round((time()-t0)/60), nbr_records-(i+1))) \n",
    "print(output)"
   ]
  },
  {
   "cell_type": "code",
   "execution_count": 118,
   "metadata": {},
   "outputs": [
    {
     "name": "stdout",
     "output_type": "stream",
     "text": [
      "3422\n",
      "3427\n"
     ]
    }
   ],
   "source": [
    "import pandas\n",
    "\n",
    "output_0 = RefEnv().transformed.format('traduct_first.json')\n",
    "output_1 = RefEnv().transformed.format('traduct_1.json')\n",
    "output_2 = RefEnv().transformed.format('traduct_2.json')\n",
    "output_3 = RefEnv().transformed.format('traduct_3.json')\n",
    "output_5 = RefEnv().transformed.format('traduct_5.json')\n",
    "output_7 = RefEnv().transformed.format('traduct_7.json')\n",
    "\n",
    "\n",
    "key_converted_0 = set(pandas.read_json(output_0)['key_main'])\n",
    "key_converted_1 = set(pandas.read_json(output_1)['key_main'])\n",
    "key_converted_2 = set(pandas.read_json(output_2)['key_main'])\n",
    "key_converted_3 = set(pandas.read_json(output_3)['key_main'])\n",
    "key_converted_5 = set(pandas.read_json(output_5)['key_main'])\n",
    "key_converted_7 = set(pandas.read_json(output_7)['key_main'])\n",
    "\n",
    "keys= key_converted_0.union(key_converted_1).union(key_converted_2).union(key_converted_3).union(key_converted_5).union(key_converted_7)\n",
    "\n",
    "print(len(keys))\n",
    "to_fix = set()\n",
    "to_fix.add('http://skedit.info/_lifeta_gaston')\n",
    "to_fix.add('http://www.solidarites-entreprises.org/_guidigan_yelognisseviassehodarling')\n",
    "to_fix.add('http://www.zowasel.com/_oche_jerry')\n",
    "to_fix.add('http://www.gracedivineagriculture.com_ediedikouakoungorangouengoranedi_abevalereabevalerebroualphonseericguieadamaalexisyannickmasseuclotairevenceslasguieadamaalexisyannickabevalere')\n",
    "to_fix.add('https://yetulab.com_rubango_daniel')\n",
    "to_fix.add('http://www.afconinvestments.com_nakitandwenakiryassewakilyanga_priscillasuubinoelbrian')\n",
    "to_fix.add('http://www.qotto.net_gnonhouetraoretraore_alexoladikpomodibomodibo')\n",
    "to_fix.add('http://berag-ziane.com_ziane_hafidhou')\n",
    "keys = keys.union(to_fix)\n",
    "print(len(keys))"
   ]
  },
  {
   "cell_type": "code",
   "execution_count": 117,
   "metadata": {},
   "outputs": [
    {
     "data": {
      "text/plain": [
       "'http://berag-ziane.com_ziane_hafidhou'"
      ]
     },
     "execution_count": 117,
     "metadata": {},
     "output_type": "execute_result"
    }
   ],
   "source": [
    "pandas.DataFrame(Y)['key_main'][0]"
   ]
  },
  {
   "cell_type": "code",
   "execution_count": 72,
   "metadata": {},
   "outputs": [],
   "source": [
    "df = pandas.read_json(output_0).append(pandas.read_json(output_1)).append(pandas.read_json(output_2)).append(pandas.read_json(output_3))\n",
    "df = df.to_dict(orient = 'records')\n",
    "output_ = '/Volumes/GoogleDrive/My Drive/PROJET DATA/DATA/Transformed/traduct.json'\n",
    "with open(output_, 'w') as outfile:\n",
    "    json.dump(df, outfile)"
   ]
  }
 ],
 "metadata": {
  "kernelspec": {
   "display_name": "Python 3",
   "language": "python",
   "name": "python3"
  },
  "language_info": {
   "codemirror_mode": {
    "name": "ipython",
    "version": 3
   },
   "file_extension": ".py",
   "mimetype": "text/x-python",
   "name": "python",
   "nbconvert_exporter": "python",
   "pygments_lexer": "ipython3",
   "version": "3.7.3"
  }
 },
 "nbformat": 4,
 "nbformat_minor": 4
}

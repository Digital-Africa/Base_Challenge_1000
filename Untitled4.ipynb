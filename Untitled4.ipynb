{
 "cells": [
  {
   "cell_type": "code",
   "execution_count": 133,
   "metadata": {},
   "outputs": [
    {
     "name": "stdout",
     "output_type": "stream",
     "text": [
      "dict_keys(['Accéder-aux-services-essentiels', 'Nourrir-les-villes', 'Aménager-et-embellir-la-ville', 'Se-déplacer-dans-la-ville---vis', 'Vivre-dans-la-ville', 'Financer-et-structurer-les-proj', 'Connecter-la-ville'])\n"
     ]
    }
   ],
   "source": [
    "import pandas \n",
    "v1 = '/Volumes/GoogleDrive/My Drive/Open Data Platform/DATA/Raw/Challenge_des_1_000_latest.xlsx'\n",
    "#laureats = '/Users/py3/Downloads/Liste des candidats  WIIN.xlsx'\n",
    "latest_challenge = pandas.read_excel(v1, header=[0,1], sheet_name = None) \n",
    "def from_wiin(element):\n",
    "    #h = element.values.tolist()[0]\n",
    "   #data = element.values.tolist()[1:]\n",
    "    return pandas.DataFrame(data, columns = h)\n",
    "#[from_wiin(latest_challenge[k]) for k in latest_challenge]\n",
    "#all_data = pandas.concat([from_wiin(latest_challenge[k]) for k in latest_challenge])\n",
    "print(latest_challenge.keys())\n",
    "test = pandas.concat(latest_challenge.values(), axis=0)"
   ]
  },
  {
   "cell_type": "code",
   "execution_count": 141,
   "metadata": {},
   "outputs": [
    {
     "data": {
      "text/plain": [
       "{'Dépôt', 'Inscription', 'Team Members'}"
      ]
     },
     "execution_count": 141,
     "metadata": {},
     "output_type": "execute_result"
    }
   ],
   "source": [
    "set(a for a, b in test.keys().values.tolist())"
   ]
  },
  {
   "cell_type": "code",
   "execution_count": 173,
   "metadata": {},
   "outputs": [
    {
     "ename": "ValueError",
     "evalue": "too many values to unpack (expected 2)",
     "output_type": "error",
     "traceback": [
      "\u001b[0;31m---------------------------------------------------------------------------\u001b[0m",
      "\u001b[0;31mValueError\u001b[0m                                Traceback (most recent call last)",
      "\u001b[0;32m<ipython-input-173-16862f857d4f>\u001b[0m in \u001b[0;36m<module>\u001b[0;34m\u001b[0m\n\u001b[0;32m----> 1\u001b[0;31m \u001b[0mheader\u001b[0m\u001b[0;34m=\u001b[0m \u001b[0;34m[\u001b[0m\u001b[0mb\u001b[0m \u001b[0;32mfor\u001b[0m \u001b[0ma\u001b[0m\u001b[0;34m,\u001b[0m\u001b[0mb\u001b[0m \u001b[0;32min\u001b[0m \u001b[0mtest\u001b[0m\u001b[0;34m.\u001b[0m\u001b[0mkeys\u001b[0m\u001b[0;34m(\u001b[0m\u001b[0;34m)\u001b[0m\u001b[0;34m.\u001b[0m\u001b[0mvalues\u001b[0m\u001b[0;34m.\u001b[0m\u001b[0mtolist\u001b[0m\u001b[0;34m(\u001b[0m\u001b[0;34m)\u001b[0m \u001b[0;32mif\u001b[0m \u001b[0ma\u001b[0m \u001b[0;34m==\u001b[0m \u001b[0;34m'Inscription'\u001b[0m\u001b[0;34m]\u001b[0m\u001b[0;34m\u001b[0m\u001b[0;34m\u001b[0m\u001b[0m\n\u001b[0m\u001b[1;32m      2\u001b[0m \u001b[0mtest\u001b[0m \u001b[0;34m=\u001b[0m \u001b[0mtest\u001b[0m\u001b[0;34m[\u001b[0m\u001b[0;34m'Inscription'\u001b[0m\u001b[0;34m]\u001b[0m\u001b[0;34m\u001b[0m\u001b[0;34m\u001b[0m\u001b[0m\n\u001b[1;32m      3\u001b[0m \u001b[0mprint\u001b[0m\u001b[0;34m(\u001b[0m\u001b[0melement\u001b[0m\u001b[0;34m)\u001b[0m\u001b[0;34m\u001b[0m\u001b[0;34m\u001b[0m\u001b[0m\n\u001b[1;32m      4\u001b[0m \u001b[0;34m{\u001b[0m\u001b[0melement\u001b[0m\u001b[0;34m:\u001b[0m\u001b[0;34m{\u001b[0m\u001b[0;34m'type'\u001b[0m\u001b[0;34m:\u001b[0m\u001b[0mtype\u001b[0m\u001b[0;34m(\u001b[0m\u001b[0mtest\u001b[0m\u001b[0;34m[\u001b[0m\u001b[0melement\u001b[0m\u001b[0;34m]\u001b[0m\u001b[0;34m.\u001b[0m\u001b[0mvalues\u001b[0m\u001b[0;34m.\u001b[0m\u001b[0mtolist\u001b[0m\u001b[0;34m(\u001b[0m\u001b[0;34m)\u001b[0m\u001b[0;34m[\u001b[0m\u001b[0;36m0\u001b[0m\u001b[0;34m]\u001b[0m\u001b[0;34m)\u001b[0m\u001b[0;34m}\u001b[0m  \u001b[0;32mfor\u001b[0m \u001b[0melement\u001b[0m \u001b[0;32min\u001b[0m \u001b[0mheader\u001b[0m\u001b[0;34m}\u001b[0m\u001b[0;34m\u001b[0m\u001b[0;34m\u001b[0m\u001b[0m\n",
      "\u001b[0;32m<ipython-input-173-16862f857d4f>\u001b[0m in \u001b[0;36m<listcomp>\u001b[0;34m(.0)\u001b[0m\n\u001b[0;32m----> 1\u001b[0;31m \u001b[0mheader\u001b[0m\u001b[0;34m=\u001b[0m \u001b[0;34m[\u001b[0m\u001b[0mb\u001b[0m \u001b[0;32mfor\u001b[0m \u001b[0ma\u001b[0m\u001b[0;34m,\u001b[0m\u001b[0mb\u001b[0m \u001b[0;32min\u001b[0m \u001b[0mtest\u001b[0m\u001b[0;34m.\u001b[0m\u001b[0mkeys\u001b[0m\u001b[0;34m(\u001b[0m\u001b[0;34m)\u001b[0m\u001b[0;34m.\u001b[0m\u001b[0mvalues\u001b[0m\u001b[0;34m.\u001b[0m\u001b[0mtolist\u001b[0m\u001b[0;34m(\u001b[0m\u001b[0;34m)\u001b[0m \u001b[0;32mif\u001b[0m \u001b[0ma\u001b[0m \u001b[0;34m==\u001b[0m \u001b[0;34m'Inscription'\u001b[0m\u001b[0;34m]\u001b[0m\u001b[0;34m\u001b[0m\u001b[0;34m\u001b[0m\u001b[0m\n\u001b[0m\u001b[1;32m      2\u001b[0m \u001b[0mtest\u001b[0m \u001b[0;34m=\u001b[0m \u001b[0mtest\u001b[0m\u001b[0;34m[\u001b[0m\u001b[0;34m'Inscription'\u001b[0m\u001b[0;34m]\u001b[0m\u001b[0;34m\u001b[0m\u001b[0;34m\u001b[0m\u001b[0m\n\u001b[1;32m      3\u001b[0m \u001b[0mprint\u001b[0m\u001b[0;34m(\u001b[0m\u001b[0melement\u001b[0m\u001b[0;34m)\u001b[0m\u001b[0;34m\u001b[0m\u001b[0;34m\u001b[0m\u001b[0m\n\u001b[1;32m      4\u001b[0m \u001b[0;34m{\u001b[0m\u001b[0melement\u001b[0m\u001b[0;34m:\u001b[0m\u001b[0;34m{\u001b[0m\u001b[0;34m'type'\u001b[0m\u001b[0;34m:\u001b[0m\u001b[0mtype\u001b[0m\u001b[0;34m(\u001b[0m\u001b[0mtest\u001b[0m\u001b[0;34m[\u001b[0m\u001b[0melement\u001b[0m\u001b[0;34m]\u001b[0m\u001b[0;34m.\u001b[0m\u001b[0mvalues\u001b[0m\u001b[0;34m.\u001b[0m\u001b[0mtolist\u001b[0m\u001b[0;34m(\u001b[0m\u001b[0;34m)\u001b[0m\u001b[0;34m[\u001b[0m\u001b[0;36m0\u001b[0m\u001b[0;34m]\u001b[0m\u001b[0;34m)\u001b[0m\u001b[0;34m}\u001b[0m  \u001b[0;32mfor\u001b[0m \u001b[0melement\u001b[0m \u001b[0;32min\u001b[0m \u001b[0mheader\u001b[0m\u001b[0;34m}\u001b[0m\u001b[0;34m\u001b[0m\u001b[0;34m\u001b[0m\u001b[0m\n",
      "\u001b[0;31mValueError\u001b[0m: too many values to unpack (expected 2)"
     ]
    }
   ],
   "source": [
    "header= [b for a,b in test.keys().values.tolist() if a == 'Inscription']\n",
    "test = test['Inscription']\n",
    "print(element)\n",
    "{element:{'type':type(test[element].values.tolist()[0])}  for element in header}"
   ]
  },
  {
   "cell_type": "code",
   "execution_count": 161,
   "metadata": {},
   "outputs": [
    {
     "data": {
      "text/html": [
       "<div>\n",
       "<style scoped>\n",
       "    .dataframe tbody tr th:only-of-type {\n",
       "        vertical-align: middle;\n",
       "    }\n",
       "\n",
       "    .dataframe tbody tr th {\n",
       "        vertical-align: top;\n",
       "    }\n",
       "\n",
       "    .dataframe thead th {\n",
       "        text-align: right;\n",
       "    }\n",
       "</style>\n",
       "<table border=\"1\" class=\"dataframe\">\n",
       "  <thead>\n",
       "    <tr style=\"text-align: right;\">\n",
       "      <th></th>\n",
       "      <th>Unnamed: 101_level_1</th>\n",
       "      <th>Unnamed: 102_level_1</th>\n",
       "      <th>Unnamed: 103_level_1</th>\n",
       "    </tr>\n",
       "  </thead>\n",
       "  <tbody>\n",
       "  </tbody>\n",
       "</table>\n",
       "</div>"
      ],
      "text/plain": [
       "Empty DataFrame\n",
       "Columns: [Unnamed: 101_level_1, Unnamed: 102_level_1, Unnamed: 103_level_1]\n",
       "Index: []"
      ]
     },
     "execution_count": 161,
     "metadata": {},
     "output_type": "execute_result"
    }
   ],
   "source": [
    "test['Team Members'].dropna()"
   ]
  },
  {
   "cell_type": "code",
   "execution_count": 7,
   "metadata": {},
   "outputs": [],
   "source": [
    "import challenge1000"
   ]
  },
  {
   "cell_type": "code",
   "execution_count": 9,
   "metadata": {},
   "outputs": [
    {
     "name": "stdout",
     "output_type": "stream",
     "text": [
      "/Volumes/GoogleDrive/My Drive/Open Data Platform/DATA/SCHEMA/star_schema.json\n"
     ]
    }
   ],
   "source": [
    "Schema = challenge1000.RefEnv().schema"
   ]
  },
  {
   "cell_type": "code",
   "execution_count": 13,
   "metadata": {},
   "outputs": [
    {
     "data": {
      "text/plain": [
       "{'labels': ['categories'],\n",
       " 'template': ['temp'],\n",
       " 'team': ['empl_h_struc', 'empl_f_struc'],\n",
       " 'url_descriptions_formal': ['prez_doc_struc', 'logo_struc', 'video_struc'],\n",
       " 'descriptions_raw': ['nom_struc',\n",
       "  'prez_struc',\n",
       "  'prez_produit_struc',\n",
       "  'prez_marche_struc',\n",
       "  'prez_zone_struc',\n",
       "  'prez_objectif_struc',\n",
       "  'prez_innovante_struc',\n",
       "  'prez_duplicable_struc',\n",
       "  'prez_durable_struc'],\n",
       " 'descriptions_traduction': ['nom_struc',\n",
       "  'prez_struc',\n",
       "  'prez_produit_struc',\n",
       "  'prez_marche_struc',\n",
       "  'prez_zone_struc',\n",
       "  'prez_objectif_struc',\n",
       "  'prez_innovante_struc',\n",
       "  'prez_duplicable_struc',\n",
       "  'prez_durable_struc',\n",
       "  'categorie'],\n",
       " 'finance': ['ca_2017',\n",
       "  'ca_2017_devise',\n",
       "  'ca_2018',\n",
       "  'ca_2018_devise',\n",
       "  'ca_2019_devise',\n",
       "  'ca_2019_trim1',\n",
       "  'ca_2019_trim2',\n",
       "  'ca_2019_trim3'],\n",
       " 'structure': ['nom_struc',\n",
       "  'date_struc',\n",
       "  'type_struc',\n",
       "  'num_struc',\n",
       "  'pays_struc1',\n",
       "  'certif_struc',\n",
       "  'adresse_struc',\n",
       "  'ville_struc',\n",
       "  'region_struc',\n",
       "  'pays_struc2',\n",
       "  'cat_sub1_struc',\n",
       "  'cat_sub2_struc',\n",
       "  'cat_sub3_struc',\n",
       "  'cat_struc',\n",
       "  'cat_autre_struc',\n",
       "  'site_struc',\n",
       "  'linkedin_struc',\n",
       "  'facebook_struc',\n",
       "  'twitter_struc',\n",
       "  'instagram_struc',\n",
       "  'incubateur_struc',\n",
       "  'partenaire_struc',\n",
       "  'prix_struc',\n",
       "  'investisseur_struc'],\n",
       " 'people': ['nom_prenom_diff2',\n",
       "  'nation_diff1',\n",
       "  'fonda_diff',\n",
       "  'nation_diff3',\n",
       "  'civil_diff3',\n",
       "  'nom_prenom_diff1',\n",
       "  'nation_diff2',\n",
       "  'civil_diff1',\n",
       "  'nom_prenom_diff3',\n",
       "  'civil_diff2',\n",
       "  'civil_pers',\n",
       "  'nom_pers',\n",
       "  'prenom_pers',\n",
       "  'nation_pers',\n",
       "  'age_pers',\n",
       "  'parcours_pers',\n",
       "  'email_pers',\n",
       "  'mobile_pers',\n",
       "  'fixe_pers',\n",
       "  'linkedin_pers',\n",
       "  'twitter_pers',\n",
       "  'fonction_pers',\n",
       "  'id_pers',\n",
       "  'lang_pers'],\n",
       " 'digital_ponctual': ['reco_digitafr',\n",
       "  'cgu_digitafr',\n",
       "  'nwsl_digitafr',\n",
       "  'compte_label_digitafr',\n",
       "  'compte_digitafr',\n",
       "  'mdp_digitafr',\n",
       "  'iduser_digitafr',\n",
       "  'time_digitafr',\n",
       "  'last_update_digitafr',\n",
       "  'created_by_digitafr',\n",
       "  'updated_by_digitafr',\n",
       "  'draft_digitafr',\n",
       "  'ip_digitafr',\n",
       "  'id_digitafr',\n",
       "  'key_digitafr']}"
      ]
     },
     "execution_count": 13,
     "metadata": {},
     "output_type": "execute_result"
    }
   ],
   "source": [
    "Schema"
   ]
  },
  {
   "cell_type": "code",
   "execution_count": 32,
   "metadata": {},
   "outputs": [],
   "source": [
    "path_schema = '/Users/py3/Downloads/Schema.csv'\n",
    "\n",
    "target = pandas.read_csv(path_schema, names =['Variable', 'Type', 'Label'], skiprows = lambda x: x in [0])\n"
   ]
  },
  {
   "cell_type": "code",
   "execution_count": 33,
   "metadata": {},
   "outputs": [
    {
     "data": {
      "text/plain": [
       "{'labels': ['categories'],\n",
       " 'template': ['temp'],\n",
       " 'team': ['empl_h_struc', 'empl_f_struc'],\n",
       " 'url_descriptions_formal': ['prez_doc_struc', 'logo_struc', 'video_struc'],\n",
       " 'descriptions_raw': ['nom_struc',\n",
       "  'prez_struc',\n",
       "  'prez_produit_struc',\n",
       "  'prez_marche_struc',\n",
       "  'prez_zone_struc',\n",
       "  'prez_objectif_struc',\n",
       "  'prez_innovante_struc',\n",
       "  'prez_duplicable_struc',\n",
       "  'prez_durable_struc'],\n",
       " 'descriptions_traduction': ['nom_struc',\n",
       "  'prez_struc',\n",
       "  'prez_produit_struc',\n",
       "  'prez_marche_struc',\n",
       "  'prez_zone_struc',\n",
       "  'prez_objectif_struc',\n",
       "  'prez_innovante_struc',\n",
       "  'prez_duplicable_struc',\n",
       "  'prez_durable_struc',\n",
       "  'categorie'],\n",
       " 'finance': ['ca_2017',\n",
       "  'ca_2017_devise',\n",
       "  'ca_2018',\n",
       "  'ca_2018_devise',\n",
       "  'ca_2019_devise',\n",
       "  'ca_2019_trim1',\n",
       "  'ca_2019_trim2',\n",
       "  'ca_2019_trim3'],\n",
       " 'structure': ['nom_struc',\n",
       "  'date_struc',\n",
       "  'type_struc',\n",
       "  'num_struc',\n",
       "  'pays_struc1',\n",
       "  'certif_struc',\n",
       "  'adresse_struc',\n",
       "  'ville_struc',\n",
       "  'region_struc',\n",
       "  'pays_struc2',\n",
       "  'cat_sub1_struc',\n",
       "  'cat_sub2_struc',\n",
       "  'cat_sub3_struc',\n",
       "  'cat_struc',\n",
       "  'cat_autre_struc',\n",
       "  'site_struc',\n",
       "  'linkedin_struc',\n",
       "  'facebook_struc',\n",
       "  'twitter_struc',\n",
       "  'instagram_struc',\n",
       "  'incubateur_struc',\n",
       "  'partenaire_struc',\n",
       "  'prix_struc',\n",
       "  'investisseur_struc'],\n",
       " 'people': ['nom_prenom_diff2',\n",
       "  'nation_diff1',\n",
       "  'fonda_diff',\n",
       "  'nation_diff3',\n",
       "  'civil_diff3',\n",
       "  'nom_prenom_diff1',\n",
       "  'nation_diff2',\n",
       "  'civil_diff1',\n",
       "  'nom_prenom_diff3',\n",
       "  'civil_diff2',\n",
       "  'civil_pers',\n",
       "  'nom_pers',\n",
       "  'prenom_pers',\n",
       "  'nation_pers',\n",
       "  'age_pers',\n",
       "  'parcours_pers',\n",
       "  'email_pers',\n",
       "  'mobile_pers',\n",
       "  'fixe_pers',\n",
       "  'linkedin_pers',\n",
       "  'twitter_pers',\n",
       "  'fonction_pers',\n",
       "  'id_pers',\n",
       "  'lang_pers'],\n",
       " 'digital_ponctual': ['reco_digitafr',\n",
       "  'cgu_digitafr',\n",
       "  'nwsl_digitafr',\n",
       "  'compte_label_digitafr',\n",
       "  'compte_digitafr',\n",
       "  'mdp_digitafr',\n",
       "  'iduser_digitafr',\n",
       "  'time_digitafr',\n",
       "  'last_update_digitafr',\n",
       "  'created_by_digitafr',\n",
       "  'updated_by_digitafr',\n",
       "  'draft_digitafr',\n",
       "  'ip_digitafr',\n",
       "  'id_digitafr',\n",
       "  'key_digitafr']}"
      ]
     },
     "execution_count": 33,
     "metadata": {},
     "output_type": "execute_result"
    }
   ],
   "source": [
    "Schema"
   ]
  },
  {
   "cell_type": "code",
   "execution_count": 58,
   "metadata": {},
   "outputs": [
    {
     "name": "stdout",
     "output_type": "stream",
     "text": [
      "104\n",
      "101\n"
     ]
    }
   ],
   "source": [
    "print(len(variables))\n",
    "print(len([a for a in filter( lambda x: x==x, variables)]))\n",
    "header = list(filter( lambda x: x==x, variables))"
   ]
  },
  {
   "cell_type": "code",
   "execution_count": 59,
   "metadata": {},
   "outputs": [
    {
     "data": {
      "text/html": [
       "<div>\n",
       "<style scoped>\n",
       "    .dataframe tbody tr th:only-of-type {\n",
       "        vertical-align: middle;\n",
       "    }\n",
       "\n",
       "    .dataframe tbody tr th {\n",
       "        vertical-align: top;\n",
       "    }\n",
       "\n",
       "    .dataframe thead th {\n",
       "        text-align: right;\n",
       "    }\n",
       "</style>\n",
       "<table border=\"1\" class=\"dataframe\">\n",
       "  <thead>\n",
       "    <tr style=\"text-align: right;\">\n",
       "      <th></th>\n",
       "      <th>0</th>\n",
       "      <th>1</th>\n",
       "      <th>2</th>\n",
       "    </tr>\n",
       "  </thead>\n",
       "  <tbody>\n",
       "    <tr>\n",
       "      <th>Reference</th>\n",
       "      <td>Challenge1000</td>\n",
       "      <td></td>\n",
       "      <td></td>\n",
       "    </tr>\n",
       "    <tr>\n",
       "      <th>Status</th>\n",
       "      <td>Challenge1000</td>\n",
       "      <td></td>\n",
       "      <td></td>\n",
       "    </tr>\n",
       "    <tr>\n",
       "      <th>Nom</th>\n",
       "      <td>Challenge1000</td>\n",
       "      <td></td>\n",
       "      <td></td>\n",
       "    </tr>\n",
       "    <tr>\n",
       "      <th>Prénom</th>\n",
       "      <td>Challenge1000</td>\n",
       "      <td></td>\n",
       "      <td></td>\n",
       "    </tr>\n",
       "    <tr>\n",
       "      <th>Courriel</th>\n",
       "      <td>Challenge1000</td>\n",
       "      <td></td>\n",
       "      <td></td>\n",
       "    </tr>\n",
       "    <tr>\n",
       "      <th>...</th>\n",
       "      <td>...</td>\n",
       "      <td>...</td>\n",
       "      <td>...</td>\n",
       "    </tr>\n",
       "    <tr>\n",
       "      <th>ID</th>\n",
       "      <td>Challenge1000</td>\n",
       "      <td></td>\n",
       "      <td></td>\n",
       "    </tr>\n",
       "    <tr>\n",
       "      <th>Key</th>\n",
       "      <td>Challenge1000</td>\n",
       "      <td></td>\n",
       "      <td></td>\n",
       "    </tr>\n",
       "    <tr>\n",
       "      <th>Prénom(s)</th>\n",
       "      <td>Challenge1000</td>\n",
       "      <td></td>\n",
       "      <td></td>\n",
       "    </tr>\n",
       "    <tr>\n",
       "      <th>Adresse mail</th>\n",
       "      <td>Challenge1000</td>\n",
       "      <td></td>\n",
       "      <td></td>\n",
       "    </tr>\n",
       "    <tr>\n",
       "      <th>Présentation de la structure (limité à 3000 caractères)</th>\n",
       "      <td>Challenge1000</td>\n",
       "      <td></td>\n",
       "      <td></td>\n",
       "    </tr>\n",
       "  </tbody>\n",
       "</table>\n",
       "<p>87 rows × 3 columns</p>\n",
       "</div>"
      ],
      "text/plain": [
       "                                                                0 1  2 \n",
       "Reference                                           Challenge1000      \n",
       "Status                                              Challenge1000      \n",
       "Nom                                                 Challenge1000      \n",
       "Prénom                                              Challenge1000      \n",
       "Courriel                                            Challenge1000      \n",
       "...                                                           ... .. ..\n",
       "ID                                                  Challenge1000      \n",
       "Key                                                 Challenge1000      \n",
       "Prénom(s)                                           Challenge1000      \n",
       "Adresse mail                                        Challenge1000      \n",
       "Présentation de la structure (limité à 3000 car...  Challenge1000      \n",
       "\n",
       "[87 rows x 3 columns]"
      ]
     },
     "execution_count": 59,
     "metadata": {},
     "output_type": "execute_result"
    }
   ],
   "source": [
    "pandas.DataFrame.from_dict({element : ('Challenge1000' ,'','' ) for element in header}).T"
   ]
  },
  {
   "cell_type": "code",
   "execution_count": 78,
   "metadata": {},
   "outputs": [
    {
     "name": "stdout",
     "output_type": "stream",
     "text": [
      "[('Date de création de la structure', 2), ('Présentation du produit / de la solution phare porté par la structure (disponible et sur le marché)', 2)]\n"
     ]
    }
   ],
   "source": [
    "import collections\n",
    "all_data=all_data.T.drop_duplicates().T\n",
    "header = all_data.keys().values.tolist()\n",
    "\n",
    "print([(a,b) for a,b in collections.Counter(list(header)).most_common(100) if b>1])\n",
    "subset = all_data[[a for a,b in collections.Counter(list(header)).most_common(100) if b>1]].copy()\n"
   ]
  },
  {
   "cell_type": "code",
   "execution_count": 80,
   "metadata": {},
   "outputs": [],
   "source": [
    "subset.columns = ['date_datetime', 'date', 'prez1', 'prez2']"
   ]
  },
  {
   "cell_type": "code",
   "execution_count": 118,
   "metadata": {},
   "outputs": [
    {
     "data": {
      "text/html": [
       "<div>\n",
       "<style scoped>\n",
       "    .dataframe tbody tr th:only-of-type {\n",
       "        vertical-align: middle;\n",
       "    }\n",
       "\n",
       "    .dataframe tbody tr th {\n",
       "        vertical-align: top;\n",
       "    }\n",
       "\n",
       "    .dataframe thead th {\n",
       "        text-align: right;\n",
       "    }\n",
       "</style>\n",
       "<table border=\"1\" class=\"dataframe\">\n",
       "  <thead>\n",
       "    <tr style=\"text-align: right;\">\n",
       "      <th></th>\n",
       "      <th>date_datetime</th>\n",
       "      <th>date</th>\n",
       "      <th>prez1</th>\n",
       "      <th>prez2</th>\n",
       "    </tr>\n",
       "  </thead>\n",
       "  <tbody>\n",
       "    <tr>\n",
       "      <th>383</th>\n",
       "      <td>Tue Feb 18 2020 00:00:00 GMT+0000 (UTC)</td>\n",
       "      <td>2020-02-18</td>\n",
       "      <td>NaN</td>\n",
       "      <td>NaN</td>\n",
       "    </tr>\n",
       "    <tr>\n",
       "      <th>815</th>\n",
       "      <td>Mon Aug 29 2016 00:00:00 GMT+0000 (UTC)</td>\n",
       "      <td>2016-08-29</td>\n",
       "      <td>Dokita Eyes International travaille avec tous ...</td>\n",
       "      <td>Dokita Eyes International travaille avec tous ...</td>\n",
       "    </tr>\n",
       "    <tr>\n",
       "      <th>240</th>\n",
       "      <td>Wed Mar 01 2017 00:00:00 GMT+0000 (UTC)</td>\n",
       "      <td>2017-03-01</td>\n",
       "      <td>NaN</td>\n",
       "      <td>NaN</td>\n",
       "    </tr>\n",
       "    <tr>\n",
       "      <th>319</th>\n",
       "      <td>Mon Jun 11 2018 00:00:00 GMT+0000 (UTC)</td>\n",
       "      <td>2018-06-11</td>\n",
       "      <td>A Lomé, la capitale togolaise comme dans les z...</td>\n",
       "      <td>A Lomé, la capitale togolaise comme dans les z...</td>\n",
       "    </tr>\n",
       "  </tbody>\n",
       "</table>\n",
       "</div>"
      ],
      "text/plain": [
       "                               date_datetime        date  \\\n",
       "383  Tue Feb 18 2020 00:00:00 GMT+0000 (UTC)  2020-02-18   \n",
       "815  Mon Aug 29 2016 00:00:00 GMT+0000 (UTC)  2016-08-29   \n",
       "240  Wed Mar 01 2017 00:00:00 GMT+0000 (UTC)  2017-03-01   \n",
       "319  Mon Jun 11 2018 00:00:00 GMT+0000 (UTC)  2018-06-11   \n",
       "\n",
       "                                                 prez1  \\\n",
       "383                                                NaN   \n",
       "815  Dokita Eyes International travaille avec tous ...   \n",
       "240                                                NaN   \n",
       "319  A Lomé, la capitale togolaise comme dans les z...   \n",
       "\n",
       "                                                 prez2  \n",
       "383                                                NaN  \n",
       "815  Dokita Eyes International travaille avec tous ...  \n",
       "240                                                NaN  \n",
       "319  A Lomé, la capitale togolaise comme dans les z...  "
      ]
     },
     "execution_count": 118,
     "metadata": {},
     "output_type": "execute_result"
    }
   ],
   "source": [
    "subset['prez1'] = subset['prez1'].str.strip().map(remove_special)\n",
    "subset['prez2'] = subset['prez2'].str.strip().map(remove_special)\n",
    "subset[subset.apply(lambda x: False if x['prez1'] == x['prez2'] else True, axis = 1)]"
   ]
  },
  {
   "cell_type": "code",
   "execution_count": 119,
   "metadata": {},
   "outputs": [
    {
     "data": {
      "text/plain": [
       "['Dokita Eyes International travaille avec tous les acteurs du système de santé. Elle est un intermédiaire coursier fiable entre le patient, les formations sanitaires, les pharmacies et les laboratoires. La start-up dispose des agents en mobilité constante pour les courses au profit des patients urbains.  Grâce à son application Dokita Eyes, le patient urbain peut non seulement lancer une demande de consultation ou de RDV médical en ligne mais aussi enclencher un processus de courses auprès de Dokita Eyes International pour :  - l’achat à la pharmacie et la livraison de médicament à domicile  - la livraison de résultat d’analyses médicales chez le patient  - l’achat de bon de caisse dans les formations sanitaires lors des prises de RDV.  Cette application mobile offre la possibilité au patient de payer ses produits et services directement en ligne et se faire livrer sur place.  Notons que l’application a une double fonction : elle sert comme un carnet de santé mais aussi un canal pour lancer un service de courses pour la santé.',\n",
       " 'Dokita Eyes International travaille avec tous les acteurs du système de santé. Elle est un intermédiaire coursier fiable entre le patient, les formations sanitaires, les pharmacies et les laboratoires. La start-up dispose des agents en mobilité constante pour les courses au profit des patients urbains. Grâce à son application Dokita Eyes, le patient urbain peut non seulement lancer une demande de consultation ou de RDV médical en ligne mais aussi enclencher un processus de courses auprès de Dokita Eyes International pour : - l’achat à la pharmacie et la livraison de médicament à domicile - la livraison de résultat d’analyses médicales chez le patient - l’achat de bon de caisse dans les formations sanitaires lors des prises de RDV. Cette application mobile offre la possibilité au patient de payer ses produits et services directement en ligne et se faire livrer sur place. Notons que l’application a une double fonction : elle sert comme un carnet de santé mais aussi un canal pour lancer un service de courses pour la santé.']"
      ]
     },
     "execution_count": 119,
     "metadata": {},
     "output_type": "execute_result"
    }
   ],
   "source": [
    "subset[subset.apply(lambda x: False if x['prez1'] == x['prez2'] else True, axis = 1)][['prez1', 'prez2']].values.tolist()[1]"
   ]
  },
  {
   "cell_type": "code",
   "execution_count": 115,
   "metadata": {},
   "outputs": [],
   "source": [
    "import re\n",
    "def remove_special(s):\n",
    "    try:\n",
    "        regex = re.compile(r'[\\n\\r\\t]')\n",
    "        return regex.sub(\" \", s)\n",
    "    except:\n",
    "        return s"
   ]
  },
  {
   "cell_type": "code",
   "execution_count": 116,
   "metadata": {},
   "outputs": [
    {
     "data": {
      "text/plain": [
       "0      The first of our products that reached the loc...\n",
       "1      En 2015 - Déploiement en Algérie Pompage solai...\n",
       "2      Handitour est une agence de tourisme pour tous...\n",
       "3      O Grupo Asas, S.A., Empresa legalmente constit...\n",
       "4      Barbershop Software, it is a software (on tria...\n",
       "                             ...                        \n",
       "374    Podcast Production we are the first company to...\n",
       "375    Background  Over the years, local authorities ...\n",
       "376    1.  Our Red Heart solution are available in th...\n",
       "377    la production des séries documentaire agricole...\n",
       "378    Threams platform provides convenience and ease...\n",
       "Name: prez1, Length: 3533, dtype: object"
      ]
     },
     "execution_count": 116,
     "metadata": {},
     "output_type": "execute_result"
    }
   ],
   "source": [
    "subset['prez1'].str.strip().map(remove_special)"
   ]
  },
  {
   "cell_type": "code",
   "execution_count": null,
   "metadata": {},
   "outputs": [],
   "source": []
  }
 ],
 "metadata": {
  "kernelspec": {
   "display_name": "Python 3",
   "language": "python",
   "name": "python3"
  },
  "language_info": {
   "codemirror_mode": {
    "name": "ipython",
    "version": 3
   },
   "file_extension": ".py",
   "mimetype": "text/x-python",
   "name": "python",
   "nbconvert_exporter": "python",
   "pygments_lexer": "ipython3",
   "version": "3.7.3"
  }
 },
 "nbformat": 4,
 "nbformat_minor": 4
}

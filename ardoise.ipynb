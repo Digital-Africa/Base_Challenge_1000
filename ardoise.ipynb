{
 "cells": [
  {
   "cell_type": "code",
   "execution_count": 4,
   "metadata": {},
   "outputs": [],
   "source": [
    "import library\n",
    "import pandas"
   ]
  },
  {
   "cell_type": "markdown",
   "metadata": {},
   "source": [
    "# fix traduction"
   ]
  },
  {
   "cell_type": "code",
   "execution_count": 2,
   "metadata": {},
   "outputs": [
    {
     "data": {
      "text/html": [
       "<div>\n",
       "<style scoped>\n",
       "    .dataframe tbody tr th:only-of-type {\n",
       "        vertical-align: middle;\n",
       "    }\n",
       "\n",
       "    .dataframe tbody tr th {\n",
       "        vertical-align: top;\n",
       "    }\n",
       "\n",
       "    .dataframe thead th {\n",
       "        text-align: right;\n",
       "    }\n",
       "</style>\n",
       "<table border=\"1\" class=\"dataframe\">\n",
       "  <thead>\n",
       "    <tr style=\"text-align: right;\">\n",
       "      <th></th>\n",
       "      <th>prez_struc</th>\n",
       "      <th>prez_produit_struc</th>\n",
       "      <th>prez_marche_struc</th>\n",
       "      <th>prez_zone_struc</th>\n",
       "      <th>prez_objectif_struc</th>\n",
       "      <th>prez_innovante_struc</th>\n",
       "      <th>prez_duplicable_struc</th>\n",
       "      <th>prez_durable_struc</th>\n",
       "    </tr>\n",
       "    <tr>\n",
       "      <th>key_main</th>\n",
       "      <th></th>\n",
       "      <th></th>\n",
       "      <th></th>\n",
       "      <th></th>\n",
       "      <th></th>\n",
       "      <th></th>\n",
       "      <th></th>\n",
       "      <th></th>\n",
       "    </tr>\n",
       "  </thead>\n",
       "  <tbody>\n",
       "    <tr>\n",
       "      <th>http://skedit.info/_lifeta_gaston</th>\n",
       "      <td>GLIS VISION est spécialisé en Dévellopement po...</td>\n",
       "      <td>SK EDIT (SK) en résumé est un système de gesti...</td>\n",
       "      <td>Le projet a démarré dans un marché national po...</td>\n",
       "      <td>Notre secteur de Base est la RDC, Brazzaville ...</td>\n",
       "      <td>Nous visons apporter une touche de plus dans l...</td>\n",
       "      <td>Nous avons rassemblé en un seul lieu les besoi...</td>\n",
       "      <td>La technologie utilisée est duplicable en moin...</td>\n",
       "      <td>SK EDIT sera utile pour multiple fin et aucune...</td>\n",
       "    </tr>\n",
       "  </tbody>\n",
       "</table>\n",
       "</div>"
      ],
      "text/plain": [
       "                                                                          prez_struc  \\\n",
       "key_main                                                                               \n",
       "http://skedit.info/_lifeta_gaston  GLIS VISION est spécialisé en Dévellopement po...   \n",
       "\n",
       "                                                                  prez_produit_struc  \\\n",
       "key_main                                                                               \n",
       "http://skedit.info/_lifeta_gaston  SK EDIT (SK) en résumé est un système de gesti...   \n",
       "\n",
       "                                                                   prez_marche_struc  \\\n",
       "key_main                                                                               \n",
       "http://skedit.info/_lifeta_gaston  Le projet a démarré dans un marché national po...   \n",
       "\n",
       "                                                                     prez_zone_struc  \\\n",
       "key_main                                                                               \n",
       "http://skedit.info/_lifeta_gaston  Notre secteur de Base est la RDC, Brazzaville ...   \n",
       "\n",
       "                                                                 prez_objectif_struc  \\\n",
       "key_main                                                                               \n",
       "http://skedit.info/_lifeta_gaston  Nous visons apporter une touche de plus dans l...   \n",
       "\n",
       "                                                                prez_innovante_struc  \\\n",
       "key_main                                                                               \n",
       "http://skedit.info/_lifeta_gaston  Nous avons rassemblé en un seul lieu les besoi...   \n",
       "\n",
       "                                                               prez_duplicable_struc  \\\n",
       "key_main                                                                               \n",
       "http://skedit.info/_lifeta_gaston  La technologie utilisée est duplicable en moin...   \n",
       "\n",
       "                                                                  prez_durable_struc  \n",
       "key_main                                                                              \n",
       "http://skedit.info/_lifeta_gaston  SK EDIT sera utile pour multiple fin et aucune...  "
      ]
     },
     "execution_count": 2,
     "metadata": {},
     "output_type": "execute_result"
    }
   ],
   "source": [
    "header = ['key_main', 'prez_struc', 'prez_produit_struc','prez_marche_struc', 'prez_zone_struc','prez_objectif_struc', 'prez_innovante_struc','prez_duplicable_struc', 'prez_durable_struc']\n",
    "X = library.Transformation_2().X.reset_index()\n",
    "X = X[X['key_main']=='http://skedit.info/_lifeta_gaston'][header].set_index('key_main')\n",
    "X"
   ]
  },
  {
   "cell_type": "code",
   "execution_count": 27,
   "metadata": {},
   "outputs": [
    {
     "name": "stdout",
     "output_type": "stream",
     "text": [
      "prez_struc\n",
      "prez_produit_struc\n"
     ]
    },
    {
     "ename": "JSONDecodeError",
     "evalue": "Expecting value: line 1 column 1 (char 0)",
     "output_type": "error",
     "traceback": [
      "\u001b[0;31m------------------------------------------------------------------\u001b[0m",
      "\u001b[0;31mJSONDecodeError\u001b[0m                  Traceback (most recent call last)",
      "\u001b[0;32m<ipython-input-27-77f0f039797e>\u001b[0m in \u001b[0;36m<module>\u001b[0;34m\u001b[0m\n\u001b[1;32m     10\u001b[0m \u001b[0;32mfor\u001b[0m \u001b[0me\u001b[0m \u001b[0;32min\u001b[0m \u001b[0mheader\u001b[0m\u001b[0;34m[\u001b[0m\u001b[0;36m1\u001b[0m\u001b[0;34m:\u001b[0m\u001b[0;34m]\u001b[0m\u001b[0;34m:\u001b[0m\u001b[0;34m\u001b[0m\u001b[0;34m\u001b[0m\u001b[0m\n\u001b[1;32m     11\u001b[0m     \u001b[0mprint\u001b[0m\u001b[0;34m(\u001b[0m\u001b[0me\u001b[0m\u001b[0;34m)\u001b[0m\u001b[0;34m\u001b[0m\u001b[0;34m\u001b[0m\u001b[0m\n\u001b[0;32m---> 12\u001b[0;31m     \u001b[0mget_translate\u001b[0m\u001b[0;34m(\u001b[0m\u001b[0mX\u001b[0m\u001b[0;34m[\u001b[0m\u001b[0me\u001b[0m\u001b[0;34m]\u001b[0m\u001b[0;34m.\u001b[0m\u001b[0mvalues\u001b[0m\u001b[0;34m[\u001b[0m\u001b[0;36m0\u001b[0m\u001b[0;34m]\u001b[0m\u001b[0;34m)\u001b[0m\u001b[0;34m\u001b[0m\u001b[0;34m\u001b[0m\u001b[0m\n\u001b[0m",
      "\u001b[0;32m<ipython-input-27-77f0f039797e>\u001b[0m in \u001b[0;36mget_translate\u001b[0;34m(element)\u001b[0m\n\u001b[1;32m      6\u001b[0m     \u001b[0murl\u001b[0m \u001b[0;34m=\u001b[0m \u001b[0;34m'https://api.deepl.com/v2/translate?auth_key={}&text={}&target_lang=EN'\u001b[0m\u001b[0;34m.\u001b[0m\u001b[0mformat\u001b[0m\u001b[0;34m(\u001b[0m\u001b[0mkey\u001b[0m\u001b[0;34m,\u001b[0m \u001b[0mtext\u001b[0m\u001b[0;34m)\u001b[0m\u001b[0;34m\u001b[0m\u001b[0;34m\u001b[0m\u001b[0m\n\u001b[1;32m      7\u001b[0m     \u001b[0mresp\u001b[0m \u001b[0;34m=\u001b[0m \u001b[0mrequests\u001b[0m\u001b[0;34m.\u001b[0m\u001b[0mget\u001b[0m\u001b[0;34m(\u001b[0m\u001b[0murl\u001b[0m\u001b[0;34m)\u001b[0m\u001b[0;34m\u001b[0m\u001b[0;34m\u001b[0m\u001b[0m\n\u001b[0;32m----> 8\u001b[0;31m     \u001b[0mtraduction\u001b[0m \u001b[0;34m=\u001b[0m \u001b[0mresp\u001b[0m\u001b[0;34m.\u001b[0m\u001b[0mjson\u001b[0m\u001b[0;34m(\u001b[0m\u001b[0;34m)\u001b[0m\u001b[0;34m[\u001b[0m\u001b[0;34m'translations'\u001b[0m\u001b[0;34m]\u001b[0m\u001b[0;34m[\u001b[0m\u001b[0;36m0\u001b[0m\u001b[0;34m]\u001b[0m\u001b[0;34m[\u001b[0m\u001b[0;34m'text'\u001b[0m\u001b[0;34m]\u001b[0m\u001b[0;34m\u001b[0m\u001b[0;34m\u001b[0m\u001b[0m\n\u001b[0m\u001b[1;32m      9\u001b[0m     \u001b[0;32mreturn\u001b[0m \u001b[0mtraduction\u001b[0m\u001b[0;34m\u001b[0m\u001b[0;34m\u001b[0m\u001b[0m\n\u001b[1;32m     10\u001b[0m \u001b[0;32mfor\u001b[0m \u001b[0me\u001b[0m \u001b[0;32min\u001b[0m \u001b[0mheader\u001b[0m\u001b[0;34m[\u001b[0m\u001b[0;36m1\u001b[0m\u001b[0;34m:\u001b[0m\u001b[0;34m]\u001b[0m\u001b[0;34m:\u001b[0m\u001b[0;34m\u001b[0m\u001b[0;34m\u001b[0m\u001b[0m\n",
      "\u001b[0;32m~/anaconda3/lib/python3.7/site-packages/requests/models.py\u001b[0m in \u001b[0;36mjson\u001b[0;34m(self, **kwargs)\u001b[0m\n\u001b[1;32m    896\u001b[0m                     \u001b[0;31m# used.\u001b[0m\u001b[0;34m\u001b[0m\u001b[0;34m\u001b[0m\u001b[0;34m\u001b[0m\u001b[0m\n\u001b[1;32m    897\u001b[0m                     \u001b[0;32mpass\u001b[0m\u001b[0;34m\u001b[0m\u001b[0;34m\u001b[0m\u001b[0m\n\u001b[0;32m--> 898\u001b[0;31m         \u001b[0;32mreturn\u001b[0m \u001b[0mcomplexjson\u001b[0m\u001b[0;34m.\u001b[0m\u001b[0mloads\u001b[0m\u001b[0;34m(\u001b[0m\u001b[0mself\u001b[0m\u001b[0;34m.\u001b[0m\u001b[0mtext\u001b[0m\u001b[0;34m,\u001b[0m \u001b[0;34m**\u001b[0m\u001b[0mkwargs\u001b[0m\u001b[0;34m)\u001b[0m\u001b[0;34m\u001b[0m\u001b[0;34m\u001b[0m\u001b[0m\n\u001b[0m\u001b[1;32m    899\u001b[0m \u001b[0;34m\u001b[0m\u001b[0m\n\u001b[1;32m    900\u001b[0m     \u001b[0;34m@\u001b[0m\u001b[0mproperty\u001b[0m\u001b[0;34m\u001b[0m\u001b[0;34m\u001b[0m\u001b[0m\n",
      "\u001b[0;32m~/anaconda3/lib/python3.7/json/__init__.py\u001b[0m in \u001b[0;36mloads\u001b[0;34m(s, encoding, cls, object_hook, parse_float, parse_int, parse_constant, object_pairs_hook, **kw)\u001b[0m\n\u001b[1;32m    346\u001b[0m             \u001b[0mparse_int\u001b[0m \u001b[0;32mis\u001b[0m \u001b[0;32mNone\u001b[0m \u001b[0;32mand\u001b[0m \u001b[0mparse_float\u001b[0m \u001b[0;32mis\u001b[0m \u001b[0;32mNone\u001b[0m \u001b[0;32mand\u001b[0m\u001b[0;34m\u001b[0m\u001b[0;34m\u001b[0m\u001b[0m\n\u001b[1;32m    347\u001b[0m             parse_constant is None and object_pairs_hook is None and not kw):\n\u001b[0;32m--> 348\u001b[0;31m         \u001b[0;32mreturn\u001b[0m \u001b[0m_default_decoder\u001b[0m\u001b[0;34m.\u001b[0m\u001b[0mdecode\u001b[0m\u001b[0;34m(\u001b[0m\u001b[0ms\u001b[0m\u001b[0;34m)\u001b[0m\u001b[0;34m\u001b[0m\u001b[0;34m\u001b[0m\u001b[0m\n\u001b[0m\u001b[1;32m    349\u001b[0m     \u001b[0;32mif\u001b[0m \u001b[0mcls\u001b[0m \u001b[0;32mis\u001b[0m \u001b[0;32mNone\u001b[0m\u001b[0;34m:\u001b[0m\u001b[0;34m\u001b[0m\u001b[0;34m\u001b[0m\u001b[0m\n\u001b[1;32m    350\u001b[0m         \u001b[0mcls\u001b[0m \u001b[0;34m=\u001b[0m \u001b[0mJSONDecoder\u001b[0m\u001b[0;34m\u001b[0m\u001b[0;34m\u001b[0m\u001b[0m\n",
      "\u001b[0;32m~/anaconda3/lib/python3.7/json/decoder.py\u001b[0m in \u001b[0;36mdecode\u001b[0;34m(self, s, _w)\u001b[0m\n\u001b[1;32m    335\u001b[0m \u001b[0;34m\u001b[0m\u001b[0m\n\u001b[1;32m    336\u001b[0m         \"\"\"\n\u001b[0;32m--> 337\u001b[0;31m         \u001b[0mobj\u001b[0m\u001b[0;34m,\u001b[0m \u001b[0mend\u001b[0m \u001b[0;34m=\u001b[0m \u001b[0mself\u001b[0m\u001b[0;34m.\u001b[0m\u001b[0mraw_decode\u001b[0m\u001b[0;34m(\u001b[0m\u001b[0ms\u001b[0m\u001b[0;34m,\u001b[0m \u001b[0midx\u001b[0m\u001b[0;34m=\u001b[0m\u001b[0m_w\u001b[0m\u001b[0;34m(\u001b[0m\u001b[0ms\u001b[0m\u001b[0;34m,\u001b[0m \u001b[0;36m0\u001b[0m\u001b[0;34m)\u001b[0m\u001b[0;34m.\u001b[0m\u001b[0mend\u001b[0m\u001b[0;34m(\u001b[0m\u001b[0;34m)\u001b[0m\u001b[0;34m)\u001b[0m\u001b[0;34m\u001b[0m\u001b[0;34m\u001b[0m\u001b[0m\n\u001b[0m\u001b[1;32m    338\u001b[0m         \u001b[0mend\u001b[0m \u001b[0;34m=\u001b[0m \u001b[0m_w\u001b[0m\u001b[0;34m(\u001b[0m\u001b[0ms\u001b[0m\u001b[0;34m,\u001b[0m \u001b[0mend\u001b[0m\u001b[0;34m)\u001b[0m\u001b[0;34m.\u001b[0m\u001b[0mend\u001b[0m\u001b[0;34m(\u001b[0m\u001b[0;34m)\u001b[0m\u001b[0;34m\u001b[0m\u001b[0;34m\u001b[0m\u001b[0m\n\u001b[1;32m    339\u001b[0m         \u001b[0;32mif\u001b[0m \u001b[0mend\u001b[0m \u001b[0;34m!=\u001b[0m \u001b[0mlen\u001b[0m\u001b[0;34m(\u001b[0m\u001b[0ms\u001b[0m\u001b[0;34m)\u001b[0m\u001b[0;34m:\u001b[0m\u001b[0;34m\u001b[0m\u001b[0;34m\u001b[0m\u001b[0m\n",
      "\u001b[0;32m~/anaconda3/lib/python3.7/json/decoder.py\u001b[0m in \u001b[0;36mraw_decode\u001b[0;34m(self, s, idx)\u001b[0m\n\u001b[1;32m    353\u001b[0m             \u001b[0mobj\u001b[0m\u001b[0;34m,\u001b[0m \u001b[0mend\u001b[0m \u001b[0;34m=\u001b[0m \u001b[0mself\u001b[0m\u001b[0;34m.\u001b[0m\u001b[0mscan_once\u001b[0m\u001b[0;34m(\u001b[0m\u001b[0ms\u001b[0m\u001b[0;34m,\u001b[0m \u001b[0midx\u001b[0m\u001b[0;34m)\u001b[0m\u001b[0;34m\u001b[0m\u001b[0;34m\u001b[0m\u001b[0m\n\u001b[1;32m    354\u001b[0m         \u001b[0;32mexcept\u001b[0m \u001b[0mStopIteration\u001b[0m \u001b[0;32mas\u001b[0m \u001b[0merr\u001b[0m\u001b[0;34m:\u001b[0m\u001b[0;34m\u001b[0m\u001b[0;34m\u001b[0m\u001b[0m\n\u001b[0;32m--> 355\u001b[0;31m             \u001b[0;32mraise\u001b[0m \u001b[0mJSONDecodeError\u001b[0m\u001b[0;34m(\u001b[0m\u001b[0;34m\"Expecting value\"\u001b[0m\u001b[0;34m,\u001b[0m \u001b[0ms\u001b[0m\u001b[0;34m,\u001b[0m \u001b[0merr\u001b[0m\u001b[0;34m.\u001b[0m\u001b[0mvalue\u001b[0m\u001b[0;34m)\u001b[0m \u001b[0;32mfrom\u001b[0m \u001b[0;32mNone\u001b[0m\u001b[0;34m\u001b[0m\u001b[0;34m\u001b[0m\u001b[0m\n\u001b[0m\u001b[1;32m    356\u001b[0m         \u001b[0;32mreturn\u001b[0m \u001b[0mobj\u001b[0m\u001b[0;34m,\u001b[0m \u001b[0mend\u001b[0m\u001b[0;34m\u001b[0m\u001b[0;34m\u001b[0m\u001b[0m\n",
      "\u001b[0;31mJSONDecodeError\u001b[0m: Expecting value: line 1 column 1 (char 0)"
     ]
    }
   ],
   "source": [
    "import requests\n",
    "import urllib\n",
    "def get_translate(element):\n",
    "    key = '9b87800e-c11c-5e98-649b-21d40847e9af'\n",
    "    text= urllib.parse.quote(element)\n",
    "    url = 'https://api.deepl.com/v2/translate?auth_key={}&text={}&target_lang=EN'.format(key, text)\n",
    "    resp = requests.get(url)\n",
    "    traduction = resp.json()['translations'][0]['text']\n",
    "    return traduction\n",
    "for e in header[1:]:\n",
    "    print(e)\n",
    "    get_translate(X[e].values[0])"
   ]
  },
  {
   "cell_type": "code",
   "execution_count": 29,
   "metadata": {},
   "outputs": [
    {
     "data": {
      "text/plain": [
       "key_main\n",
       "http://skedit.info/_lifeta_gaston    SK EDIT (SK) en résumé est un système de gesti...\n",
       "Name: prez_produit_struc, dtype: object"
      ]
     },
     "execution_count": 29,
     "metadata": {},
     "output_type": "execute_result"
    }
   ],
   "source": [
    "X[e]"
   ]
  },
  {
   "cell_type": "markdown",
   "metadata": {},
   "source": [
    "# Fix text preproce"
   ]
  },
  {
   "cell_type": "code",
   "execution_count": 32,
   "metadata": {},
   "outputs": [
    {
     "data": {
      "text/html": [
       "<div>\n",
       "<style scoped>\n",
       "    .dataframe tbody tr th:only-of-type {\n",
       "        vertical-align: middle;\n",
       "    }\n",
       "\n",
       "    .dataframe tbody tr th {\n",
       "        vertical-align: top;\n",
       "    }\n",
       "\n",
       "    .dataframe thead th {\n",
       "        text-align: right;\n",
       "    }\n",
       "</style>\n",
       "<table border=\"1\" class=\"dataframe\">\n",
       "  <thead>\n",
       "    <tr style=\"text-align: right;\">\n",
       "      <th></th>\n",
       "      <th>key_main</th>\n",
       "      <th>url_prez_struc</th>\n",
       "      <th>url_prez_produit_struc</th>\n",
       "      <th>url_prez_marche_struc</th>\n",
       "      <th>url_prez_zone_struc</th>\n",
       "      <th>url_prez_objectif_struc</th>\n",
       "      <th>url_prez_innovante_struc</th>\n",
       "      <th>url_prez_duplicable_struc</th>\n",
       "      <th>url_prez_durable_struc</th>\n",
       "    </tr>\n",
       "  </thead>\n",
       "  <tbody>\n",
       "    <tr>\n",
       "      <th>0</th>\n",
       "      <td>http://seneyakaare.com_ndiaye_diariyata</td>\n",
       "      <td>Health startup to assist in the diagnosis and ...</td>\n",
       "      <td>SEN'Diabetes: medical platform for diabetes ma...</td>\n",
       "      <td>Diabetes patients and specialized health profe...</td>\n",
       "      <td>14 regions of Senegal</td>\n",
       "      <td>Growth towards the sub-region and in the long ...</td>\n",
       "      <td>We use digital technology, but it also allows ...</td>\n",
       "      <td>The platform can be used anywhere, data can be...</td>\n",
       "      <td>Reduced carbon footprint through less use of t...</td>\n",
       "    </tr>\n",
       "    <tr>\n",
       "      <th>1</th>\n",
       "      <td>https://wb.semoa-group.com/_adjamagbo_edem</td>\n",
       "      <td>Semoa is a Fintech focused on financial inclus...</td>\n",
       "      <td>Whatsapp Banking\\r\\n\\tProduct presentation: ht...</td>\n",
       "      <td>Large companies such as factories, ports and a...</td>\n",
       "      <td>West Africa</td>\n",
       "      <td>The entire ECOWAS zone will initially start wi...</td>\n",
       "      <td>The innovation within Whatsapp Banking lies in...</td>\n",
       "      <td>Developed on cloud-based technology, it can be...</td>\n",
       "      <td>Thanks to the Semoa Pro and Whatsapp bankin se...</td>\n",
       "    </tr>\n",
       "    <tr>\n",
       "      <th>2</th>\n",
       "      <td>https://talenteum.com/_nicolas_goldstein</td>\n",
       "      <td>TALENTEUM.africa is a web platform that invest...</td>\n",
       "      <td>We are a web platform available on this url ww...</td>\n",
       "      <td>The market for talents/candidates is the Afric...</td>\n",
       "      <td>Our head office is based in Mauritius, however...</td>\n",
       "      <td>We are currently at 100 people in the communit...</td>\n",
       "      <td>We are a platform operator in Africa with the ...</td>\n",
       "      <td>Our solution is duplicable to all African coun...</td>\n",
       "      <td>Our solution allows everyone to find a job whi...</td>\n",
       "    </tr>\n",
       "    <tr>\n",
       "      <th>3</th>\n",
       "      <td>http://chapwifi.bj/_adjassa_azimath</td>\n",
       "      <td>\"Becoming a digital company is a challenge: th...</td>\n",
       "      <td>Chap WiFi will bring free Internet connectivit...</td>\n",
       "      <td>We are in Benin at Cotonou airport for the pil...</td>\n",
       "      <td>Cotonou (Benin)</td>\n",
       "      <td>As key indicators, we want to measure the numb...</td>\n",
       "      <td>We are a solidarity digital advertising channel.</td>\n",
       "      <td>Our architecture is simple and does not requir...</td>\n",
       "      <td>The positive social impacts of the project inc...</td>\n",
       "    </tr>\n",
       "    <tr>\n",
       "      <th>4</th>\n",
       "      <td>https://www.facebook.com/TZenSn/_diop_sokhnalaye</td>\n",
       "      <td>T'Zen is a 100% Senegalese company that specia...</td>\n",
       "      <td>T'Zen markets its own brand of tea/infusion fo...</td>\n",
       "      <td>We are targeting the West African market at th...</td>\n",
       "      <td>West Africa: Senegal</td>\n",
       "      <td>In the medium term, we plan to produce 40,000 ...</td>\n",
       "      <td>Our product stands out thanks to the organic c...</td>\n",
       "      <td>It is duplicable in the sense that the raw mat...</td>\n",
       "      <td>As you know, food is the new major sustainable...</td>\n",
       "    </tr>\n",
       "  </tbody>\n",
       "</table>\n",
       "</div>"
      ],
      "text/plain": [
       "                                           key_main  \\\n",
       "0           http://seneyakaare.com_ndiaye_diariyata   \n",
       "1        https://wb.semoa-group.com/_adjamagbo_edem   \n",
       "2          https://talenteum.com/_nicolas_goldstein   \n",
       "3               http://chapwifi.bj/_adjassa_azimath   \n",
       "4  https://www.facebook.com/TZenSn/_diop_sokhnalaye   \n",
       "\n",
       "                                      url_prez_struc  \\\n",
       "0  Health startup to assist in the diagnosis and ...   \n",
       "1  Semoa is a Fintech focused on financial inclus...   \n",
       "2  TALENTEUM.africa is a web platform that invest...   \n",
       "3  \"Becoming a digital company is a challenge: th...   \n",
       "4  T'Zen is a 100% Senegalese company that specia...   \n",
       "\n",
       "                              url_prez_produit_struc  \\\n",
       "0  SEN'Diabetes: medical platform for diabetes ma...   \n",
       "1  Whatsapp Banking\\r\\n\\tProduct presentation: ht...   \n",
       "2  We are a web platform available on this url ww...   \n",
       "3  Chap WiFi will bring free Internet connectivit...   \n",
       "4  T'Zen markets its own brand of tea/infusion fo...   \n",
       "\n",
       "                               url_prez_marche_struc  \\\n",
       "0  Diabetes patients and specialized health profe...   \n",
       "1  Large companies such as factories, ports and a...   \n",
       "2  The market for talents/candidates is the Afric...   \n",
       "3  We are in Benin at Cotonou airport for the pil...   \n",
       "4  We are targeting the West African market at th...   \n",
       "\n",
       "                                 url_prez_zone_struc  \\\n",
       "0                              14 regions of Senegal   \n",
       "1                                        West Africa   \n",
       "2  Our head office is based in Mauritius, however...   \n",
       "3                                    Cotonou (Benin)   \n",
       "4                               West Africa: Senegal   \n",
       "\n",
       "                             url_prez_objectif_struc  \\\n",
       "0  Growth towards the sub-region and in the long ...   \n",
       "1  The entire ECOWAS zone will initially start wi...   \n",
       "2  We are currently at 100 people in the communit...   \n",
       "3  As key indicators, we want to measure the numb...   \n",
       "4  In the medium term, we plan to produce 40,000 ...   \n",
       "\n",
       "                            url_prez_innovante_struc  \\\n",
       "0  We use digital technology, but it also allows ...   \n",
       "1  The innovation within Whatsapp Banking lies in...   \n",
       "2  We are a platform operator in Africa with the ...   \n",
       "3   We are a solidarity digital advertising channel.   \n",
       "4  Our product stands out thanks to the organic c...   \n",
       "\n",
       "                           url_prez_duplicable_struc  \\\n",
       "0  The platform can be used anywhere, data can be...   \n",
       "1  Developed on cloud-based technology, it can be...   \n",
       "2  Our solution is duplicable to all African coun...   \n",
       "3  Our architecture is simple and does not requir...   \n",
       "4  It is duplicable in the sense that the raw mat...   \n",
       "\n",
       "                              url_prez_durable_struc  \n",
       "0  Reduced carbon footprint through less use of t...  \n",
       "1  Thanks to the Semoa Pro and Whatsapp bankin se...  \n",
       "2  Our solution allows everyone to find a job whi...  \n",
       "3  The positive social impacts of the project inc...  \n",
       "4  As you know, food is the new major sustainable...  "
      ]
     },
     "execution_count": 32,
     "metadata": {},
     "output_type": "execute_result"
    }
   ],
   "source": [
    "X = library.Transformation().X\n",
    "X.head()"
   ]
  },
  {
   "cell_type": "code",
   "execution_count": 35,
   "metadata": {},
   "outputs": [],
   "source": [
    "list_text = []\n",
    "for a in X.keys().values.tolist()[1:]:\n",
    "    list_text = list_text + X[a].values.tolist()"
   ]
  },
  {
   "cell_type": "code",
   "execution_count": 55,
   "metadata": {},
   "outputs": [],
   "source": [
    "import nltk\n",
    "#nltk.download('wordnet')\n",
    "from nltk.corpus import stopwords\n",
    "from nltk.tokenize import word_tokenize\n",
    "from nltk.stem import PorterStemmer\n",
    "from nltk.stem import WordNetLemmatizer\n",
    "import string\n",
    "def remove_punctuation(element):\n",
    "    return element.translate(str.maketrans('', '', string.punctuation))\n",
    "def remove_whitespaces(element):\n",
    "    return element.strip()\n",
    "def tokenize_n_lemm(element):\n",
    "    lemmer=  WordNetLemmatizer()\n",
    "    return ' '.join([lemmer.lemmatize(i) for i in word_tokenize(element) if not i in stopwords.words('english')])\n",
    "def rm_special_char(element):\n",
    "    return element.replace('\\r\\n', ' ').replace('\\t',' ')"
   ]
  },
  {
   "cell_type": "code",
   "execution_count": 29,
   "metadata": {},
   "outputs": [],
   "source": [
    "import nltk\n",
    "from nltk.stem import WordNetLemmatizer\n",
    "from nltk.corpus import wordnet\n",
    "from nltk.corpus import stopwords\n",
    "\n",
    "lemmatizer = WordNetLemmatizer()\n",
    "\n",
    "def nltk2wn_tag( nltk_tag):\n",
    "    if nltk_tag.startswith('J'):\n",
    "        return wordnet.ADJ\n",
    "    elif nltk_tag.startswith('V'):\n",
    "        return wordnet.VERB\n",
    "    elif nltk_tag.startswith('N'):\n",
    "        return wordnet.NOUN\n",
    "    elif nltk_tag.startswith('R'):\n",
    "        return wordnet.ADV\n",
    "    else:                    \n",
    "        return None\n",
    "def is_stopword(element):\n",
    "    if element in stop_words:\n",
    "        return True\n",
    "    else:\n",
    "        return False\n",
    "    \n",
    "def lemmatize_sentence( sentence):\n",
    "    nltk_tagged = nltk.pos_tag(nltk.word_tokenize(sentence))    \n",
    "    wn_tagged = map(lambda x: (x[0], nltk2wn_tag(x[1])), nltk_tagged)\n",
    "\n",
    "    res_words = []\n",
    "    for word, tag in wn_tagged:\n",
    "        if tag is None:                        \n",
    "            res_words.append(word)\n",
    "        else:\n",
    "            res_words.append(lemmatizer.lemmatize(word, tag))\n",
    "\n",
    "    return \" \".join([wrd for wrd in res_words if is_stopword(wrd) == False])\n",
    "\n",
    "def get_set_stopwords():\n",
    "    fileName = library.RefEnv().transformed.format('stopwords.txt')\n",
    "    stopword_file = open(fileName, 'r')\n",
    "    list_stop_word = [line.split(',') for line in stopword_file.readlines()][0]\n",
    "    return set(stopwords.words('english')).union(set(list_stop_word))\n",
    "\n",
    "stop_words = get_set_stopwords()"
   ]
  },
  {
   "cell_type": "code",
   "execution_count": 30,
   "metadata": {},
   "outputs": [
    {
     "data": {
      "text/plain": [
       "'play player play'"
      ]
     },
     "execution_count": 30,
     "metadata": {},
     "output_type": "execute_result"
    }
   ],
   "source": [
    "#tokenize(list_text[0])\n",
    "#element = list_text[0]\n",
    "element ='played player play'\n",
    "lemmatize_sentence(element)"
   ]
  },
  {
   "cell_type": "code",
   "execution_count": 131,
   "metadata": {},
   "outputs": [
    {
     "data": {
      "text/plain": [
       "'Health startup to assist in the diagnosis and management of chronic pathology, including therapeutic education.'"
      ]
     },
     "execution_count": 131,
     "metadata": {},
     "output_type": "execute_result"
    }
   ],
   "source": [
    "element"
   ]
  },
  {
   "cell_type": "code",
   "execution_count": 137,
   "metadata": {},
   "outputs": [
    {
     "data": {
      "text/plain": [
       "True"
      ]
     },
     "execution_count": 137,
     "metadata": {},
     "output_type": "execute_result"
    }
   ],
   "source": [
    "'in' in stop_words"
   ]
  },
  {
   "cell_type": "code",
   "execution_count": 3,
   "metadata": {},
   "outputs": [
    {
     "name": "stdout",
     "output_type": "stream",
     "text": [
      "0.0  minutes 1.1087369918823242  seconds\n",
      "1.0  minutes 91.63458585739136  seconds\n"
     ]
    }
   ],
   "source": [
    "import library\n",
    "import pandas\n",
    "import time\n",
    "\n",
    "t0 = time.time()\n",
    "X = library.Transformation().X\n",
    "print((time.time()-t0)//60, ' minutes',time.time()-t0, ' seconds' )\n",
    "t0 = time.time()\n",
    "text = library.Keyword_extraction(X).X\n",
    "print((time.time()-t0)//60, ' minutes',time.time()-t0, ' seconds' )"
   ]
  },
  {
   "cell_type": "code",
   "execution_count": 10,
   "metadata": {},
   "outputs": [
    {
     "data": {
      "text/html": [
       "<div>\n",
       "<style scoped>\n",
       "    .dataframe tbody tr th:only-of-type {\n",
       "        vertical-align: middle;\n",
       "    }\n",
       "\n",
       "    .dataframe tbody tr th {\n",
       "        vertical-align: top;\n",
       "    }\n",
       "\n",
       "    .dataframe thead th {\n",
       "        text-align: right;\n",
       "    }\n",
       "</style>\n",
       "<table border=\"1\" class=\"dataframe\">\n",
       "  <thead>\n",
       "    <tr style=\"text-align: right;\">\n",
       "      <th></th>\n",
       "      <th>key_main</th>\n",
       "      <th>url_prez_struc</th>\n",
       "      <th>url_prez_produit_struc</th>\n",
       "      <th>url_prez_marche_struc</th>\n",
       "      <th>url_prez_zone_struc</th>\n",
       "      <th>url_prez_objectif_struc</th>\n",
       "      <th>url_prez_innovante_struc</th>\n",
       "      <th>url_prez_duplicable_struc</th>\n",
       "      <th>url_prez_durable_struc</th>\n",
       "    </tr>\n",
       "  </thead>\n",
       "  <tbody>\n",
       "    <tr>\n",
       "      <th>2</th>\n",
       "      <td>https://talenteum.com/_nicolas_goldstein</td>\n",
       "      <td>TALENTEUM.africa is a web platform that invest...</td>\n",
       "      <td>We are a web platform available on this url ww...</td>\n",
       "      <td>The market for talents/candidates is the Afric...</td>\n",
       "      <td>Our head office is based in Mauritius, however...</td>\n",
       "      <td>We are currently at 100 people in the communit...</td>\n",
       "      <td>We are a platform operator in Africa with the ...</td>\n",
       "      <td>Our solution is duplicable to all African coun...</td>\n",
       "      <td>Our solution allows everyone to find a job whi...</td>\n",
       "    </tr>\n",
       "  </tbody>\n",
       "</table>\n",
       "</div>"
      ],
      "text/plain": [
       "                                   key_main  \\\n",
       "2  https://talenteum.com/_nicolas_goldstein   \n",
       "\n",
       "                                      url_prez_struc  \\\n",
       "2  TALENTEUM.africa is a web platform that invest...   \n",
       "\n",
       "                              url_prez_produit_struc  \\\n",
       "2  We are a web platform available on this url ww...   \n",
       "\n",
       "                               url_prez_marche_struc  \\\n",
       "2  The market for talents/candidates is the Afric...   \n",
       "\n",
       "                                 url_prez_zone_struc  \\\n",
       "2  Our head office is based in Mauritius, however...   \n",
       "\n",
       "                             url_prez_objectif_struc  \\\n",
       "2  We are currently at 100 people in the communit...   \n",
       "\n",
       "                            url_prez_innovante_struc  \\\n",
       "2  We are a platform operator in Africa with the ...   \n",
       "\n",
       "                           url_prez_duplicable_struc  \\\n",
       "2  Our solution is duplicable to all African coun...   \n",
       "\n",
       "                              url_prez_durable_struc  \n",
       "2  Our solution allows everyone to find a job whi...  "
      ]
     },
     "execution_count": 10,
     "metadata": {},
     "output_type": "execute_result"
    }
   ],
   "source": [
    "key = 'https://talenteum.com/_nicolas_goldstein'\n",
    "output = library.RefEnv().transformed.format('traduct.json')\n",
    "raw = pandas.read_json(output).fillna('VIDE')\n",
    "raw[raw['key_main'] == key]"
   ]
  },
  {
   "cell_type": "code",
   "execution_count": 8,
   "metadata": {},
   "outputs": [],
   "source": [
    "text_list = []\n",
    "head = text.keys().values.tolist()[1:]\n",
    "for e in head:\n",
    "    text_list += text[e].values.tolist()"
   ]
  },
  {
   "cell_type": "code",
   "execution_count": 6,
   "metadata": {},
   "outputs": [
    {
     "data": {
      "text/plain": [
       "[]"
      ]
     },
     "execution_count": 6,
     "metadata": {},
     "output_type": "execute_result"
    }
   ],
   "source": [
    "[e for e in text_list if 'need' in e]"
   ]
  },
  {
   "cell_type": "code",
   "execution_count": 13,
   "metadata": {},
   "outputs": [
    {
     "data": {
      "text/plain": [
       "array(['SAFI offers innovative platform-based transportation strategy which enables users to access short term transportation on as needed basis. Its innovative technology allows for comfort of requesting a ride from the convenience of a phone. Also, franchises are created for delivery services where individuals and businesses are given opportunity to acquire the Safi franchise. \\r\\nSAFI is providing training to technicians and mechanics in employable skills in selected fields of engineering and also provide training in entrepreneurship capacity for the value chain of the business\\r\\n\\r\\nThis project is a made in Rwanda Project with primary focus on transportation but with an immense impact on Rwanda as a country and the entire East Africa region as this would address unemployment with our recruitment of both genders as Mechanics, Assembly line workers, Inspectors, Researchers, Agents ,Electronic engineers ,Charging stations attendants, wash station attendants, electricians and much more. SAFI will also train drivers on road safety and the use of the app. We have partnered with Technical schools, other institutions, as well as organizations with ready workforce to gradually move these citizens into massive employment. All our parts are assembled, repaired, and redesigned in our warehouse and operated throughout Rwanda and beyond.'],\n",
       "      dtype=object)"
      ]
     },
     "execution_count": 13,
     "metadata": {},
     "output_type": "execute_result"
    }
   ],
   "source": [
    "raw[raw['key_main'] == 'http://www.safiride.com_erhabor_ikponmwosa']['url_prez_produit_struc'].values"
   ]
  },
  {
   "cell_type": "code",
   "execution_count": null,
   "metadata": {},
   "outputs": [],
   "source": []
  }
 ],
 "metadata": {
  "kernelspec": {
   "display_name": "Python 3",
   "language": "python",
   "name": "python3"
  },
  "language_info": {
   "codemirror_mode": {
    "name": "ipython",
    "version": 3
   },
   "file_extension": ".py",
   "mimetype": "text/x-python",
   "name": "python",
   "nbconvert_exporter": "python",
   "pygments_lexer": "ipython3",
   "version": "3.7.3"
  }
 },
 "nbformat": 4,
 "nbformat_minor": 4
}

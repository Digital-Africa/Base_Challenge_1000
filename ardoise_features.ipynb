{
 "cells": [
  {
   "cell_type": "code",
   "execution_count": null,
   "metadata": {},
   "outputs": [],
   "source": [
    "class RefEnv(object):\n",
    "    \"\"\"docstring for RefEnv\"\"\"\n",
    "    def __init__(self):\n",
    "        self.dst = 'Source'\n",
    "        self.Export_folder = 'Export'\n",
    "        self.src = '/Users/py3/Google Drive (mohamed.diabakhate@digital-africa.co)/PROJET DATA/DATA/{}'\n",
    "        self.transformed = '/Users/py3/Google Drive (mohamed.diabakhate@digital-africa.co)/PROJET DATA/DATA/Transformed/{}'\n",
    "\n",
    "class Transformation(object):\n",
    "    \"\"\"docstring for RefEnv\"\"\"\n",
    "    def __init__(self):\n",
    "        \n",
    "    def categorie_structure(self,cat_struc,cat_autre_struc):\n",
    "        if cat_struc == \"Santé, bien être, et protection sociale\" or cat_struc == \"Health, well-being and social protection\":\n",
    "            return \"sante\" \n",
    "        if cat_struc == \"Fintech\":\n",
    "            return \"finance\"\n",
    "        if cat_struc == \"Technologies émergentes\" or cat_struc == \"Emerging technologies\":\n",
    "            return \"technologie\"\n",
    "        if cat_struc == \"Médias, édition et communication\" or cat_struc ==\"Media, publishing and communication\":\n",
    "            return \"media\"\n",
    "        if cat_struc == \"Agriculture, territoires ruraux et ressources naturelles\" or cat_struc == \"Agriculture, rural areas and natural resources\":\n",
    "            return  \"agriculture\"\n",
    "        if cat_struc == \"Education, formation professionnelle et emploi\" or cat_struc ==\"Education, vocational training and employment\":\n",
    "            return  \"education\" \n",
    "        if cat_struc == \"E-commerce, marketing et distribution\" or cat_struc == \"E-commerce, marketing and distribution\":\n",
    "            return  \"ecommerce\"\n",
    "        if cat_struc == \"Gouvernement ouvert et transformation sociale\" or cat_struc == \"Open government and social transformation\":\n",
    "            return  \"gouvernement\"\n",
    "        if cat_struc == \"Energie\" or cat_struc == \"Energy\":\n",
    "            return  \"energie\" \n",
    "        if cat_struc == \"Territoires intelligents et mobilité\" or cat_struc == \"Intelligent territories and mobility\":\n",
    "            return  \"mobilite\"\n",
    "        if cat_struc == \"Industries culturelles et créatives\" or cat_struc == \"Cultural and creative industries\":\n",
    "            return  \"culture\"\n",
    "        if (cat_struc == \"Autre (précisez)\" or cat_struc == \"Other - please specify\" or cat_struc == \"autre (précisez)\"):\n",
    "            return  'autres'\n",
    "        if cat_struc != cat_struc:\n",
    "            return 'non renseigné'\n",
    "        else:\n",
    "            return cat_struc"
   ]
  }
 ],
 "metadata": {
  "kernelspec": {
   "display_name": "Python 3",
   "language": "python",
   "name": "python3"
  },
  "language_info": {
   "codemirror_mode": {
    "name": "ipython",
    "version": 3
   },
   "file_extension": ".py",
   "mimetype": "text/x-python",
   "name": "python",
   "nbconvert_exporter": "python",
   "pygments_lexer": "ipython3",
   "version": "3.7.3"
  }
 },
 "nbformat": 4,
 "nbformat_minor": 4
}

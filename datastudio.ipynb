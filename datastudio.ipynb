{
 "cells": [
  {
   "cell_type": "code",
   "execution_count": 1,
   "metadata": {},
   "outputs": [],
   "source": [
    "import pandas\n",
    "import collections \n",
    "import math\n",
    "\n",
    "class RefEnv(object):\n",
    "    \"\"\"docstring for RefEnv\"\"\"\n",
    "    def __init__(self):\n",
    "        self.dst = 'Source'\n",
    "        self.Export_folder = 'Export'\n",
    "        #self.src = '/Users/py3/Google Drive (mohamed.diabakhate@digital-africa.co)/PROJET DATA/DATA'\n",
    "        self.src = '/Volumes/GoogleDrive/My Drive/PROJET DATA/DATA/{}'\n",
    "        self.input = self.src.format('Transformed/df1_clean.csv')\n",
    "        \n",
    "src = RefEnv().src+'/Transformed/{}'"
   ]
  },
  {
   "cell_type": "code",
   "execution_count": 3,
   "metadata": {},
   "outputs": [
    {
     "data": {
      "text/plain": [
       "'/Volumes/GoogleDrive/My Drive/PROJET DATA/DATA/Transformed/df1_clean.csv'"
      ]
     },
     "execution_count": 3,
     "metadata": {},
     "output_type": "execute_result"
    }
   ],
   "source": [
    "input_file = RefEnv().input\n",
    "input_file"
   ]
  },
  {
   "cell_type": "code",
   "execution_count": 4,
   "metadata": {},
   "outputs": [
    {
     "data": {
      "text/html": [
       "<div>\n",
       "<style scoped>\n",
       "    .dataframe tbody tr th:only-of-type {\n",
       "        vertical-align: middle;\n",
       "    }\n",
       "\n",
       "    .dataframe tbody tr th {\n",
       "        vertical-align: top;\n",
       "    }\n",
       "\n",
       "    .dataframe thead th {\n",
       "        text-align: right;\n",
       "    }\n",
       "</style>\n",
       "<table border=\"1\" class=\"dataframe\">\n",
       "  <thead>\n",
       "    <tr style=\"text-align: right;\">\n",
       "      <th></th>\n",
       "      <th>Unnamed: 0</th>\n",
       "      <th>civil_pers</th>\n",
       "      <th>nom_pers</th>\n",
       "      <th>prenom_pers</th>\n",
       "      <th>nation_pers</th>\n",
       "      <th>age_pers</th>\n",
       "      <th>parcours_pers</th>\n",
       "      <th>email_pers</th>\n",
       "      <th>mobile_pers</th>\n",
       "      <th>fixe_pers</th>\n",
       "      <th>...</th>\n",
       "      <th>iduser_digitafr</th>\n",
       "      <th>time_digitafr</th>\n",
       "      <th>last_update_digitafr</th>\n",
       "      <th>created_by_digitafr</th>\n",
       "      <th>updated_by_digitafr</th>\n",
       "      <th>draft_digitafr</th>\n",
       "      <th>ip_digitafr</th>\n",
       "      <th>id_digitafr</th>\n",
       "      <th>key_digitafr</th>\n",
       "      <th>key_main</th>\n",
       "    </tr>\n",
       "  </thead>\n",
       "  <tbody>\n",
       "    <tr>\n",
       "      <th>0</th>\n",
       "      <td>1</td>\n",
       "      <td>Mme</td>\n",
       "      <td>NDIAYE</td>\n",
       "      <td>Diariyata</td>\n",
       "      <td>France</td>\n",
       "      <td>35-50</td>\n",
       "      <td>Infirmière depuis plus de 10 ans et actuelleme...</td>\n",
       "      <td>D.NDIAYE@seneyakaare.com</td>\n",
       "      <td>33617977787</td>\n",
       "      <td>NaN</td>\n",
       "      <td>...</td>\n",
       "      <td>d.ndiaye@seneyakaare.com</td>\n",
       "      <td>2019-11-05 14:26:17</td>\n",
       "      <td>2019-11-05 14:26:17</td>\n",
       "      <td>d.ndiaye@seneyakaare.com</td>\n",
       "      <td>d.ndiaye@seneyakaare.com</td>\n",
       "      <td>0</td>\n",
       "      <td>212.99.18.170</td>\n",
       "      <td>8</td>\n",
       "      <td>zaodk</td>\n",
       "      <td>http://seneyakaare.com_ndiaye_diariyata</td>\n",
       "    </tr>\n",
       "    <tr>\n",
       "      <th>1</th>\n",
       "      <td>2</td>\n",
       "      <td>M</td>\n",
       "      <td>ADJAMAGBO</td>\n",
       "      <td>Edem</td>\n",
       "      <td>Togo</td>\n",
       "      <td>25-34</td>\n",
       "      <td>Semoa est une Fintech focalisée sur l’inclusio...</td>\n",
       "      <td>edem.adjamagbo@semoa-group.com</td>\n",
       "      <td>+33626291062</td>\n",
       "      <td>NaN</td>\n",
       "      <td>...</td>\n",
       "      <td>edem.adjamagbo@semoa-group.com</td>\n",
       "      <td>2019-11-07 15:31:18</td>\n",
       "      <td>2019-11-07 15:31:18</td>\n",
       "      <td>edem.adjamagbo@semoa-group.com</td>\n",
       "      <td>edem.adjamagbo@semoa-group.com</td>\n",
       "      <td>0</td>\n",
       "      <td>86.217.24.46</td>\n",
       "      <td>13</td>\n",
       "      <td>iwj76</td>\n",
       "      <td>https://wb.semoa-group.com/_adjamagbo_edem</td>\n",
       "    </tr>\n",
       "    <tr>\n",
       "      <th>2</th>\n",
       "      <td>3</td>\n",
       "      <td>M</td>\n",
       "      <td>Nicolas</td>\n",
       "      <td>Goldstein</td>\n",
       "      <td>Maurice</td>\n",
       "      <td>35-50</td>\n",
       "      <td>Entrepreneur depuis l'age de 18 ans, je suis s...</td>\n",
       "      <td>partenariat@talenteum.com</td>\n",
       "      <td>+230 580 49 448</td>\n",
       "      <td>NaN</td>\n",
       "      <td>...</td>\n",
       "      <td>ngoldstein@mauritius-startup-incubator.com</td>\n",
       "      <td>2019-11-08 07:56:14</td>\n",
       "      <td>2019-11-08 07:56:14</td>\n",
       "      <td>ngoldstein@mauritius-startup-incubator.com</td>\n",
       "      <td>ngoldstein@mauritius-startup-incubator.com</td>\n",
       "      <td>0</td>\n",
       "      <td>102.114.42.197</td>\n",
       "      <td>14</td>\n",
       "      <td>5rrhu</td>\n",
       "      <td>https://talenteum.com/_nicolas_goldstein</td>\n",
       "    </tr>\n",
       "    <tr>\n",
       "      <th>3</th>\n",
       "      <td>4</td>\n",
       "      <td>Mme</td>\n",
       "      <td>ADJASSA</td>\n",
       "      <td>Azimath</td>\n",
       "      <td>Bénin</td>\n",
       "      <td>25-34</td>\n",
       "      <td>Après une Licence en Génie Electrique à l’Univ...</td>\n",
       "      <td>azimath.adjassa@gmail.com</td>\n",
       "      <td>+22995000251</td>\n",
       "      <td>NaN</td>\n",
       "      <td>...</td>\n",
       "      <td>azimath.adjassa@gmail.com</td>\n",
       "      <td>2019-11-08 12:59:38</td>\n",
       "      <td>2019-11-08 12:59:38</td>\n",
       "      <td>azimath.adjassa@gmail.com</td>\n",
       "      <td>azimath.adjassa@gmail.com</td>\n",
       "      <td>0</td>\n",
       "      <td>41.138.91.136</td>\n",
       "      <td>15</td>\n",
       "      <td>zazu1</td>\n",
       "      <td>http://chapwifi.bj/_adjassa_azimath</td>\n",
       "    </tr>\n",
       "    <tr>\n",
       "      <th>4</th>\n",
       "      <td>5</td>\n",
       "      <td>Mme</td>\n",
       "      <td>DIOP</td>\n",
       "      <td>Sokhna Laye</td>\n",
       "      <td>Sénégal</td>\n",
       "      <td>25-34</td>\n",
       "      <td>Actuellement, je suis auditeur financier car j...</td>\n",
       "      <td>dr.sokhnalaye@gmail.com</td>\n",
       "      <td>+221781845494</td>\n",
       "      <td>NaN</td>\n",
       "      <td>...</td>\n",
       "      <td>dr.sokhnalaye@gmail.com</td>\n",
       "      <td>2019-11-08 19:46:26</td>\n",
       "      <td>2019-11-08 19:46:26</td>\n",
       "      <td>dr.sokhnalaye@gmail.com</td>\n",
       "      <td>dr.sokhnalaye@gmail.com</td>\n",
       "      <td>0</td>\n",
       "      <td>193.221.117.9</td>\n",
       "      <td>16</td>\n",
       "      <td>u9v6p</td>\n",
       "      <td>https://www.facebook.com/TZenSn/_diop_sokhnalaye</td>\n",
       "    </tr>\n",
       "  </tbody>\n",
       "</table>\n",
       "<p>5 rows × 86 columns</p>\n",
       "</div>"
      ],
      "text/plain": [
       "   Unnamed: 0 civil_pers   nom_pers  prenom_pers nation_pers age_pers  \\\n",
       "0           1        Mme     NDIAYE    Diariyata      France    35-50   \n",
       "1           2          M  ADJAMAGBO         Edem        Togo    25-34   \n",
       "2           3          M    Nicolas    Goldstein     Maurice    35-50   \n",
       "3           4        Mme    ADJASSA      Azimath       Bénin    25-34   \n",
       "4           5        Mme       DIOP  Sokhna Laye     Sénégal    25-34   \n",
       "\n",
       "                                       parcours_pers  \\\n",
       "0  Infirmière depuis plus de 10 ans et actuelleme...   \n",
       "1  Semoa est une Fintech focalisée sur l’inclusio...   \n",
       "2  Entrepreneur depuis l'age de 18 ans, je suis s...   \n",
       "3  Après une Licence en Génie Electrique à l’Univ...   \n",
       "4  Actuellement, je suis auditeur financier car j...   \n",
       "\n",
       "                       email_pers      mobile_pers fixe_pers  ...  \\\n",
       "0        D.NDIAYE@seneyakaare.com      33617977787       NaN  ...   \n",
       "1  edem.adjamagbo@semoa-group.com     +33626291062       NaN  ...   \n",
       "2       partenariat@talenteum.com  +230 580 49 448       NaN  ...   \n",
       "3       azimath.adjassa@gmail.com     +22995000251       NaN  ...   \n",
       "4         dr.sokhnalaye@gmail.com    +221781845494       NaN  ...   \n",
       "\n",
       "                              iduser_digitafr        time_digitafr  \\\n",
       "0                    d.ndiaye@seneyakaare.com  2019-11-05 14:26:17   \n",
       "1              edem.adjamagbo@semoa-group.com  2019-11-07 15:31:18   \n",
       "2  ngoldstein@mauritius-startup-incubator.com  2019-11-08 07:56:14   \n",
       "3                   azimath.adjassa@gmail.com  2019-11-08 12:59:38   \n",
       "4                     dr.sokhnalaye@gmail.com  2019-11-08 19:46:26   \n",
       "\n",
       "  last_update_digitafr                         created_by_digitafr  \\\n",
       "0  2019-11-05 14:26:17                    d.ndiaye@seneyakaare.com   \n",
       "1  2019-11-07 15:31:18              edem.adjamagbo@semoa-group.com   \n",
       "2  2019-11-08 07:56:14  ngoldstein@mauritius-startup-incubator.com   \n",
       "3  2019-11-08 12:59:38                   azimath.adjassa@gmail.com   \n",
       "4  2019-11-08 19:46:26                     dr.sokhnalaye@gmail.com   \n",
       "\n",
       "                          updated_by_digitafr draft_digitafr     ip_digitafr  \\\n",
       "0                    d.ndiaye@seneyakaare.com              0   212.99.18.170   \n",
       "1              edem.adjamagbo@semoa-group.com              0    86.217.24.46   \n",
       "2  ngoldstein@mauritius-startup-incubator.com              0  102.114.42.197   \n",
       "3                   azimath.adjassa@gmail.com              0   41.138.91.136   \n",
       "4                     dr.sokhnalaye@gmail.com              0   193.221.117.9   \n",
       "\n",
       "  id_digitafr key_digitafr                                          key_main  \n",
       "0           8        zaodk           http://seneyakaare.com_ndiaye_diariyata  \n",
       "1          13        iwj76        https://wb.semoa-group.com/_adjamagbo_edem  \n",
       "2          14        5rrhu          https://talenteum.com/_nicolas_goldstein  \n",
       "3          15        zazu1               http://chapwifi.bj/_adjassa_azimath  \n",
       "4          16        u9v6p  https://www.facebook.com/TZenSn/_diop_sokhnalaye  \n",
       "\n",
       "[5 rows x 86 columns]"
      ]
     },
     "execution_count": 4,
     "metadata": {},
     "output_type": "execute_result"
    }
   ],
   "source": [
    "X = pandas.read_csv(input_file, encoding = \"UTF-8\")\n",
    "X.head()"
   ]
  },
  {
   "cell_type": "markdown",
   "metadata": {},
   "source": [
    "# Structure Catégorie"
   ]
  },
  {
   "cell_type": "code",
   "execution_count": 71,
   "metadata": {},
   "outputs": [],
   "source": [
    "def categorie_structure(cat_struc,cat_autre_struc):\n",
    "    if cat_struc == \"Santé, bien être, et protection sociale\" or cat_struc == \"Health, well-being and social protection\":\n",
    "        return \"sante\" \n",
    "    if cat_struc == \"Fintech\":\n",
    "        return \"finance\"\n",
    "    if cat_struc == \"Technologies émergentes\" or cat_struc == \"Emerging technologies\":\n",
    "        return \"technologie\"\n",
    "    if cat_struc == \"Médias, édition et communication\" or cat_struc ==\"Media, publishing and communication\":\n",
    "        return \"media\"\n",
    "    if cat_struc == \"Agriculture, territoires ruraux et ressources naturelles\" or cat_struc == \"Agriculture, rural areas and natural resources\":\n",
    "        return  \"agriculture\"\n",
    "    if cat_struc == \"Education, formation professionnelle et emploi\" or cat_struc ==\"Education, vocational training and employment\":\n",
    "        return  \"education\" \n",
    "    if cat_struc == \"E-commerce, marketing et distribution\" or cat_struc == \"E-commerce, marketing and distribution\":\n",
    "        return  \"ecommerce\"\n",
    "    if cat_struc == \"Gouvernement ouvert et transformation sociale\" or cat_struc == \"Open government and social transformation\":\n",
    "        return  \"gouvernement\",\n",
    "    if cat_struc == \"Energie\" or cat_struc == \"Energy\":\n",
    "        return  \"energie\" \n",
    "    if cat_struc == \"Territoires intelligents et mobilité\" or cat_struc == \"Intelligent territories and mobility\":\n",
    "        return  \"mobilite\"\n",
    "    if cat_struc == \"Industries culturelles et créatives\" or cat_struc == \"Cultural and creative industries\":\n",
    "        return  \"culture\"\n",
    "    if (cat_struc == \"Autre (précisez)\" or cat_struc == \"Other - please specify\" or cat_struc == \"autre (précisez)\") and (math.isnan(cat_autre_struc)):\n",
    "        return  float('nan')\n",
    "    else:\n",
    "        return cat_struc"
   ]
  },
  {
   "cell_type": "code",
   "execution_count": 72,
   "metadata": {},
   "outputs": [],
   "source": [
    "X['cat_struc'] = X.apply(lambda x: categorie_structure(x['cat_struc'], x['cat_autre_struc']), axis=1)"
   ]
  },
  {
   "cell_type": "markdown",
   "metadata": {},
   "source": [
    "# Pays structure"
   ]
  },
  {
   "cell_type": "markdown",
   "metadata": {},
   "source": [
    "# Langue"
   ]
  },
  {
   "cell_type": "code",
   "execution_count": 106,
   "metadata": {},
   "outputs": [],
   "source": [
    "def define_langue(element, radical):\n",
    "    if element != element or element == None:\n",
    "        return 0\n",
    "    if radical in element.lower():\n",
    "        return 1\n",
    "    else:\n",
    "        return 0"
   ]
  },
  {
   "cell_type": "code",
   "execution_count": 107,
   "metadata": {},
   "outputs": [],
   "source": [
    "X['lang_en'] = X.apply(lambda x: define_langue(x['lang_pers'], 'ngl'), axis=1)\n",
    "X['lang_fr'] = X.apply(lambda x: define_langue(x['lang_pers'], 'fr'), axis=1)\n",
    "X['lang_arab'] = X.apply(lambda x: define_langue(x['lang_pers'], 'arab'), axis=1)\n",
    "X['lang_port'] = X.apply(lambda x: define_langue(x['lang_pers'], 'port'), axis=1)"
   ]
  },
  {
   "cell_type": "markdown",
   "metadata": {},
   "source": [
    "# Age"
   ]
  },
  {
   "cell_type": "code",
   "execution_count": 112,
   "metadata": {},
   "outputs": [],
   "source": [
    "def normalize_age(age_pers):\n",
    "    if age_pers==\"Over 50\":\n",
    "        return \"Plus de 50 ans\"\n",
    "    if age_pers==\"Under 25\":\n",
    "        return \"Moins de 25 ans\"\n",
    "    else:\n",
    "        return age_pers"
   ]
  },
  {
   "cell_type": "code",
   "execution_count": 113,
   "metadata": {},
   "outputs": [],
   "source": [
    "X['age_pers'] = X['age_pers'].apply(normalize_age)"
   ]
  },
  {
   "cell_type": "code",
   "execution_count": 130,
   "metadata": {},
   "outputs": [],
   "source": [
    "import datetime\n",
    "def matur(element):\n",
    "    if element <= datetime.datetime.strptime('2017-11-01', '%Y-%m-%d'):\n",
    "        return 1\n",
    "    else:\n",
    "        return 0\n",
    "\n",
    "X['date_struc'] = X['date_struc'].astype('datetime64[ns]')\n",
    "X['mature_struc'] = X['date_struc'].apply(matur)"
   ]
  },
  {
   "cell_type": "code",
   "execution_count": null,
   "metadata": {},
   "outputs": [],
   "source": [
    "#"
   ]
  },
  {
   "cell_type": "code",
   "execution_count": 116,
   "metadata": {},
   "outputs": [
    {
     "data": {
      "text/plain": [
       "['date_struc', 'last_update_digitafr', 'updated_by_digitafr']"
      ]
     },
     "execution_count": 116,
     "metadata": {},
     "output_type": "execute_result"
    }
   ],
   "source": [
    "[a for a in X.keys().values.tolist() if 'date' in a]"
   ]
  },
  {
   "cell_type": "code",
   "execution_count": 73,
   "metadata": {},
   "outputs": [
    {
     "data": {
      "text/plain": [
       "[]"
      ]
     },
     "execution_count": 73,
     "metadata": {},
     "output_type": "execute_result"
    }
   ],
   "source": [
    "[a for a in pandas.read_csv(RefEnv().src.format('Transformed/D-stats/dstat.csv')).keys().values.tolist() if 'lang_pers' in a]"
   ]
  },
  {
   "cell_type": "code",
   "execution_count": null,
   "metadata": {},
   "outputs": [],
   "source": []
  }
 ],
 "metadata": {
  "kernelspec": {
   "display_name": "Python 3",
   "language": "python",
   "name": "python3"
  },
  "language_info": {
   "codemirror_mode": {
    "name": "ipython",
    "version": 3
   },
   "file_extension": ".py",
   "mimetype": "text/x-python",
   "name": "python",
   "nbconvert_exporter": "python",
   "pygments_lexer": "ipython3",
   "version": "3.7.3"
  }
 },
 "nbformat": 4,
 "nbformat_minor": 4
}
